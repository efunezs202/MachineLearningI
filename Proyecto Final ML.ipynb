{
 "cells": [
  {
   "cell_type": "markdown",
   "id": "bafe79c2-bc33-4ba0-86c5-ca144cfb67fd",
   "metadata": {},
   "source": [
    "### Proyecto Final Estuardo Funes Solares Carné: 20032042"
   ]
  },
  {
   "cell_type": "code",
   "execution_count": 1,
   "id": "e0b3b225-71ae-4487-a2a3-4b77427feb35",
   "metadata": {},
   "outputs": [],
   "source": [
    "#Importación de Librerías\n",
    "\n",
    "import os\n",
    "import shutil\n",
    "import sys\n",
    "\n",
    "import numpy as np\n",
    "import pandas as pd\n",
    "import seaborn as sns\n",
    "import tensorflow as tf\n",
    "import sklearn\n",
    "from tensorflow import keras\n",
    "from sklearn.model_selection import train_test_split \n",
    "\n",
    "from IPython.display import display, Image\n",
    "import matplotlib.pyplot as plt\n",
    "import matplotlib.animation as animation\n",
    "%matplotlib inline\n",
    "\n",
    "from sklearn.linear_model import LogisticRegression\n",
    "from sklearn.discriminant_analysis import LinearDiscriminantAnalysis\n",
    "from sklearn.tree import DecisionTreeClassifier \n",
    "from sklearn.ensemble import RandomForestClassifier\n",
    "from sklearn.ensemble import GradientBoostingClassifier\n",
    "#from xgboost import XGBClassifier\n",
    "from sklearn.ensemble import ExtraTreesClassifier\n",
    "from sklearn.ensemble import BaggingClassifier\n",
    "from sklearn.ensemble import AdaBoostClassifier\n",
    "\n",
    "#libraries for model evaluation\n",
    "from sklearn.metrics import accuracy_score\n",
    "from sklearn.metrics import plot_confusion_matrix\n",
    "from sklearn.metrics import classification_report\n",
    "\n",
    "import datetime\n",
    "import warnings\n",
    "warnings.filterwarnings('ignore')"
   ]
  },
  {
   "cell_type": "markdown",
   "id": "c7c718ca-9f55-4ff1-a96e-8caa3b256d0c",
   "metadata": {},
   "source": [
    "### Carga de Datos"
   ]
  },
  {
   "cell_type": "code",
   "execution_count": 2,
   "id": "a96e212d-c510-48d0-ac60-673c6ec64f01",
   "metadata": {},
   "outputs": [],
   "source": [
    "data=pd.read_csv('data_titanic_proyecto.csv')"
   ]
  },
  {
   "cell_type": "markdown",
   "id": "15de3e9d-e6fb-40e7-bde4-391831ec9980",
   "metadata": {},
   "source": [
    "#### Análisis Exploratorio de Datos"
   ]
  },
  {
   "cell_type": "code",
   "execution_count": 3,
   "id": "d6104466-701d-4918-aa93-e702486d6889",
   "metadata": {},
   "outputs": [
    {
     "data": {
      "text/html": [
       "<div>\n",
       "<style scoped>\n",
       "    .dataframe tbody tr th:only-of-type {\n",
       "        vertical-align: middle;\n",
       "    }\n",
       "\n",
       "    .dataframe tbody tr th {\n",
       "        vertical-align: top;\n",
       "    }\n",
       "\n",
       "    .dataframe thead th {\n",
       "        text-align: right;\n",
       "    }\n",
       "</style>\n",
       "<table border=\"1\" class=\"dataframe\">\n",
       "  <thead>\n",
       "    <tr style=\"text-align: right;\">\n",
       "      <th></th>\n",
       "      <th>PassengerId</th>\n",
       "      <th>Name</th>\n",
       "      <th>Age</th>\n",
       "      <th>SibSp</th>\n",
       "      <th>Parch</th>\n",
       "      <th>Ticket</th>\n",
       "      <th>Fare</th>\n",
       "      <th>Cabin</th>\n",
       "      <th>Embarked</th>\n",
       "      <th>passenger_class</th>\n",
       "      <th>passenger_sex</th>\n",
       "      <th>passenger_survived</th>\n",
       "    </tr>\n",
       "  </thead>\n",
       "  <tbody>\n",
       "    <tr>\n",
       "      <th>0</th>\n",
       "      <td>1</td>\n",
       "      <td>Braund, Mr. Owen Harris</td>\n",
       "      <td>22.0</td>\n",
       "      <td>1</td>\n",
       "      <td>0</td>\n",
       "      <td>A/5 21171</td>\n",
       "      <td>7.2500</td>\n",
       "      <td>NaN</td>\n",
       "      <td>S</td>\n",
       "      <td>Lower</td>\n",
       "      <td>M</td>\n",
       "      <td>N</td>\n",
       "    </tr>\n",
       "    <tr>\n",
       "      <th>1</th>\n",
       "      <td>2</td>\n",
       "      <td>Cumings, Mrs. John Bradley (Florence Briggs Th...</td>\n",
       "      <td>38.0</td>\n",
       "      <td>1</td>\n",
       "      <td>0</td>\n",
       "      <td>PC 17599</td>\n",
       "      <td>71.2833</td>\n",
       "      <td>C85</td>\n",
       "      <td>C</td>\n",
       "      <td>Upper</td>\n",
       "      <td>F</td>\n",
       "      <td>Y</td>\n",
       "    </tr>\n",
       "    <tr>\n",
       "      <th>2</th>\n",
       "      <td>3</td>\n",
       "      <td>Heikkinen, Miss. Laina</td>\n",
       "      <td>26.0</td>\n",
       "      <td>0</td>\n",
       "      <td>0</td>\n",
       "      <td>STON/O2. 3101282</td>\n",
       "      <td>7.9250</td>\n",
       "      <td>NaN</td>\n",
       "      <td>S</td>\n",
       "      <td>Lower</td>\n",
       "      <td>F</td>\n",
       "      <td>Y</td>\n",
       "    </tr>\n",
       "    <tr>\n",
       "      <th>3</th>\n",
       "      <td>4</td>\n",
       "      <td>Futrelle, Mrs. Jacques Heath (Lily May Peel)</td>\n",
       "      <td>35.0</td>\n",
       "      <td>1</td>\n",
       "      <td>0</td>\n",
       "      <td>113803</td>\n",
       "      <td>53.1000</td>\n",
       "      <td>C123</td>\n",
       "      <td>S</td>\n",
       "      <td>Upper</td>\n",
       "      <td>F</td>\n",
       "      <td>Y</td>\n",
       "    </tr>\n",
       "    <tr>\n",
       "      <th>4</th>\n",
       "      <td>5</td>\n",
       "      <td>Allen, Mr. William Henry</td>\n",
       "      <td>35.0</td>\n",
       "      <td>0</td>\n",
       "      <td>0</td>\n",
       "      <td>373450</td>\n",
       "      <td>8.0500</td>\n",
       "      <td>NaN</td>\n",
       "      <td>S</td>\n",
       "      <td>Lower</td>\n",
       "      <td>M</td>\n",
       "      <td>N</td>\n",
       "    </tr>\n",
       "  </tbody>\n",
       "</table>\n",
       "</div>"
      ],
      "text/plain": [
       "   PassengerId                                               Name   Age  \\\n",
       "0            1                            Braund, Mr. Owen Harris  22.0   \n",
       "1            2  Cumings, Mrs. John Bradley (Florence Briggs Th...  38.0   \n",
       "2            3                             Heikkinen, Miss. Laina  26.0   \n",
       "3            4       Futrelle, Mrs. Jacques Heath (Lily May Peel)  35.0   \n",
       "4            5                           Allen, Mr. William Henry  35.0   \n",
       "\n",
       "   SibSp  Parch            Ticket     Fare Cabin Embarked passenger_class  \\\n",
       "0      1      0         A/5 21171   7.2500   NaN        S           Lower   \n",
       "1      1      0          PC 17599  71.2833   C85        C           Upper   \n",
       "2      0      0  STON/O2. 3101282   7.9250   NaN        S           Lower   \n",
       "3      1      0            113803  53.1000  C123        S           Upper   \n",
       "4      0      0            373450   8.0500   NaN        S           Lower   \n",
       "\n",
       "  passenger_sex passenger_survived  \n",
       "0             M                  N  \n",
       "1             F                  Y  \n",
       "2             F                  Y  \n",
       "3             F                  Y  \n",
       "4             M                  N  "
      ]
     },
     "execution_count": 3,
     "metadata": {},
     "output_type": "execute_result"
    }
   ],
   "source": [
    "data.head()"
   ]
  },
  {
   "cell_type": "code",
   "execution_count": 4,
   "id": "558ef5ab-170a-40f4-9f35-14bb770ce9eb",
   "metadata": {},
   "outputs": [
    {
     "name": "stdout",
     "output_type": "stream",
     "text": [
      "Age 0.1987  % missing values.\n",
      "\n",
      "Cabin 0.771  % missing values.\n",
      "\n",
      "Embarked 0.0022  % missing values.\n",
      "\n"
     ]
    }
   ],
   "source": [
    "features=[features for features in data.columns if data[features].isnull().sum()>1]\n",
    "for feature in features:\n",
    "    print(feature, np.round(data[feature].isnull().mean(), 4),  ' % missing values.\\n')"
   ]
  },
  {
   "cell_type": "markdown",
   "id": "f4ec7c80-3204-4d29-92e5-cb18f31b7eb2",
   "metadata": {},
   "source": [
    "### Feature Engineering"
   ]
  },
  {
   "cell_type": "markdown",
   "id": "06d26c02-04d5-4d17-a672-af851780be79",
   "metadata": {},
   "source": [
    "1. Viendo los valores faltantes, vemos que Cabin tiene casi el 80% de valores faltantes por lo que se elimina del análisis\n",
    "2. En el caso de la Edad se imputan con valores random entre el percentil 25 y 75\n",
    "3. Para la variable Embarked solamente hacen falta 2 registros, por lo que se imputa con la moda"
   ]
  },
  {
   "cell_type": "code",
   "execution_count": 5,
   "id": "3a26bcd7-6094-4acc-8abd-5d732b1f0c4d",
   "metadata": {},
   "outputs": [],
   "source": [
    "data=data.drop(['PassengerId','Name','Ticket','Cabin'],1)"
   ]
  },
  {
   "cell_type": "code",
   "execution_count": 6,
   "id": "9c84b0a0-bfbc-4a1e-9608-3f5697e971a2",
   "metadata": {},
   "outputs": [
    {
     "name": "stdout",
     "output_type": "stream",
     "text": [
      "The dataset contains 4 categorical columns\n"
     ]
    }
   ],
   "source": [
    "categorical_cols_data= data.select_dtypes(include=['object'])\n",
    "\n",
    "print(f'The dataset contains {len(categorical_cols_data.columns.tolist())} categorical columns')"
   ]
  },
  {
   "cell_type": "code",
   "execution_count": 7,
   "id": "f2b3b076-d666-4a3b-b55a-76c6d0c0922d",
   "metadata": {},
   "outputs": [
    {
     "data": {
      "text/html": [
       "<div>\n",
       "<style scoped>\n",
       "    .dataframe tbody tr th:only-of-type {\n",
       "        vertical-align: middle;\n",
       "    }\n",
       "\n",
       "    .dataframe tbody tr th {\n",
       "        vertical-align: top;\n",
       "    }\n",
       "\n",
       "    .dataframe thead th {\n",
       "        text-align: right;\n",
       "    }\n",
       "</style>\n",
       "<table border=\"1\" class=\"dataframe\">\n",
       "  <thead>\n",
       "    <tr style=\"text-align: right;\">\n",
       "      <th></th>\n",
       "      <th>Embarked</th>\n",
       "      <th>passenger_class</th>\n",
       "      <th>passenger_sex</th>\n",
       "      <th>passenger_survived</th>\n",
       "    </tr>\n",
       "  </thead>\n",
       "  <tbody>\n",
       "    <tr>\n",
       "      <th>count</th>\n",
       "      <td>889</td>\n",
       "      <td>891</td>\n",
       "      <td>891</td>\n",
       "      <td>891</td>\n",
       "    </tr>\n",
       "    <tr>\n",
       "      <th>unique</th>\n",
       "      <td>3</td>\n",
       "      <td>3</td>\n",
       "      <td>2</td>\n",
       "      <td>2</td>\n",
       "    </tr>\n",
       "    <tr>\n",
       "      <th>top</th>\n",
       "      <td>S</td>\n",
       "      <td>Lower</td>\n",
       "      <td>M</td>\n",
       "      <td>N</td>\n",
       "    </tr>\n",
       "    <tr>\n",
       "      <th>freq</th>\n",
       "      <td>644</td>\n",
       "      <td>491</td>\n",
       "      <td>577</td>\n",
       "      <td>549</td>\n",
       "    </tr>\n",
       "  </tbody>\n",
       "</table>\n",
       "</div>"
      ],
      "text/plain": [
       "       Embarked passenger_class passenger_sex passenger_survived\n",
       "count       889             891           891                891\n",
       "unique        3               3             2                  2\n",
       "top           S           Lower             M                  N\n",
       "freq        644             491           577                549"
      ]
     },
     "execution_count": 7,
     "metadata": {},
     "output_type": "execute_result"
    }
   ],
   "source": [
    "categorical_cols_data.describe()"
   ]
  },
  {
   "cell_type": "code",
   "execution_count": 8,
   "id": "6988e76b-54fd-4a77-8292-917b15e5e697",
   "metadata": {},
   "outputs": [
    {
     "data": {
      "text/plain": [
       "Index(['Embarked'], dtype='object')"
      ]
     },
     "execution_count": 8,
     "metadata": {},
     "output_type": "execute_result"
    }
   ],
   "source": [
    "categorical_cols_missing = categorical_cols_data.columns[categorical_cols_data.isnull().any()]\n",
    "categorical_cols_missing"
   ]
  },
  {
   "cell_type": "code",
   "execution_count": 9,
   "id": "3c937f78-5aed-4819-b577-c1537554ff25",
   "metadata": {},
   "outputs": [],
   "source": [
    "from sklearn.impute import SimpleImputer\n",
    "categoricalImputer = SimpleImputer(missing_values = np.NaN,strategy = 'most_frequent')\n",
    "for feature in categorical_cols_missing:\n",
    "     categorical_cols_data[feature] = categoricalImputer.fit_transform(categorical_cols_data[feature].values.reshape(-1,1))\n",
    "     data[feature] = categoricalImputer.fit_transform(data[feature].values.reshape(-1,1))"
   ]
  },
  {
   "cell_type": "code",
   "execution_count": 10,
   "id": "9dc91db1-6259-47cc-ac99-42c96c6868e8",
   "metadata": {},
   "outputs": [
    {
     "data": {
      "text/plain": [
       "count    714.000000\n",
       "mean      29.699118\n",
       "std       14.526497\n",
       "min        0.420000\n",
       "25%       20.125000\n",
       "50%       28.000000\n",
       "75%       38.000000\n",
       "max       80.000000\n",
       "Name: Age, dtype: float64"
      ]
     },
     "execution_count": 10,
     "metadata": {},
     "output_type": "execute_result"
    }
   ],
   "source": [
    "data['Age'].describe()"
   ]
  },
  {
   "cell_type": "code",
   "execution_count": 11,
   "id": "8c26f294-8541-4846-b423-3b221f33e07b",
   "metadata": {},
   "outputs": [
    {
     "data": {
      "text/plain": [
       "count    891.000000\n",
       "mean      32.204208\n",
       "std       49.693429\n",
       "min        0.000000\n",
       "25%        7.910400\n",
       "50%       14.454200\n",
       "75%       31.000000\n",
       "max      512.329200\n",
       "Name: Fare, dtype: float64"
      ]
     },
     "execution_count": 11,
     "metadata": {},
     "output_type": "execute_result"
    }
   ],
   "source": [
    "data['Fare'].describe()"
   ]
  },
  {
   "cell_type": "code",
   "execution_count": 12,
   "id": "dd7a0809-c79d-46a4-bed1-b6148b1f0b95",
   "metadata": {},
   "outputs": [],
   "source": [
    "np.random.seed(1)\n",
    "data['Age'].fillna(np.random.randint(20,38), inplace = True)\n",
    "data['Age'].fillna(np.random.randint(20,38), inplace = True)\n",
    "data['Fare'].fillna(np.random.randint(0,31), inplace = True)"
   ]
  },
  {
   "cell_type": "code",
   "execution_count": 13,
   "id": "303db453-d6fe-4122-b550-5d883f980417",
   "metadata": {},
   "outputs": [
    {
     "data": {
      "text/html": [
       "<div>\n",
       "<style scoped>\n",
       "    .dataframe tbody tr th:only-of-type {\n",
       "        vertical-align: middle;\n",
       "    }\n",
       "\n",
       "    .dataframe tbody tr th {\n",
       "        vertical-align: top;\n",
       "    }\n",
       "\n",
       "    .dataframe thead th {\n",
       "        text-align: right;\n",
       "    }\n",
       "</style>\n",
       "<table border=\"1\" class=\"dataframe\">\n",
       "  <thead>\n",
       "    <tr style=\"text-align: right;\">\n",
       "      <th></th>\n",
       "      <th>Age</th>\n",
       "      <th>SibSp</th>\n",
       "      <th>Parch</th>\n",
       "      <th>Fare</th>\n",
       "      <th>Embarked</th>\n",
       "      <th>passenger_class</th>\n",
       "      <th>passenger_sex</th>\n",
       "      <th>passenger_survived</th>\n",
       "    </tr>\n",
       "  </thead>\n",
       "  <tbody>\n",
       "    <tr>\n",
       "      <th>0</th>\n",
       "      <td>22.0</td>\n",
       "      <td>1</td>\n",
       "      <td>0</td>\n",
       "      <td>7.2500</td>\n",
       "      <td>S</td>\n",
       "      <td>Lower</td>\n",
       "      <td>M</td>\n",
       "      <td>N</td>\n",
       "    </tr>\n",
       "    <tr>\n",
       "      <th>1</th>\n",
       "      <td>38.0</td>\n",
       "      <td>1</td>\n",
       "      <td>0</td>\n",
       "      <td>71.2833</td>\n",
       "      <td>C</td>\n",
       "      <td>Upper</td>\n",
       "      <td>F</td>\n",
       "      <td>Y</td>\n",
       "    </tr>\n",
       "    <tr>\n",
       "      <th>2</th>\n",
       "      <td>26.0</td>\n",
       "      <td>0</td>\n",
       "      <td>0</td>\n",
       "      <td>7.9250</td>\n",
       "      <td>S</td>\n",
       "      <td>Lower</td>\n",
       "      <td>F</td>\n",
       "      <td>Y</td>\n",
       "    </tr>\n",
       "    <tr>\n",
       "      <th>3</th>\n",
       "      <td>35.0</td>\n",
       "      <td>1</td>\n",
       "      <td>0</td>\n",
       "      <td>53.1000</td>\n",
       "      <td>S</td>\n",
       "      <td>Upper</td>\n",
       "      <td>F</td>\n",
       "      <td>Y</td>\n",
       "    </tr>\n",
       "    <tr>\n",
       "      <th>4</th>\n",
       "      <td>35.0</td>\n",
       "      <td>0</td>\n",
       "      <td>0</td>\n",
       "      <td>8.0500</td>\n",
       "      <td>S</td>\n",
       "      <td>Lower</td>\n",
       "      <td>M</td>\n",
       "      <td>N</td>\n",
       "    </tr>\n",
       "  </tbody>\n",
       "</table>\n",
       "</div>"
      ],
      "text/plain": [
       "    Age  SibSp  Parch     Fare Embarked passenger_class passenger_sex  \\\n",
       "0  22.0      1      0   7.2500        S           Lower             M   \n",
       "1  38.0      1      0  71.2833        C           Upper             F   \n",
       "2  26.0      0      0   7.9250        S           Lower             F   \n",
       "3  35.0      1      0  53.1000        S           Upper             F   \n",
       "4  35.0      0      0   8.0500        S           Lower             M   \n",
       "\n",
       "  passenger_survived  \n",
       "0                  N  \n",
       "1                  Y  \n",
       "2                  Y  \n",
       "3                  Y  \n",
       "4                  N  "
      ]
     },
     "execution_count": 13,
     "metadata": {},
     "output_type": "execute_result"
    }
   ],
   "source": [
    "data.head()"
   ]
  },
  {
   "cell_type": "code",
   "execution_count": 14,
   "id": "cd482009-cc9f-4979-9cd1-076900fdde6a",
   "metadata": {},
   "outputs": [],
   "source": [
    "data = data[[i for i in data.columns if i not in ('SibSp','Parch','Pclass')]]"
   ]
  },
  {
   "cell_type": "code",
   "execution_count": 15,
   "id": "69cfcc48-65f5-44f5-80a0-d255ba257339",
   "metadata": {},
   "outputs": [
    {
     "data": {
      "text/plain": [
       "(891, 6)"
      ]
     },
     "execution_count": 15,
     "metadata": {},
     "output_type": "execute_result"
    }
   ],
   "source": [
    "data.shape"
   ]
  },
  {
   "cell_type": "code",
   "execution_count": 16,
   "id": "d46be1e8-4fc0-43ac-9f89-17403e5dba5b",
   "metadata": {},
   "outputs": [
    {
     "name": "stdout",
     "output_type": "stream",
     "text": [
      "<class 'pandas.core.frame.DataFrame'>\n",
      "RangeIndex: 891 entries, 0 to 890\n",
      "Data columns (total 6 columns):\n",
      " #   Column              Non-Null Count  Dtype  \n",
      "---  ------              --------------  -----  \n",
      " 0   Age                 891 non-null    float64\n",
      " 1   Fare                891 non-null    float64\n",
      " 2   Embarked            891 non-null    object \n",
      " 3   passenger_class     891 non-null    object \n",
      " 4   passenger_sex       891 non-null    object \n",
      " 5   passenger_survived  891 non-null    object \n",
      "dtypes: float64(2), object(4)\n",
      "memory usage: 41.9+ KB\n"
     ]
    }
   ],
   "source": [
    "data.info()"
   ]
  },
  {
   "cell_type": "markdown",
   "id": "7c5933c9-770c-4474-9de6-5b6968d8a68c",
   "metadata": {},
   "source": [
    "### Correlación entre Variables "
   ]
  },
  {
   "cell_type": "code",
   "execution_count": 17,
   "id": "7c171873-c2c7-45cb-a68b-c571046d7ee4",
   "metadata": {},
   "outputs": [
    {
     "data": {
      "image/png": "[encoded data removed]",
      "text/plain": [
       "<Figure size 720x576 with 2 Axes>"
      ]
     },
     "metadata": {
      "needs_background": "light"
     },
     "output_type": "display_data"
    },
    {
     "data": {
      "text/plain": [
       "{'corr':                          Age      Fare  Embarked  passenger_class  \\\n",
       " Age                 1.000000  0.173592  0.225690         0.303380   \n",
       " Fare                0.173592  1.000000  0.798351         0.822655   \n",
       " Embarked            0.225690  0.798351  1.000000         0.258312   \n",
       " passenger_class     0.303380  0.822655  0.258312         1.000000   \n",
       " passenger_sex       0.076162  0.370059  0.110742         0.129690   \n",
       " passenger_survived  0.172891  0.447880  0.164085         0.336684   \n",
       " \n",
       "                     passenger_sex  passenger_survived  \n",
       " Age                      0.076162            0.172891  \n",
       " Fare                     0.370059            0.447880  \n",
       " Embarked                 0.110742            0.164085  \n",
       " passenger_class          0.129690            0.336684  \n",
       " passenger_sex            1.000000            0.540200  \n",
       " passenger_survived       0.540200            1.000000  ,\n",
       " 'ax': <AxesSubplot:>}"
      ]
     },
     "execution_count": 17,
     "metadata": {},
     "output_type": "execute_result"
    }
   ],
   "source": [
    "cat_cols=[]\n",
    "for c in data.columns:\n",
    "    cat_cols.append(c)\n",
    "\n",
    "from dython import nominal\n",
    "nominal.associations(data, nominal_columns=cat_cols,figsize=(10,8),cmap=\"Blues_r\")"
   ]
  },
  {
   "cell_type": "markdown",
   "id": "b8891dfb-8491-4620-be5a-5d875cfd32c3",
   "metadata": {},
   "source": [
    "#### Tranformación de Variables Categóricas a Numéricas"
   ]
  },
  {
   "cell_type": "code",
   "execution_count": 18,
   "id": "540d7577-d771-4557-a8d0-ac048e69673a",
   "metadata": {},
   "outputs": [],
   "source": [
    "data['Embarked'].fillna(value='S',inplace=True)\n",
    "data['Embarked'] = data['Embarked'].replace(['S','Q','C'],[1,2,3])"
   ]
  },
  {
   "cell_type": "code",
   "execution_count": 19,
   "id": "0d4af9b6-8b95-479f-8892-767a1b79ac14",
   "metadata": {},
   "outputs": [],
   "source": [
    "data['passenger_class'].replace(['Lower', 'Middle', 'Upper'],\n",
    "                        [1, 2, 3], inplace=True)"
   ]
  },
  {
   "cell_type": "code",
   "execution_count": 20,
   "id": "fa67cd32-b97d-4939-ac5f-8b670017e65a",
   "metadata": {},
   "outputs": [],
   "source": [
    "data['passenger_sex'].replace(['M', 'F'],\n",
    "                        [0, 1], inplace=True)"
   ]
  },
  {
   "cell_type": "code",
   "execution_count": 21,
   "id": "c7de0834-816a-4105-9eaf-82e55498277d",
   "metadata": {},
   "outputs": [],
   "source": [
    "data['passenger_survived'].replace(['N', 'Y'],\n",
    "                        [0, 1], inplace=True)"
   ]
  },
  {
   "cell_type": "code",
   "execution_count": 22,
   "id": "c9806a0c-52b2-42a4-9b13-30e726ff890b",
   "metadata": {},
   "outputs": [
    {
     "data": {
      "text/html": [
       "<div>\n",
       "<style scoped>\n",
       "    .dataframe tbody tr th:only-of-type {\n",
       "        vertical-align: middle;\n",
       "    }\n",
       "\n",
       "    .dataframe tbody tr th {\n",
       "        vertical-align: top;\n",
       "    }\n",
       "\n",
       "    .dataframe thead th {\n",
       "        text-align: right;\n",
       "    }\n",
       "</style>\n",
       "<table border=\"1\" class=\"dataframe\">\n",
       "  <thead>\n",
       "    <tr style=\"text-align: right;\">\n",
       "      <th></th>\n",
       "      <th>Age</th>\n",
       "      <th>Fare</th>\n",
       "      <th>Embarked</th>\n",
       "      <th>passenger_class</th>\n",
       "      <th>passenger_sex</th>\n",
       "      <th>passenger_survived</th>\n",
       "    </tr>\n",
       "  </thead>\n",
       "  <tbody>\n",
       "    <tr>\n",
       "      <th>0</th>\n",
       "      <td>22.0</td>\n",
       "      <td>7.2500</td>\n",
       "      <td>1</td>\n",
       "      <td>1</td>\n",
       "      <td>0</td>\n",
       "      <td>0</td>\n",
       "    </tr>\n",
       "    <tr>\n",
       "      <th>1</th>\n",
       "      <td>38.0</td>\n",
       "      <td>71.2833</td>\n",
       "      <td>3</td>\n",
       "      <td>3</td>\n",
       "      <td>1</td>\n",
       "      <td>1</td>\n",
       "    </tr>\n",
       "    <tr>\n",
       "      <th>2</th>\n",
       "      <td>26.0</td>\n",
       "      <td>7.9250</td>\n",
       "      <td>1</td>\n",
       "      <td>1</td>\n",
       "      <td>1</td>\n",
       "      <td>1</td>\n",
       "    </tr>\n",
       "    <tr>\n",
       "      <th>3</th>\n",
       "      <td>35.0</td>\n",
       "      <td>53.1000</td>\n",
       "      <td>1</td>\n",
       "      <td>3</td>\n",
       "      <td>1</td>\n",
       "      <td>1</td>\n",
       "    </tr>\n",
       "    <tr>\n",
       "      <th>4</th>\n",
       "      <td>35.0</td>\n",
       "      <td>8.0500</td>\n",
       "      <td>1</td>\n",
       "      <td>1</td>\n",
       "      <td>0</td>\n",
       "      <td>0</td>\n",
       "    </tr>\n",
       "  </tbody>\n",
       "</table>\n",
       "</div>"
      ],
      "text/plain": [
       "    Age     Fare  Embarked  passenger_class  passenger_sex  passenger_survived\n",
       "0  22.0   7.2500         1                1              0                   0\n",
       "1  38.0  71.2833         3                3              1                   1\n",
       "2  26.0   7.9250         1                1              1                   1\n",
       "3  35.0  53.1000         1                3              1                   1\n",
       "4  35.0   8.0500         1                1              0                   0"
      ]
     },
     "execution_count": 22,
     "metadata": {},
     "output_type": "execute_result"
    }
   ],
   "source": [
    "data.head()"
   ]
  },
  {
   "cell_type": "markdown",
   "id": "cdbe7249-ca4d-4229-abb4-e31a4671fbd6",
   "metadata": {},
   "source": [
    "### Separación Train - Test"
   ]
  },
  {
   "cell_type": "code",
   "execution_count": 23,
   "id": "e0a11c26-6eae-49bb-a4bd-10b48b1765bb",
   "metadata": {},
   "outputs": [
    {
     "name": "stdout",
     "output_type": "stream",
     "text": [
      "Ejemplos usados para entrenar:  712\n",
      "Ejemplos usados para test:  179\n"
     ]
    }
   ],
   "source": [
    "train, test = train_test_split(data, test_size = 0.20)\n",
    "\n",
    "print(\"Ejemplos usados para entrenar: \", len(train))\n",
    "print(\"Ejemplos usados para test: \", len(test))"
   ]
  },
  {
   "cell_type": "markdown",
   "id": "443d948b-8d56-49ad-b90f-cfb5ca02e3b1",
   "metadata": {},
   "source": [
    "### Separación Test - Validacion"
   ]
  },
  {
   "cell_type": "code",
   "execution_count": 24,
   "id": "7d2bd016-6f85-4523-b5d2-f9832e343427",
   "metadata": {},
   "outputs": [
    {
     "name": "stdout",
     "output_type": "stream",
     "text": [
      "Ejemplos usados para entrenar:  569\n",
      "Ejemplos usados para validacion:  143\n"
     ]
    }
   ],
   "source": [
    "train, validacion = train_test_split(train, test_size = 0.20)\n",
    "\n",
    "print(\"Ejemplos usados para entrenar: \", len(train))\n",
    "print(\"Ejemplos usados para validacion: \", len(validacion))"
   ]
  },
  {
   "cell_type": "code",
   "execution_count": 25,
   "id": "631b8436-5142-466f-8fff-3949e8ebef52",
   "metadata": {},
   "outputs": [
    {
     "name": "stdout",
     "output_type": "stream",
     "text": [
      "(569, 6) (179, 6)\n"
     ]
    }
   ],
   "source": [
    "print(train.shape, test.shape)"
   ]
  },
  {
   "cell_type": "code",
   "execution_count": 26,
   "id": "e1f215f4-f76f-4bbd-a42e-5ab816a3321e",
   "metadata": {},
   "outputs": [
    {
     "name": "stdout",
     "output_type": "stream",
     "text": [
      "<class 'pandas.core.frame.DataFrame'>\n",
      "Int64Index: 569 entries, 393 to 266\n",
      "Data columns (total 6 columns):\n",
      " #   Column              Non-Null Count  Dtype  \n",
      "---  ------              --------------  -----  \n",
      " 0   Age                 569 non-null    float64\n",
      " 1   Fare                569 non-null    float64\n",
      " 2   Embarked            569 non-null    int64  \n",
      " 3   passenger_class     569 non-null    int64  \n",
      " 4   passenger_sex       569 non-null    int64  \n",
      " 5   passenger_survived  569 non-null    int64  \n",
      "dtypes: float64(2), int64(4)\n",
      "memory usage: 31.1 KB\n"
     ]
    }
   ],
   "source": [
    "train.info()"
   ]
  },
  {
   "cell_type": "code",
   "execution_count": 27,
   "id": "b8f9b1bc-9897-41a7-bbb2-37ceba98bfe8",
   "metadata": {},
   "outputs": [
    {
     "name": "stdout",
     "output_type": "stream",
     "text": [
      "<class 'pandas.core.frame.DataFrame'>\n",
      "Int64Index: 179 entries, 831 to 404\n",
      "Data columns (total 6 columns):\n",
      " #   Column              Non-Null Count  Dtype  \n",
      "---  ------              --------------  -----  \n",
      " 0   Age                 179 non-null    float64\n",
      " 1   Fare                179 non-null    float64\n",
      " 2   Embarked            179 non-null    int64  \n",
      " 3   passenger_class     179 non-null    int64  \n",
      " 4   passenger_sex       179 non-null    int64  \n",
      " 5   passenger_survived  179 non-null    int64  \n",
      "dtypes: float64(2), int64(4)\n",
      "memory usage: 9.8 KB\n"
     ]
    }
   ],
   "source": [
    "test.info()"
   ]
  },
  {
   "cell_type": "code",
   "execution_count": 28,
   "id": "3cb86bfe-1b1c-4313-98e5-53dd1df8cae8",
   "metadata": {},
   "outputs": [
    {
     "name": "stdout",
     "output_type": "stream",
     "text": [
      "<class 'pandas.core.frame.DataFrame'>\n",
      "Int64Index: 143 entries, 116 to 879\n",
      "Data columns (total 6 columns):\n",
      " #   Column              Non-Null Count  Dtype  \n",
      "---  ------              --------------  -----  \n",
      " 0   Age                 143 non-null    float64\n",
      " 1   Fare                143 non-null    float64\n",
      " 2   Embarked            143 non-null    int64  \n",
      " 3   passenger_class     143 non-null    int64  \n",
      " 4   passenger_sex       143 non-null    int64  \n",
      " 5   passenger_survived  143 non-null    int64  \n",
      "dtypes: float64(2), int64(4)\n",
      "memory usage: 7.8 KB\n"
     ]
    }
   ],
   "source": [
    "validacion.info()"
   ]
  },
  {
   "cell_type": "code",
   "execution_count": 29,
   "id": "d5776748-b24a-4e1d-a37f-54a75a565d9d",
   "metadata": {},
   "outputs": [
    {
     "data": {
      "text/plain": [
       "Age                   0\n",
       "Fare                  0\n",
       "Embarked              0\n",
       "passenger_class       0\n",
       "passenger_sex         0\n",
       "passenger_survived    0\n",
       "dtype: int64"
      ]
     },
     "execution_count": 29,
     "metadata": {},
     "output_type": "execute_result"
    }
   ],
   "source": [
    "train.isnull().sum()"
   ]
  },
  {
   "cell_type": "code",
   "execution_count": 30,
   "id": "2a4ca9c3-052a-452a-bfa5-259fa3141042",
   "metadata": {},
   "outputs": [
    {
     "data": {
      "text/plain": [
       "Age                   0\n",
       "Fare                  0\n",
       "Embarked              0\n",
       "passenger_class       0\n",
       "passenger_sex         0\n",
       "passenger_survived    0\n",
       "dtype: int64"
      ]
     },
     "execution_count": 30,
     "metadata": {},
     "output_type": "execute_result"
    }
   ],
   "source": [
    "test.isnull().sum()"
   ]
  },
  {
   "cell_type": "code",
   "execution_count": 31,
   "id": "858a547f-3874-4b63-b59d-b64c731ba6b5",
   "metadata": {},
   "outputs": [
    {
     "data": {
      "text/plain": [
       "Age                   0\n",
       "Fare                  0\n",
       "Embarked              0\n",
       "passenger_class       0\n",
       "passenger_sex         0\n",
       "passenger_survived    0\n",
       "dtype: int64"
      ]
     },
     "execution_count": 31,
     "metadata": {},
     "output_type": "execute_result"
    }
   ],
   "source": [
    "validacion.isnull().sum()"
   ]
  },
  {
   "cell_type": "markdown",
   "id": "c6e2fb6e-0c33-4df7-8cdc-e2f08eb99ef7",
   "metadata": {},
   "source": [
    "### Análisis Exploratorio"
   ]
  },
  {
   "cell_type": "code",
   "execution_count": 32,
   "id": "8a3827a5-9a08-4024-acc1-b1a3e0402ccf",
   "metadata": {},
   "outputs": [
    {
     "data": {
      "image/png": "[encoded data removed]",
      "text/plain": [
       "<Figure size 432x288 with 1 Axes>"
      ]
     },
     "metadata": {
      "needs_background": "light"
     },
     "output_type": "display_data"
    }
   ],
   "source": [
    "sns.countplot(x=\"passenger_sex\", hue=\"passenger_survived\", data=train)\n",
    "plt.title(\"Survival of different Gender\")\n",
    "plt.show()"
   ]
  },
  {
   "cell_type": "code",
   "execution_count": 33,
   "id": "3ca9ae7b-3671-4cc8-8fc3-0a02c041a63b",
   "metadata": {},
   "outputs": [
    {
     "data": {
      "image/png": "[encoded data removed]",
      "text/plain": [
       "<Figure size 432x288 with 1 Axes>"
      ]
     },
     "metadata": {
      "needs_background": "light"
     },
     "output_type": "display_data"
    }
   ],
   "source": [
    "sns.countplot(x=\"passenger_class\", hue=\"passenger_survived\", data=train)\n",
    "plt.title(\"Survival of different Class\")\n",
    "plt.show()"
   ]
  },
  {
   "cell_type": "code",
   "execution_count": 34,
   "id": "c2ba9cb8-3369-4330-8e5a-cd69556c5a3a",
   "metadata": {},
   "outputs": [
    {
     "data": {
      "image/png": "[encoded data removed]",
      "text/plain": [
       "<Figure size 432x288 with 1 Axes>"
      ]
     },
     "metadata": {
      "needs_background": "light"
     },
     "output_type": "display_data"
    }
   ],
   "source": [
    "sns.countplot(x=\"Embarked\", hue=\"passenger_survived\", data=train)\n",
    "plt.title(\"Survival of different Embarked\")\n",
    "plt.show()"
   ]
  },
  {
   "cell_type": "code",
   "execution_count": 35,
   "id": "779a9180-3584-4ad5-9c6d-4561833259f5",
   "metadata": {},
   "outputs": [
    {
     "data": {
      "image/png": "[encoded data removed]",
      "text/plain": [
       "<Figure size 432x288 with 1 Axes>"
      ]
     },
     "metadata": {
      "needs_background": "light"
     },
     "output_type": "display_data"
    }
   ],
   "source": [
    "sns.countplot(x=\"Age\", hue=\"passenger_survived\", data=train)\n",
    "plt.title(\"Survival of different Age\")\n",
    "plt.show()"
   ]
  },
  {
   "cell_type": "code",
   "execution_count": 36,
   "id": "9fc1eea0-adbb-4b23-9fdf-0d0abe9a08f6",
   "metadata": {},
   "outputs": [
    {
     "data": {
      "image/png": "[encoded data removed]",
      "text/plain": [
       "<Figure size 827.875x720 with 20 Axes>"
      ]
     },
     "metadata": {
      "needs_background": "light"
     },
     "output_type": "display_data"
    }
   ],
   "source": [
    "features = ['passenger_survived', 'passenger_class', 'passenger_sex', 'Age', 'Embarked']\n",
    "\n",
    "pair_plt = sns.pairplot(train[features], hue=\"passenger_survived\", palette=\"twilight_shifted\",\n",
    "                 diag_kind=\"kde\", height=2.5)\n",
    "tmp = pair_plt.fig.suptitle(\"FEATURES GROUPED BY SURVIVED\", x=0.085, y=1.05, ha='left',\n",
    "             fontweight=100, size=33)"
   ]
  },
  {
   "cell_type": "markdown",
   "id": "03dc0015-92dd-41b1-9853-8a02e15520b7",
   "metadata": {},
   "source": [
    "### Modelos"
   ]
  },
  {
   "cell_type": "code",
   "execution_count": 37,
   "id": "3823afa0-0bad-4480-81dc-b4d89161747f",
   "metadata": {},
   "outputs": [],
   "source": [
    "X_train= train.drop(['passenger_survived'],1)\n",
    "Y_train= train['passenger_survived']"
   ]
  },
  {
   "cell_type": "code",
   "execution_count": 38,
   "id": "58ae9852-6bc0-454b-aaa9-176c8ff47669",
   "metadata": {},
   "outputs": [],
   "source": [
    "X_train= train.drop(['passenger_survived'],1)\n",
    "Y_train= train['passenger_survived']"
   ]
  },
  {
   "cell_type": "code",
   "execution_count": 39,
   "id": "40e393ec-e84c-4848-aa25-3c587e50e948",
   "metadata": {},
   "outputs": [
    {
     "data": {
      "text/html": [
       "<div>\n",
       "<style scoped>\n",
       "    .dataframe tbody tr th:only-of-type {\n",
       "        vertical-align: middle;\n",
       "    }\n",
       "\n",
       "    .dataframe tbody tr th {\n",
       "        vertical-align: top;\n",
       "    }\n",
       "\n",
       "    .dataframe thead th {\n",
       "        text-align: right;\n",
       "    }\n",
       "</style>\n",
       "<table border=\"1\" class=\"dataframe\">\n",
       "  <thead>\n",
       "    <tr style=\"text-align: right;\">\n",
       "      <th></th>\n",
       "      <th>Age</th>\n",
       "      <th>Fare</th>\n",
       "      <th>Embarked</th>\n",
       "      <th>passenger_class</th>\n",
       "      <th>passenger_sex</th>\n",
       "    </tr>\n",
       "  </thead>\n",
       "  <tbody>\n",
       "    <tr>\n",
       "      <th>393</th>\n",
       "      <td>23.0</td>\n",
       "      <td>113.2750</td>\n",
       "      <td>3</td>\n",
       "      <td>3</td>\n",
       "      <td>1</td>\n",
       "    </tr>\n",
       "    <tr>\n",
       "      <th>373</th>\n",
       "      <td>22.0</td>\n",
       "      <td>135.6333</td>\n",
       "      <td>3</td>\n",
       "      <td>3</td>\n",
       "      <td>0</td>\n",
       "    </tr>\n",
       "    <tr>\n",
       "      <th>613</th>\n",
       "      <td>25.0</td>\n",
       "      <td>7.7500</td>\n",
       "      <td>2</td>\n",
       "      <td>1</td>\n",
       "      <td>0</td>\n",
       "    </tr>\n",
       "    <tr>\n",
       "      <th>263</th>\n",
       "      <td>40.0</td>\n",
       "      <td>0.0000</td>\n",
       "      <td>1</td>\n",
       "      <td>3</td>\n",
       "      <td>0</td>\n",
       "    </tr>\n",
       "    <tr>\n",
       "      <th>83</th>\n",
       "      <td>28.0</td>\n",
       "      <td>47.1000</td>\n",
       "      <td>1</td>\n",
       "      <td>3</td>\n",
       "      <td>0</td>\n",
       "    </tr>\n",
       "    <tr>\n",
       "      <th>...</th>\n",
       "      <td>...</td>\n",
       "      <td>...</td>\n",
       "      <td>...</td>\n",
       "      <td>...</td>\n",
       "      <td>...</td>\n",
       "    </tr>\n",
       "    <tr>\n",
       "      <th>260</th>\n",
       "      <td>25.0</td>\n",
       "      <td>7.7500</td>\n",
       "      <td>2</td>\n",
       "      <td>1</td>\n",
       "      <td>0</td>\n",
       "    </tr>\n",
       "    <tr>\n",
       "      <th>842</th>\n",
       "      <td>30.0</td>\n",
       "      <td>31.0000</td>\n",
       "      <td>3</td>\n",
       "      <td>3</td>\n",
       "      <td>1</td>\n",
       "    </tr>\n",
       "    <tr>\n",
       "      <th>768</th>\n",
       "      <td>25.0</td>\n",
       "      <td>24.1500</td>\n",
       "      <td>2</td>\n",
       "      <td>1</td>\n",
       "      <td>0</td>\n",
       "    </tr>\n",
       "    <tr>\n",
       "      <th>178</th>\n",
       "      <td>30.0</td>\n",
       "      <td>13.0000</td>\n",
       "      <td>1</td>\n",
       "      <td>2</td>\n",
       "      <td>0</td>\n",
       "    </tr>\n",
       "    <tr>\n",
       "      <th>266</th>\n",
       "      <td>16.0</td>\n",
       "      <td>39.6875</td>\n",
       "      <td>1</td>\n",
       "      <td>1</td>\n",
       "      <td>0</td>\n",
       "    </tr>\n",
       "  </tbody>\n",
       "</table>\n",
       "<p>569 rows × 5 columns</p>\n",
       "</div>"
      ],
      "text/plain": [
       "      Age      Fare  Embarked  passenger_class  passenger_sex\n",
       "393  23.0  113.2750         3                3              1\n",
       "373  22.0  135.6333         3                3              0\n",
       "613  25.0    7.7500         2                1              0\n",
       "263  40.0    0.0000         1                3              0\n",
       "83   28.0   47.1000         1                3              0\n",
       "..    ...       ...       ...              ...            ...\n",
       "260  25.0    7.7500         2                1              0\n",
       "842  30.0   31.0000         3                3              1\n",
       "768  25.0   24.1500         2                1              0\n",
       "178  30.0   13.0000         1                2              0\n",
       "266  16.0   39.6875         1                1              0\n",
       "\n",
       "[569 rows x 5 columns]"
      ]
     },
     "execution_count": 39,
     "metadata": {},
     "output_type": "execute_result"
    }
   ],
   "source": [
    "X_train"
   ]
  },
  {
   "cell_type": "code",
   "execution_count": 40,
   "id": "19047b6f-20cc-4a08-9770-ce58536ef527",
   "metadata": {},
   "outputs": [
    {
     "data": {
      "text/plain": [
       "393    1\n",
       "373    0\n",
       "613    0\n",
       "263    0\n",
       "83     0\n",
       "      ..\n",
       "260    0\n",
       "842    1\n",
       "768    0\n",
       "178    0\n",
       "266    0\n",
       "Name: passenger_survived, Length: 569, dtype: int64"
      ]
     },
     "execution_count": 40,
     "metadata": {},
     "output_type": "execute_result"
    }
   ],
   "source": [
    "Y_train"
   ]
  },
  {
   "cell_type": "code",
   "execution_count": 41,
   "id": "5e7b6e20-48c7-4aa1-9c22-ccb679a901cd",
   "metadata": {},
   "outputs": [
    {
     "data": {
      "text/html": [
       "<div>\n",
       "<style scoped>\n",
       "    .dataframe tbody tr th:only-of-type {\n",
       "        vertical-align: middle;\n",
       "    }\n",
       "\n",
       "    .dataframe tbody tr th {\n",
       "        vertical-align: top;\n",
       "    }\n",
       "\n",
       "    .dataframe thead th {\n",
       "        text-align: right;\n",
       "    }\n",
       "</style>\n",
       "<table border=\"1\" class=\"dataframe\">\n",
       "  <thead>\n",
       "    <tr style=\"text-align: right;\">\n",
       "      <th></th>\n",
       "      <th>0</th>\n",
       "      <th>1</th>\n",
       "      <th>2</th>\n",
       "      <th>3</th>\n",
       "      <th>4</th>\n",
       "    </tr>\n",
       "  </thead>\n",
       "  <tbody>\n",
       "    <tr>\n",
       "      <th>0</th>\n",
       "      <td>-0.483192</td>\n",
       "      <td>1.780263</td>\n",
       "      <td>2.037761</td>\n",
       "      <td>1.596066</td>\n",
       "      <td>1.423586</td>\n",
       "    </tr>\n",
       "    <tr>\n",
       "      <th>1</th>\n",
       "      <td>-0.560985</td>\n",
       "      <td>2.259411</td>\n",
       "      <td>2.037761</td>\n",
       "      <td>1.596066</td>\n",
       "      <td>-0.702452</td>\n",
       "    </tr>\n",
       "    <tr>\n",
       "      <th>2</th>\n",
       "      <td>-0.327604</td>\n",
       "      <td>-0.481186</td>\n",
       "      <td>0.739345</td>\n",
       "      <td>-0.838684</td>\n",
       "      <td>-0.702452</td>\n",
       "    </tr>\n",
       "    <tr>\n",
       "      <th>3</th>\n",
       "      <td>0.839301</td>\n",
       "      <td>-0.647272</td>\n",
       "      <td>-0.559072</td>\n",
       "      <td>1.596066</td>\n",
       "      <td>-0.702452</td>\n",
       "    </tr>\n",
       "    <tr>\n",
       "      <th>4</th>\n",
       "      <td>-0.094223</td>\n",
       "      <td>0.362102</td>\n",
       "      <td>-0.559072</td>\n",
       "      <td>1.596066</td>\n",
       "      <td>-0.702452</td>\n",
       "    </tr>\n",
       "  </tbody>\n",
       "</table>\n",
       "</div>"
      ],
      "text/plain": [
       "          0         1         2         3         4\n",
       "0 -0.483192  1.780263  2.037761  1.596066  1.423586\n",
       "1 -0.560985  2.259411  2.037761  1.596066 -0.702452\n",
       "2 -0.327604 -0.481186  0.739345 -0.838684 -0.702452\n",
       "3  0.839301 -0.647272 -0.559072  1.596066 -0.702452\n",
       "4 -0.094223  0.362102 -0.559072  1.596066 -0.702452"
      ]
     },
     "execution_count": 41,
     "metadata": {},
     "output_type": "execute_result"
    }
   ],
   "source": [
    "from sklearn.preprocessing import StandardScaler\n",
    "X_train_scale=StandardScaler().fit_transform(X_train)\n",
    "pd.DataFrame(X_train_scale).head()"
   ]
  },
  {
   "cell_type": "code",
   "execution_count": 42,
   "id": "f9abd0aa-3338-43cf-9a2a-6c8e1116569f",
   "metadata": {},
   "outputs": [],
   "source": [
    "validacion_clean_x=validacion.drop(columns=['passenger_survived'])\n",
    "validacion_clean_y= validacion['passenger_survived']"
   ]
  },
  {
   "cell_type": "code",
   "execution_count": 43,
   "id": "0be1a668-cbb0-4ae2-a08d-acdb2f76298d",
   "metadata": {},
   "outputs": [
    {
     "data": {
      "text/html": [
       "<div>\n",
       "<style scoped>\n",
       "    .dataframe tbody tr th:only-of-type {\n",
       "        vertical-align: middle;\n",
       "    }\n",
       "\n",
       "    .dataframe tbody tr th {\n",
       "        vertical-align: top;\n",
       "    }\n",
       "\n",
       "    .dataframe thead th {\n",
       "        text-align: right;\n",
       "    }\n",
       "</style>\n",
       "<table border=\"1\" class=\"dataframe\">\n",
       "  <thead>\n",
       "    <tr style=\"text-align: right;\">\n",
       "      <th></th>\n",
       "      <th>Age</th>\n",
       "      <th>Fare</th>\n",
       "      <th>Embarked</th>\n",
       "      <th>passenger_class</th>\n",
       "      <th>passenger_sex</th>\n",
       "    </tr>\n",
       "  </thead>\n",
       "  <tbody>\n",
       "    <tr>\n",
       "      <th>116</th>\n",
       "      <td>70.5</td>\n",
       "      <td>7.7500</td>\n",
       "      <td>2</td>\n",
       "      <td>1</td>\n",
       "      <td>0</td>\n",
       "    </tr>\n",
       "    <tr>\n",
       "      <th>588</th>\n",
       "      <td>22.0</td>\n",
       "      <td>8.0500</td>\n",
       "      <td>1</td>\n",
       "      <td>1</td>\n",
       "      <td>0</td>\n",
       "    </tr>\n",
       "    <tr>\n",
       "      <th>210</th>\n",
       "      <td>24.0</td>\n",
       "      <td>7.0500</td>\n",
       "      <td>1</td>\n",
       "      <td>1</td>\n",
       "      <td>0</td>\n",
       "    </tr>\n",
       "    <tr>\n",
       "      <th>120</th>\n",
       "      <td>21.0</td>\n",
       "      <td>73.5000</td>\n",
       "      <td>1</td>\n",
       "      <td>2</td>\n",
       "      <td>0</td>\n",
       "    </tr>\n",
       "    <tr>\n",
       "      <th>888</th>\n",
       "      <td>25.0</td>\n",
       "      <td>23.4500</td>\n",
       "      <td>1</td>\n",
       "      <td>1</td>\n",
       "      <td>1</td>\n",
       "    </tr>\n",
       "    <tr>\n",
       "      <th>...</th>\n",
       "      <td>...</td>\n",
       "      <td>...</td>\n",
       "      <td>...</td>\n",
       "      <td>...</td>\n",
       "      <td>...</td>\n",
       "    </tr>\n",
       "    <tr>\n",
       "      <th>63</th>\n",
       "      <td>4.0</td>\n",
       "      <td>27.9000</td>\n",
       "      <td>1</td>\n",
       "      <td>1</td>\n",
       "      <td>0</td>\n",
       "    </tr>\n",
       "    <tr>\n",
       "      <th>161</th>\n",
       "      <td>40.0</td>\n",
       "      <td>15.7500</td>\n",
       "      <td>1</td>\n",
       "      <td>2</td>\n",
       "      <td>1</td>\n",
       "    </tr>\n",
       "    <tr>\n",
       "      <th>533</th>\n",
       "      <td>25.0</td>\n",
       "      <td>22.3583</td>\n",
       "      <td>3</td>\n",
       "      <td>1</td>\n",
       "      <td>1</td>\n",
       "    </tr>\n",
       "    <tr>\n",
       "      <th>883</th>\n",
       "      <td>28.0</td>\n",
       "      <td>10.5000</td>\n",
       "      <td>1</td>\n",
       "      <td>2</td>\n",
       "      <td>0</td>\n",
       "    </tr>\n",
       "    <tr>\n",
       "      <th>879</th>\n",
       "      <td>56.0</td>\n",
       "      <td>83.1583</td>\n",
       "      <td>3</td>\n",
       "      <td>3</td>\n",
       "      <td>1</td>\n",
       "    </tr>\n",
       "  </tbody>\n",
       "</table>\n",
       "<p>143 rows × 5 columns</p>\n",
       "</div>"
      ],
      "text/plain": [
       "      Age     Fare  Embarked  passenger_class  passenger_sex\n",
       "116  70.5   7.7500         2                1              0\n",
       "588  22.0   8.0500         1                1              0\n",
       "210  24.0   7.0500         1                1              0\n",
       "120  21.0  73.5000         1                2              0\n",
       "888  25.0  23.4500         1                1              1\n",
       "..    ...      ...       ...              ...            ...\n",
       "63    4.0  27.9000         1                1              0\n",
       "161  40.0  15.7500         1                2              1\n",
       "533  25.0  22.3583         3                1              1\n",
       "883  28.0  10.5000         1                2              0\n",
       "879  56.0  83.1583         3                3              1\n",
       "\n",
       "[143 rows x 5 columns]"
      ]
     },
     "execution_count": 43,
     "metadata": {},
     "output_type": "execute_result"
    }
   ],
   "source": [
    "validacion_clean_x"
   ]
  },
  {
   "cell_type": "code",
   "execution_count": 44,
   "id": "c0ac1a31-70f3-4aaf-b0e6-8dd5799e6b9c",
   "metadata": {},
   "outputs": [
    {
     "data": {
      "text/plain": [
       "116    0\n",
       "588    0\n",
       "210    0\n",
       "120    0\n",
       "888    0\n",
       "      ..\n",
       "63     0\n",
       "161    1\n",
       "533    1\n",
       "883    0\n",
       "879    1\n",
       "Name: passenger_survived, Length: 143, dtype: int64"
      ]
     },
     "execution_count": 44,
     "metadata": {},
     "output_type": "execute_result"
    }
   ],
   "source": [
    "validacion_clean_y"
   ]
  },
  {
   "cell_type": "markdown",
   "id": "1c312a65-57f1-4d26-b3b2-8d0be3680d03",
   "metadata": {},
   "source": [
    "#### Naive Bayes"
   ]
  },
  {
   "cell_type": "code",
   "execution_count": 45,
   "id": "6adc53e8-a3cf-4510-99f3-3bc9e2e463db",
   "metadata": {},
   "outputs": [],
   "source": [
    "import csv\n",
    "\n",
    "with open('result.csv', 'w', newline='') as f:\n",
    "    thewriter = csv.writer(f)\n",
    "    \n",
    "    thewriter.writerow([data])"
   ]
  },
  {
   "cell_type": "code",
   "execution_count": 46,
   "id": "82ed870e-6fc3-419e-9744-9d9bf49eb46a",
   "metadata": {},
   "outputs": [],
   "source": [
    "import csv\n",
    "\n",
    "with open('result_dtc.csv', 'w', newline='') as f:\n",
    "    thewriter = csv.writer(f)\n",
    "    \n",
    "    thewriter.writerow([data])"
   ]
  },
  {
   "cell_type": "code",
   "execution_count": 47,
   "id": "3ca2f174-7693-47b7-9232-02658d33de13",
   "metadata": {},
   "outputs": [],
   "source": [
    "data = pd.DataFrame(list(data.items()))"
   ]
  },
  {
   "cell_type": "code",
   "execution_count": 48,
   "id": "3593cce1-e434-4ff4-bced-4f8195f4f81f",
   "metadata": {},
   "outputs": [
    {
     "data": {
      "text/html": [
       "<div>\n",
       "<style scoped>\n",
       "    .dataframe tbody tr th:only-of-type {\n",
       "        vertical-align: middle;\n",
       "    }\n",
       "\n",
       "    .dataframe tbody tr th {\n",
       "        vertical-align: top;\n",
       "    }\n",
       "\n",
       "    .dataframe thead th {\n",
       "        text-align: right;\n",
       "    }\n",
       "</style>\n",
       "<table border=\"1\" class=\"dataframe\">\n",
       "  <thead>\n",
       "    <tr style=\"text-align: right;\">\n",
       "      <th></th>\n",
       "      <th>0</th>\n",
       "      <th>1</th>\n",
       "    </tr>\n",
       "  </thead>\n",
       "  <tbody>\n",
       "    <tr>\n",
       "      <th>0</th>\n",
       "      <td>Age</td>\n",
       "      <td>0      22.0\n",
       "1      38.0\n",
       "2      26.0\n",
       "3      35....</td>\n",
       "    </tr>\n",
       "    <tr>\n",
       "      <th>1</th>\n",
       "      <td>Fare</td>\n",
       "      <td>0       7.2500\n",
       "1      71.2833\n",
       "2       7.9250\n",
       "3...</td>\n",
       "    </tr>\n",
       "    <tr>\n",
       "      <th>2</th>\n",
       "      <td>Embarked</td>\n",
       "      <td>0      1\n",
       "1      3\n",
       "2      1\n",
       "3      1\n",
       "4      1\n",
       " ...</td>\n",
       "    </tr>\n",
       "    <tr>\n",
       "      <th>3</th>\n",
       "      <td>passenger_class</td>\n",
       "      <td>0      1\n",
       "1      3\n",
       "2      1\n",
       "3      3\n",
       "4      1\n",
       " ...</td>\n",
       "    </tr>\n",
       "    <tr>\n",
       "      <th>4</th>\n",
       "      <td>passenger_sex</td>\n",
       "      <td>0      0\n",
       "1      1\n",
       "2      1\n",
       "3      1\n",
       "4      0\n",
       " ...</td>\n",
       "    </tr>\n",
       "    <tr>\n",
       "      <th>5</th>\n",
       "      <td>passenger_survived</td>\n",
       "      <td>0      0\n",
       "1      1\n",
       "2      1\n",
       "3      1\n",
       "4      0\n",
       " ...</td>\n",
       "    </tr>\n",
       "  </tbody>\n",
       "</table>\n",
       "</div>"
      ],
      "text/plain": [
       "                    0                                                  1\n",
       "0                 Age  0      22.0\n",
       "1      38.0\n",
       "2      26.0\n",
       "3      35....\n",
       "1                Fare  0       7.2500\n",
       "1      71.2833\n",
       "2       7.9250\n",
       "3...\n",
       "2            Embarked  0      1\n",
       "1      3\n",
       "2      1\n",
       "3      1\n",
       "4      1\n",
       " ...\n",
       "3     passenger_class  0      1\n",
       "1      3\n",
       "2      1\n",
       "3      3\n",
       "4      1\n",
       " ...\n",
       "4       passenger_sex  0      0\n",
       "1      1\n",
       "2      1\n",
       "3      1\n",
       "4      0\n",
       " ...\n",
       "5  passenger_survived  0      0\n",
       "1      1\n",
       "2      1\n",
       "3      1\n",
       "4      0\n",
       " ..."
      ]
     },
     "execution_count": 48,
     "metadata": {},
     "output_type": "execute_result"
    }
   ],
   "source": [
    "data"
   ]
  },
  {
   "cell_type": "code",
   "execution_count": 49,
   "id": "de26de4a-a733-433f-b7f5-e2461658c622",
   "metadata": {},
   "outputs": [
    {
     "name": "stdout",
     "output_type": "stream",
     "text": [
      "[0.78070175 0.81578947 0.85087719 0.78947368 0.74336283]\n",
      "0.7960409874243132\n"
     ]
    },
    {
     "ename": "ValueError",
     "evalue": "Expected 2D array, got 1D array instead:\narray=[0 0 0 0 0 0 1 1 0 1 0 1 1 0 1 1 0 0 0 0 0 1 0 0 0 0 0 1 1 0 0 1 1 0 0 1 1\n 1 0 0 0 0 0 1 0 1 1 0 0 0 0 0 1 0 0 0 0 1 1 0 1 0 1 0 1 0 1 0 1 0 1 0 0 1\n 0 1 1 1 0 1 0 1 0 0 0 0 0 1 0 0 0 1 0 0 0 0 1 1 0 1 1 1 0 0 1 1 1 0 0 1 1\n 0 1 0 0 0 0 0 0 1 1 1 0 0 0 0 0 0 0 0 0 0 1 0 1 1 1 0 0 1 1 0 1].\nReshape your data either using array.reshape(-1, 1) if your data has a single feature or array.reshape(1, -1) if it contains a single sample.",
     "output_type": "error",
     "traceback": [
      "\u001b[1;31m---------------------------------------------------------------------------\u001b[0m",
      "\u001b[1;31mValueError\u001b[0m                                Traceback (most recent call last)",
      "Input \u001b[1;32mIn [49]\u001b[0m, in \u001b[0;36m<cell line: 8>\u001b[1;34m()\u001b[0m\n\u001b[0;32m      5\u001b[0m \u001b[38;5;28mprint\u001b[39m(scores)\n\u001b[0;32m      6\u001b[0m \u001b[38;5;28mprint\u001b[39m(scores\u001b[38;5;241m.\u001b[39mmean())\n\u001b[1;32m----> 8\u001b[0m y_pred_nb\u001b[38;5;241m=\u001b[39m\u001b[43mGaussianNB\u001b[49m\u001b[43m(\u001b[49m\u001b[43m)\u001b[49m\u001b[38;5;241;43m.\u001b[39;49m\u001b[43mfit\u001b[49m\u001b[43m(\u001b[49m\u001b[43mX_train\u001b[49m\u001b[43m,\u001b[49m\u001b[43m \u001b[49m\u001b[43mY_train\u001b[49m\u001b[43m)\u001b[49m\u001b[38;5;241;43m.\u001b[39;49m\u001b[43mpredict\u001b[49m\u001b[43m(\u001b[49m\u001b[43mvalidacion_clean_y\u001b[49m\u001b[43m)\u001b[49m\n\u001b[0;32m      9\u001b[0m data\u001b[38;5;241m=\u001b[39m{\u001b[38;5;124m'\u001b[39m\u001b[38;5;124mPassengerId\u001b[39m\u001b[38;5;124m'\u001b[39m: result[\u001b[38;5;124m'\u001b[39m\u001b[38;5;124mPassengerId\u001b[39m\u001b[38;5;124m'\u001b[39m],\u001b[38;5;124m'\u001b[39m\u001b[38;5;124mpassenger_survived\u001b[39m\u001b[38;5;124m'\u001b[39m:y_pred_nb}\n\u001b[0;32m     10\u001b[0m result_nb\u001b[38;5;241m=\u001b[39mpd\u001b[38;5;241m.\u001b[39mDataFrame(data\u001b[38;5;241m=\u001b[39mdata)\n",
      "File \u001b[1;32m~\\AppData\\Roaming\\Python\\Python39\\site-packages\\sklearn\\naive_bayes.py:80\u001b[0m, in \u001b[0;36m_BaseNB.predict\u001b[1;34m(self, X)\u001b[0m\n\u001b[0;32m     66\u001b[0m \u001b[38;5;124;03m\"\"\"\u001b[39;00m\n\u001b[0;32m     67\u001b[0m \u001b[38;5;124;03mPerform classification on an array of test vectors X.\u001b[39;00m\n\u001b[0;32m     68\u001b[0m \n\u001b[1;32m   (...)\u001b[0m\n\u001b[0;32m     77\u001b[0m \u001b[38;5;124;03m    Predicted target values for X.\u001b[39;00m\n\u001b[0;32m     78\u001b[0m \u001b[38;5;124;03m\"\"\"\u001b[39;00m\n\u001b[0;32m     79\u001b[0m check_is_fitted(\u001b[38;5;28mself\u001b[39m)\n\u001b[1;32m---> 80\u001b[0m X \u001b[38;5;241m=\u001b[39m \u001b[38;5;28;43mself\u001b[39;49m\u001b[38;5;241;43m.\u001b[39;49m\u001b[43m_check_X\u001b[49m\u001b[43m(\u001b[49m\u001b[43mX\u001b[49m\u001b[43m)\u001b[49m\n\u001b[0;32m     81\u001b[0m jll \u001b[38;5;241m=\u001b[39m \u001b[38;5;28mself\u001b[39m\u001b[38;5;241m.\u001b[39m_joint_log_likelihood(X)\n\u001b[0;32m     82\u001b[0m \u001b[38;5;28;01mreturn\u001b[39;00m \u001b[38;5;28mself\u001b[39m\u001b[38;5;241m.\u001b[39mclasses_[np\u001b[38;5;241m.\u001b[39margmax(jll, axis\u001b[38;5;241m=\u001b[39m\u001b[38;5;241m1\u001b[39m)]\n",
      "File \u001b[1;32m~\\AppData\\Roaming\\Python\\Python39\\site-packages\\sklearn\\naive_bayes.py:249\u001b[0m, in \u001b[0;36mGaussianNB._check_X\u001b[1;34m(self, X)\u001b[0m\n\u001b[0;32m    247\u001b[0m \u001b[38;5;28;01mdef\u001b[39;00m \u001b[38;5;21m_check_X\u001b[39m(\u001b[38;5;28mself\u001b[39m, X):\n\u001b[0;32m    248\u001b[0m     \u001b[38;5;124;03m\"\"\"Validate X, used only in predict* methods.\"\"\"\u001b[39;00m\n\u001b[1;32m--> 249\u001b[0m     \u001b[38;5;28;01mreturn\u001b[39;00m \u001b[38;5;28;43mself\u001b[39;49m\u001b[38;5;241;43m.\u001b[39;49m\u001b[43m_validate_data\u001b[49m\u001b[43m(\u001b[49m\u001b[43mX\u001b[49m\u001b[43m,\u001b[49m\u001b[43m \u001b[49m\u001b[43mreset\u001b[49m\u001b[38;5;241;43m=\u001b[39;49m\u001b[38;5;28;43;01mFalse\u001b[39;49;00m\u001b[43m)\u001b[49m\n",
      "File \u001b[1;32m~\\AppData\\Roaming\\Python\\Python39\\site-packages\\sklearn\\base.py:577\u001b[0m, in \u001b[0;36mBaseEstimator._validate_data\u001b[1;34m(self, X, y, reset, validate_separately, **check_params)\u001b[0m\n\u001b[0;32m    575\u001b[0m     \u001b[38;5;28;01mraise\u001b[39;00m \u001b[38;5;167;01mValueError\u001b[39;00m(\u001b[38;5;124m\"\u001b[39m\u001b[38;5;124mValidation should be done on X, y or both.\u001b[39m\u001b[38;5;124m\"\u001b[39m)\n\u001b[0;32m    576\u001b[0m \u001b[38;5;28;01melif\u001b[39;00m \u001b[38;5;129;01mnot\u001b[39;00m no_val_X \u001b[38;5;129;01mand\u001b[39;00m no_val_y:\n\u001b[1;32m--> 577\u001b[0m     X \u001b[38;5;241m=\u001b[39m check_array(X, input_name\u001b[38;5;241m=\u001b[39m\u001b[38;5;124m\"\u001b[39m\u001b[38;5;124mX\u001b[39m\u001b[38;5;124m\"\u001b[39m, \u001b[38;5;241m*\u001b[39m\u001b[38;5;241m*\u001b[39mcheck_params)\n\u001b[0;32m    578\u001b[0m     out \u001b[38;5;241m=\u001b[39m X\n\u001b[0;32m    579\u001b[0m \u001b[38;5;28;01melif\u001b[39;00m no_val_X \u001b[38;5;129;01mand\u001b[39;00m \u001b[38;5;129;01mnot\u001b[39;00m no_val_y:\n",
      "File \u001b[1;32m~\\AppData\\Roaming\\Python\\Python39\\site-packages\\sklearn\\utils\\validation.py:879\u001b[0m, in \u001b[0;36mcheck_array\u001b[1;34m(array, accept_sparse, accept_large_sparse, dtype, order, copy, force_all_finite, ensure_2d, allow_nd, ensure_min_samples, ensure_min_features, estimator, input_name)\u001b[0m\n\u001b[0;32m    877\u001b[0m     \u001b[38;5;66;03m# If input is 1D raise error\u001b[39;00m\n\u001b[0;32m    878\u001b[0m     \u001b[38;5;28;01mif\u001b[39;00m array\u001b[38;5;241m.\u001b[39mndim \u001b[38;5;241m==\u001b[39m \u001b[38;5;241m1\u001b[39m:\n\u001b[1;32m--> 879\u001b[0m         \u001b[38;5;28;01mraise\u001b[39;00m \u001b[38;5;167;01mValueError\u001b[39;00m(\n\u001b[0;32m    880\u001b[0m             \u001b[38;5;124m\"\u001b[39m\u001b[38;5;124mExpected 2D array, got 1D array instead:\u001b[39m\u001b[38;5;130;01m\\n\u001b[39;00m\u001b[38;5;124marray=\u001b[39m\u001b[38;5;132;01m{}\u001b[39;00m\u001b[38;5;124m.\u001b[39m\u001b[38;5;130;01m\\n\u001b[39;00m\u001b[38;5;124m\"\u001b[39m\n\u001b[0;32m    881\u001b[0m             \u001b[38;5;124m\"\u001b[39m\u001b[38;5;124mReshape your data either using array.reshape(-1, 1) if \u001b[39m\u001b[38;5;124m\"\u001b[39m\n\u001b[0;32m    882\u001b[0m             \u001b[38;5;124m\"\u001b[39m\u001b[38;5;124myour data has a single feature or array.reshape(1, -1) \u001b[39m\u001b[38;5;124m\"\u001b[39m\n\u001b[0;32m    883\u001b[0m             \u001b[38;5;124m\"\u001b[39m\u001b[38;5;124mif it contains a single sample.\u001b[39m\u001b[38;5;124m\"\u001b[39m\u001b[38;5;241m.\u001b[39mformat(array)\n\u001b[0;32m    884\u001b[0m         )\n\u001b[0;32m    886\u001b[0m \u001b[38;5;28;01mif\u001b[39;00m dtype_numeric \u001b[38;5;129;01mand\u001b[39;00m array\u001b[38;5;241m.\u001b[39mdtype\u001b[38;5;241m.\u001b[39mkind \u001b[38;5;129;01min\u001b[39;00m \u001b[38;5;124m\"\u001b[39m\u001b[38;5;124mUSV\u001b[39m\u001b[38;5;124m\"\u001b[39m:\n\u001b[0;32m    887\u001b[0m     \u001b[38;5;28;01mraise\u001b[39;00m \u001b[38;5;167;01mValueError\u001b[39;00m(\n\u001b[0;32m    888\u001b[0m         \u001b[38;5;124m\"\u001b[39m\u001b[38;5;124mdtype=\u001b[39m\u001b[38;5;124m'\u001b[39m\u001b[38;5;124mnumeric\u001b[39m\u001b[38;5;124m'\u001b[39m\u001b[38;5;124m is not compatible with arrays of bytes/strings.\u001b[39m\u001b[38;5;124m\"\u001b[39m\n\u001b[0;32m    889\u001b[0m         \u001b[38;5;124m\"\u001b[39m\u001b[38;5;124mConvert your data to numeric values explicitly instead.\u001b[39m\u001b[38;5;124m\"\u001b[39m\n\u001b[0;32m    890\u001b[0m     )\n",
      "\u001b[1;31mValueError\u001b[0m: Expected 2D array, got 1D array instead:\narray=[0 0 0 0 0 0 1 1 0 1 0 1 1 0 1 1 0 0 0 0 0 1 0 0 0 0 0 1 1 0 0 1 1 0 0 1 1\n 1 0 0 0 0 0 1 0 1 1 0 0 0 0 0 1 0 0 0 0 1 1 0 1 0 1 0 1 0 1 0 1 0 1 0 0 1\n 0 1 1 1 0 1 0 1 0 0 0 0 0 1 0 0 0 1 0 0 0 0 1 1 0 1 1 1 0 0 1 1 1 0 0 1 1\n 0 1 0 0 0 0 0 0 1 1 1 0 0 0 0 0 0 0 0 0 0 1 0 1 1 1 0 0 1 1 0 1].\nReshape your data either using array.reshape(-1, 1) if your data has a single feature or array.reshape(1, -1) if it contains a single sample."
     ]
    }
   ],
   "source": [
    "from sklearn.naive_bayes import GaussianNB\n",
    "from sklearn.model_selection import cross_val_score\n",
    "nb=GaussianNB()\n",
    "scores=cross_val_score(nb, X_train, Y_train, cv=5)\n",
    "print(scores)\n",
    "print(scores.mean())\n",
    "\n",
    "y_pred_nb=GaussianNB().fit(X_train, Y_train).predict(validacion_clean_y)\n",
    "data={'PassengerId': result['PassengerId'],'passenger_survived':y_pred_nb}\n",
    "result_nb=pd.DataFrame(data=data)\n",
    "result_nb.to_csv('C:/Users/EFunes/Documents/PERSONAL/U/Galileo/II Ciclo/Statistical Learning I/Proyecto-20220419T014445Z-001/Proyecto/result.csv', index=False)\n",
    "result_nb=pd.read_csv('C:/Users/EFunes/Documents/PERSONAL/U/Galileo/II Ciclo/Statistical Learning I/Proyecto-20220419T014445Z-001/Proyecto/result.csv')\n",
    "\n",
    "\n"
   ]
  },
  {
   "cell_type": "markdown",
   "id": "8571b9b6-06fc-4ab3-808c-73d8cdb4ccef",
   "metadata": {},
   "source": [
    "#### Regresión Logística "
   ]
  },
  {
   "cell_type": "code",
   "execution_count": 50,
   "id": "87ac668e-50a0-4c44-8615-84d28425df3d",
   "metadata": {},
   "outputs": [
    {
     "name": "stdout",
     "output_type": "stream",
     "text": [
      "[0.80701754 0.83333333 0.83333333 0.75438596 0.79646018]\n",
      "0.8049060704859494\n"
     ]
    }
   ],
   "source": [
    "from sklearn.linear_model import LogisticRegression\n",
    "LR=LogisticRegression().fit(X_train_scale, Y_train)\n",
    "y_pred=LR.predict(validacion_clean_x)\n",
    "from sklearn.metrics import classification_report\n",
    "\n",
    "\n",
    "from sklearn.model_selection import cross_val_score\n",
    "scores=cross_val_score(LogisticRegression(),X_train_scale,Y_train,cv=5)\n",
    "print(scores)\n",
    "print(scores.mean())"
   ]
  },
  {
   "cell_type": "code",
   "execution_count": 51,
   "id": "369eb563-edc5-44a6-a74b-ab829c4dd8ed",
   "metadata": {},
   "outputs": [
    {
     "name": "stdout",
     "output_type": "stream",
     "text": [
      "train accuracy: 0.8084358523725835 \n",
      " validacion accuracy: 0.7972027972027972\n",
      "\n",
      "\n",
      "classification report for logistic regression\n",
      "              precision    recall  f1-score   support\n",
      "\n",
      "           0       0.80      0.85      0.83        82\n",
      "           1       0.79      0.72      0.75        61\n",
      "\n",
      "    accuracy                           0.80       143\n",
      "   macro avg       0.80      0.79      0.79       143\n",
      "weighted avg       0.80      0.80      0.80       143\n",
      "\n",
      "\n",
      "\n",
      "confusion matrix for logistic regression\n"
     ]
    },
    {
     "data": {
      "image/png": "[encoded data removed]",
      "text/plain": [
       "<Figure size 432x288 with 2 Axes>"
      ]
     },
     "metadata": {
      "needs_background": "light"
     },
     "output_type": "display_data"
    }
   ],
   "source": [
    "#logistic regression\n",
    "lr = LogisticRegression(max_iter=2000,penalty='l2')\n",
    "model1=lr.fit(X_train, Y_train)\n",
    "print(\"train accuracy:\",model1.score(X_train, Y_train),\"\\n\",\"validacion accuracy:\",model1.score(validacion_clean_x,validacion_clean_y))\n",
    "lrpred = lr.predict(validacion_clean_x)\n",
    "print(\"\\n\")\n",
    "print(\"classification report for logistic regression\")\n",
    "print(classification_report(lrpred,validacion_clean_y))\n",
    "print(\"\\n\")\n",
    "print(\"confusion matrix for logistic regression\")\n",
    "displr = plot_confusion_matrix(lr, validacion_clean_x, validacion_clean_y, cmap=plt.cm.Blues , values_format='d')"
   ]
  },
  {
   "cell_type": "markdown",
   "id": "5f24297f-00b1-48d9-b4eb-1fb2ab17f902",
   "metadata": {},
   "source": [
    "#### Arbol de decisión"
   ]
  },
  {
   "cell_type": "code",
   "execution_count": 52,
   "id": "2a45b6e2-a2c2-40d6-9d43-f709a9af3d71",
   "metadata": {},
   "outputs": [
    {
     "name": "stdout",
     "output_type": "stream",
     "text": [
      "train accuracy: 0.9806678383128296 \n",
      " validacion accuracy: 0.8321678321678322\n",
      "\n",
      "\n",
      "classification report for decision tree classifier\n",
      "              precision    recall  f1-score   support\n",
      "\n",
      "           0       0.85      0.87      0.86        85\n",
      "           1       0.80      0.78      0.79        58\n",
      "\n",
      "    accuracy                           0.83       143\n",
      "   macro avg       0.83      0.82      0.82       143\n",
      "weighted avg       0.83      0.83      0.83       143\n",
      "\n",
      "\n",
      "\n",
      "confusion matrix for decision tree classifier\n"
     ]
    },
    {
     "data": {
      "image/png": "[encoded data removed]",
      "text/plain": [
       "<Figure size 432x288 with 2 Axes>"
      ]
     },
     "metadata": {
      "needs_background": "light"
     },
     "output_type": "display_data"
    }
   ],
   "source": [
    "#decision tree classifier\n",
    "dt=DecisionTreeClassifier()\n",
    "model3=dt.fit(X_train, Y_train)\n",
    "print(\"train accuracy:\",model3.score(X_train, Y_train),\"\\n\",\"validacion accuracy:\",model3.score(validacion_clean_x,validacion_clean_y))\n",
    "\n",
    "dtpred = dt.predict(validacion_clean_x)\n",
    "print(\"\\n\")\n",
    "print(\"classification report for decision tree classifier\")\n",
    "print(classification_report(dtpred,validacion_clean_y))\n",
    "print(\"\\n\")\n",
    "print(\"confusion matrix for decision tree classifier\")\n",
    "displr = plot_confusion_matrix(dt, validacion_clean_x, validacion_clean_y ,cmap=plt.cm.Blues , values_format='d')"
   ]
  },
  {
   "cell_type": "code",
   "execution_count": 53,
   "id": "c141b34c-0fcb-4d67-bed2-1e426a698e2e",
   "metadata": {},
   "outputs": [
    {
     "name": "stdout",
     "output_type": "stream",
     "text": [
      "[0.78947368 0.83333333 0.79824561 0.79824561 0.78761062]\n",
      "0.8013817730166123\n"
     ]
    },
    {
     "ename": "NameError",
     "evalue": "name 'result' is not defined",
     "output_type": "error",
     "traceback": [
      "\u001b[1;31m---------------------------------------------------------------------------\u001b[0m",
      "\u001b[1;31mNameError\u001b[0m                                 Traceback (most recent call last)",
      "Input \u001b[1;32mIn [53]\u001b[0m, in \u001b[0;36m<cell line: 9>\u001b[1;34m()\u001b[0m\n\u001b[0;32m      6\u001b[0m \u001b[38;5;28mprint\u001b[39m(scores\u001b[38;5;241m.\u001b[39mmean())\n\u001b[0;32m      8\u001b[0m y_pred_dtc\u001b[38;5;241m=\u001b[39mDecisionTreeClassifier()\u001b[38;5;241m.\u001b[39mfit(X_train, Y_train)\u001b[38;5;241m.\u001b[39mpredict(validacion_clean_x)\n\u001b[1;32m----> 9\u001b[0m data\u001b[38;5;241m=\u001b[39m{\u001b[38;5;124m'\u001b[39m\u001b[38;5;124mPassengerId\u001b[39m\u001b[38;5;124m'\u001b[39m: \u001b[43mresult\u001b[49m[\u001b[38;5;124m'\u001b[39m\u001b[38;5;124mPassengerId\u001b[39m\u001b[38;5;124m'\u001b[39m],\u001b[38;5;124m'\u001b[39m\u001b[38;5;124mpassenger_survived\u001b[39m\u001b[38;5;124m'\u001b[39m:y_pred_dtc}\n\u001b[0;32m     10\u001b[0m result_dtc\u001b[38;5;241m=\u001b[39mpd\u001b[38;5;241m.\u001b[39mDataFrame(data)\n\u001b[0;32m     11\u001b[0m result_dtc\u001b[38;5;241m.\u001b[39mto_csv(\u001b[38;5;124m'\u001b[39m\u001b[38;5;124mC:/Users/EFunes/Documents/PERSONAL/U/Galileo/II Ciclo/Statistical Learning I/Proyecto-20220419T014445Z-001/Proyecto/result_dtc.csv\u001b[39m\u001b[38;5;124m'\u001b[39m, index\u001b[38;5;241m=\u001b[39m\u001b[38;5;28;01mTrue\u001b[39;00m)\n",
      "\u001b[1;31mNameError\u001b[0m: name 'result' is not defined"
     ]
    }
   ],
   "source": [
    "from sklearn.tree import DecisionTreeClassifier\n",
    "from sklearn.model_selection import cross_val_score\n",
    "dtc=DecisionTreeClassifier()\n",
    "scores=cross_val_score(dtc, X_train, Y_train, cv=5)\n",
    "print(scores)\n",
    "print(scores.mean())\n",
    "\n",
    "y_pred_dtc=DecisionTreeClassifier().fit(X_train, Y_train).predict(validacion_clean_x)\n",
    "data={'PassengerId': result['PassengerId'],'passenger_survived':y_pred_dtc}\n",
    "result_dtc=pd.DataFrame(data)\n",
    "result_dtc.to_csv('C:/Users/EFunes/Documents/PERSONAL/U/Galileo/II Ciclo/Statistical Learning I/Proyecto-20220419T014445Z-001/Proyecto/result_dtc.csv', index=True)\n",
    "result_dtc=pd.read_csv('C:/Users/EFunes/Documents/PERSONAL/U/Galileo/II Ciclo/Statistical Learning I/Proyecto-20220419T014445Z-001/Proyecto/result_dtc.csv')"
   ]
  },
  {
   "cell_type": "markdown",
   "id": "c57a387d-2dce-496a-a92a-3827bfb2e65b",
   "metadata": {},
   "source": [
    "#### SVM con sklearn"
   ]
  },
  {
   "cell_type": "code",
   "execution_count": 54,
   "id": "316bd1e4-fa85-4726-a016-4a37212d3f9a",
   "metadata": {},
   "outputs": [
    {
     "name": "stdout",
     "output_type": "stream",
     "text": [
      "[0.79824561 0.8245614  0.8245614  0.76315789 0.76106195]\n",
      "0.7943176525384257\n"
     ]
    }
   ],
   "source": [
    "from sklearn.svm import SVC\n",
    "from sklearn.model_selection import cross_val_score\n",
    "svc=SVC(kernel='linear', C=1)\n",
    "scores=cross_val_score(svc, X_train_scale, Y_train, cv=5)\n",
    "print(scores)\n",
    "print(scores.mean())"
   ]
  },
  {
   "cell_type": "code",
   "execution_count": 55,
   "id": "fe703307-c322-4b98-97f2-50c6a42e7036",
   "metadata": {},
   "outputs": [],
   "source": [
    "from sklearn import tree\n",
    "clf = tree.DecisionTreeClassifier()\n",
    "clf = clf.fit(X_train, Y_train)"
   ]
  },
  {
   "cell_type": "code",
   "execution_count": 56,
   "id": "2b9257cf-e831-4b44-a767-bf726663f249",
   "metadata": {},
   "outputs": [
    {
     "data": {
      "text/plain": [
       "[Ellipsis]"
      ]
     },
     "execution_count": 56,
     "metadata": {},
     "output_type": "execute_result"
    },
    {
     "data": {
      "image/png": "[encoded data removed]",
      "text/plain": [
       "<Figure size 432x288 with 1 Axes>"
      ]
     },
     "metadata": {
      "needs_background": "light"
     },
     "output_type": "display_data"
    }
   ],
   "source": [
    "tree.plot_tree(clf)\n",
    "[...]"
   ]
  },
  {
   "cell_type": "markdown",
   "id": "0fa32247-4c0a-4319-8d63-1f187152264f",
   "metadata": {},
   "source": [
    "### Investigación de K Fold"
   ]
  },
  {
   "cell_type": "markdown",
   "id": "7d5d0698-c0e4-4238-a51c-292fff47b280",
   "metadata": {},
   "source": [
    "##### K-fold cross-validation es una técnica superior para validar el rendimiento o performance de nuestro modelo. Evalúa el modelo utilizando diferentes pedazos (chunks) del set de datos como por ejemplo los datos de validación.\n",
    "\n",
    "##### Se divide la data en K folds. K representa el número de pliegues (folds) en el cual se quiere dividir la data. Si utilizamos 5 folds, el set de datos será dividido en 5 secciones. En cada iteración, una parte se convierte en el set de validaciones."
   ]
  },
  {
   "attachments": {
    "2826446a-eb47-40c9-9fca-51d00ca406bf.PNG": {
     "image/png": "[encoded data removed]"
    }
   },
   "cell_type": "markdown",
   "id": "2a711f6f-1b5c-49e5-960b-99c6d4f27c19",
   "metadata": {},
   "source": [
    "![KFolds.PNG](attachment:2826446a-eb47-40c9-9fca-51d00ca406bf.PNG)"
   ]
  },
  {
   "cell_type": "markdown",
   "id": "97a15745-36c1-4889-83df-042475466c94",
   "metadata": {},
   "source": [
    "##### Este método garantiza que el score de nuestro modelo no depende en la manera que seleccionamos el set de entrenamiento y el set de pruebas. Los pasos son:\n",
    "1. De manera aleatoria dividir el set completo de datos en el K Folds definidos (subsets de 3, 5, etc.)\n",
    "2. Por cada uno de los folds en el dataset, se construye el modelo con K-1 folds del dataset. Después hay que probar el modelo para validar la efectividad del kth Fold\n",
    "3. Repetir esto hasta que cada K Folds ha sido utilizado para el set de pruebas.\n",
    "4. El promedio del registro K es llamado \"cross-validation accuracy\" y será utilizado como la métrica de rendimiento del modelo."
   ]
  },
  {
   "cell_type": "markdown",
   "id": "ff4207a5-5710-47b0-9d94-726e0a37bbc8",
   "metadata": {},
   "source": [
    "#### Conclusiones de KFolds"
   ]
  },
  {
   "cell_type": "markdown",
   "id": "192a04b6-b4f2-4fac-a5a0-a1c962ebb82a",
   "metadata": {},
   "source": [
    "##### Es ideal cuando se tiene un set de data pequeño, pero cuando es set de data es inmenso no hace falta utilizar KFolds, ya que se tienen suficientes registros para validar el modelo de Machine Learning. Toma demasiado tiempo utilizar KFolds cross validation en un set de data muy extenso.\n",
    "\n",
    "##### Finalmente, si utilizamos muchos K Folds para validar el modelo, esto implica un alto consumo computacional. Mientras más alto sea el valor de K, mayor será el tiempo de entrenamiento del modelo. Si utilizamos K=5, el modelo de entrenamiento corre 5 veces utilizando 5 diferentes folds, si es K=10 10 diferentes folds, y así sucesivamente."
   ]
  },
  {
   "cell_type": "markdown",
   "id": "e8d6c94b-7d24-48b5-ad55-5c29a0da7258",
   "metadata": {},
   "source": [
    "https://towardsdatascience.com/why-and-how-to-cross-validate-a-model-d6424b45261f"
   ]
  },
  {
   "cell_type": "markdown",
   "id": "3f597f08-452a-4af2-be96-0d74547c61ce",
   "metadata": {},
   "source": [
    "### Aplicación de K Folds en Data Train Titanic"
   ]
  },
  {
   "cell_type": "code",
   "execution_count": 57,
   "id": "2d1d4249-16c8-49b7-b001-7432ce09c90e",
   "metadata": {},
   "outputs": [],
   "source": [
    "X= train.drop(columns=['passenger_survived'])\n",
    "y= train['passenger_survived']"
   ]
  },
  {
   "cell_type": "code",
   "execution_count": 58,
   "id": "089bf8ab-def1-4e6b-a16c-bf017158b680",
   "metadata": {},
   "outputs": [
    {
     "name": "stdout",
     "output_type": "stream",
     "text": [
      "K-fold cross-validation results:\n",
      "LogisticRegression average accuracy is 0.803\n",
      "LogisticRegression average log_loss is 0.431\n",
      "LogisticRegression average auc is 0.853\n"
     ]
    }
   ],
   "source": [
    "from sklearn.linear_model import LogisticRegression\n",
    "\n",
    "logreg = LogisticRegression()\n",
    "\n",
    "# cv=10 for 5 folds\n",
    "\n",
    "scores_accuracy = cross_val_score(logreg, X, y, cv=5, scoring='accuracy')\n",
    "scores_log_loss = cross_val_score(logreg, X, y, cv=5, scoring='neg_log_loss')\n",
    "scores_auc = cross_val_score(logreg, X, y, cv=5, scoring='roc_auc')\n",
    "print('K-fold cross-validation results:')\n",
    "print(logreg.__class__.__name__+\" average accuracy is %2.3f\" % scores_accuracy.mean())\n",
    "print(logreg.__class__.__name__+\" average log_loss is %2.3f\" % -scores_log_loss.mean())\n",
    "print(logreg.__class__.__name__+\" average auc is %2.3f\" % scores_auc.mean())"
   ]
  },
  {
   "cell_type": "markdown",
   "id": "8f1bdeca-c027-4469-9f77-34426b879be2",
   "metadata": {},
   "source": [
    "### Aplicación de K Folds en Data Test Titanic"
   ]
  },
  {
   "cell_type": "code",
   "execution_count": 59,
   "id": "4f0f8ff9-28d3-4e20-86c4-a80a0295846e",
   "metadata": {},
   "outputs": [],
   "source": [
    "Xtest= test.drop(columns=['passenger_survived'])\n",
    "ytest= test['passenger_survived']"
   ]
  },
  {
   "cell_type": "code",
   "execution_count": 60,
   "id": "b1f209f4-d341-4cb6-a9c8-8aabfac966bd",
   "metadata": {},
   "outputs": [
    {
     "name": "stdout",
     "output_type": "stream",
     "text": [
      "K-fold cross-validation results:\n",
      "LogisticRegression average accuracy is 0.743\n",
      "LogisticRegression average log_loss is 0.526\n",
      "LogisticRegression average auc is 0.812\n"
     ]
    }
   ],
   "source": [
    "from sklearn.linear_model import LogisticRegression\n",
    "\n",
    "logreg = LogisticRegression()\n",
    "\n",
    "# cv=10 for 5 folds\n",
    "\n",
    "scores_accuracy = cross_val_score(logreg, Xtest, ytest, cv=5, scoring='accuracy')\n",
    "scores_log_loss = cross_val_score(logreg, Xtest, ytest, cv=5, scoring='neg_log_loss')\n",
    "scores_auc = cross_val_score(logreg, Xtest, ytest, cv=5, scoring='roc_auc')\n",
    "print('K-fold cross-validation results:')\n",
    "print(logreg.__class__.__name__+\" average accuracy is %2.3f\" % scores_accuracy.mean())\n",
    "print(logreg.__class__.__name__+\" average log_loss is %2.3f\" % -scores_log_loss.mean())\n",
    "print(logreg.__class__.__name__+\" average auc is %2.3f\" % scores_auc.mean())"
   ]
  },
  {
   "cell_type": "markdown",
   "id": "8b224d14-c5e9-4b51-966b-0eb6bff1b7e3",
   "metadata": {},
   "source": [
    "### Predicción"
   ]
  },
  {
   "cell_type": "markdown",
   "id": "779c1511-3a2d-41df-b7f3-b1729ae65655",
   "metadata": {},
   "source": [
    "#### Naives Bayes"
   ]
  },
  {
   "cell_type": "code",
   "execution_count": 61,
   "id": "4feed671-1b4b-41a7-b2f2-214555e3bb19",
   "metadata": {},
   "outputs": [],
   "source": [
    "x_test= train.drop(['passenger_survived'],1)\n",
    "y_test= train['passenger_survived']"
   ]
  },
  {
   "cell_type": "code",
   "execution_count": 62,
   "id": "4db989aa-1ca2-420f-b357-9067b07b2f59",
   "metadata": {},
   "outputs": [
    {
     "name": "stdout",
     "output_type": "stream",
     "text": [
      "[0.78070175 0.81578947 0.85087719 0.78947368 0.74336283]\n",
      "0.7960409874243132\n"
     ]
    },
    {
     "ename": "ValueError",
     "evalue": "X has 6 features, but GaussianNB is expecting 5 features as input.",
     "output_type": "error",
     "traceback": [
      "\u001b[1;31m---------------------------------------------------------------------------\u001b[0m",
      "\u001b[1;31mValueError\u001b[0m                                Traceback (most recent call last)",
      "Input \u001b[1;32mIn [62]\u001b[0m, in \u001b[0;36m<cell line: 8>\u001b[1;34m()\u001b[0m\n\u001b[0;32m      5\u001b[0m \u001b[38;5;28mprint\u001b[39m(scores)\n\u001b[0;32m      6\u001b[0m \u001b[38;5;28mprint\u001b[39m(scores\u001b[38;5;241m.\u001b[39mmean())\n\u001b[1;32m----> 8\u001b[0m y_pred_nb\u001b[38;5;241m=\u001b[39m\u001b[43mGaussianNB\u001b[49m\u001b[43m(\u001b[49m\u001b[43m)\u001b[49m\u001b[38;5;241;43m.\u001b[39;49m\u001b[43mfit\u001b[49m\u001b[43m(\u001b[49m\u001b[43mx_test\u001b[49m\u001b[43m,\u001b[49m\u001b[43m \u001b[49m\u001b[43my_test\u001b[49m\u001b[43m)\u001b[49m\u001b[38;5;241;43m.\u001b[39;49m\u001b[43mpredict\u001b[49m\u001b[43m(\u001b[49m\u001b[43mtest\u001b[49m\u001b[43m)\u001b[49m\n\u001b[0;32m      9\u001b[0m data\u001b[38;5;241m=\u001b[39m{\u001b[38;5;124m'\u001b[39m\u001b[38;5;124mPassengerId\u001b[39m\u001b[38;5;124m'\u001b[39m: data_titanic_proyecto[\u001b[38;5;124m'\u001b[39m\u001b[38;5;124mPassengerId\u001b[39m\u001b[38;5;124m'\u001b[39m],\u001b[38;5;124m'\u001b[39m\u001b[38;5;124mpassenger_survived\u001b[39m\u001b[38;5;124m'\u001b[39m:y_pred_nb}\n\u001b[0;32m     10\u001b[0m result_nb\u001b[38;5;241m=\u001b[39mpd\u001b[38;5;241m.\u001b[39mDataFrame(data)\n",
      "File \u001b[1;32m~\\AppData\\Roaming\\Python\\Python39\\site-packages\\sklearn\\naive_bayes.py:80\u001b[0m, in \u001b[0;36m_BaseNB.predict\u001b[1;34m(self, X)\u001b[0m\n\u001b[0;32m     66\u001b[0m \u001b[38;5;124;03m\"\"\"\u001b[39;00m\n\u001b[0;32m     67\u001b[0m \u001b[38;5;124;03mPerform classification on an array of test vectors X.\u001b[39;00m\n\u001b[0;32m     68\u001b[0m \n\u001b[1;32m   (...)\u001b[0m\n\u001b[0;32m     77\u001b[0m \u001b[38;5;124;03m    Predicted target values for X.\u001b[39;00m\n\u001b[0;32m     78\u001b[0m \u001b[38;5;124;03m\"\"\"\u001b[39;00m\n\u001b[0;32m     79\u001b[0m check_is_fitted(\u001b[38;5;28mself\u001b[39m)\n\u001b[1;32m---> 80\u001b[0m X \u001b[38;5;241m=\u001b[39m \u001b[38;5;28;43mself\u001b[39;49m\u001b[38;5;241;43m.\u001b[39;49m\u001b[43m_check_X\u001b[49m\u001b[43m(\u001b[49m\u001b[43mX\u001b[49m\u001b[43m)\u001b[49m\n\u001b[0;32m     81\u001b[0m jll \u001b[38;5;241m=\u001b[39m \u001b[38;5;28mself\u001b[39m\u001b[38;5;241m.\u001b[39m_joint_log_likelihood(X)\n\u001b[0;32m     82\u001b[0m \u001b[38;5;28;01mreturn\u001b[39;00m \u001b[38;5;28mself\u001b[39m\u001b[38;5;241m.\u001b[39mclasses_[np\u001b[38;5;241m.\u001b[39margmax(jll, axis\u001b[38;5;241m=\u001b[39m\u001b[38;5;241m1\u001b[39m)]\n",
      "File \u001b[1;32m~\\AppData\\Roaming\\Python\\Python39\\site-packages\\sklearn\\naive_bayes.py:249\u001b[0m, in \u001b[0;36mGaussianNB._check_X\u001b[1;34m(self, X)\u001b[0m\n\u001b[0;32m    247\u001b[0m \u001b[38;5;28;01mdef\u001b[39;00m \u001b[38;5;21m_check_X\u001b[39m(\u001b[38;5;28mself\u001b[39m, X):\n\u001b[0;32m    248\u001b[0m     \u001b[38;5;124;03m\"\"\"Validate X, used only in predict* methods.\"\"\"\u001b[39;00m\n\u001b[1;32m--> 249\u001b[0m     \u001b[38;5;28;01mreturn\u001b[39;00m \u001b[38;5;28;43mself\u001b[39;49m\u001b[38;5;241;43m.\u001b[39;49m\u001b[43m_validate_data\u001b[49m\u001b[43m(\u001b[49m\u001b[43mX\u001b[49m\u001b[43m,\u001b[49m\u001b[43m \u001b[49m\u001b[43mreset\u001b[49m\u001b[38;5;241;43m=\u001b[39;49m\u001b[38;5;28;43;01mFalse\u001b[39;49;00m\u001b[43m)\u001b[49m\n",
      "File \u001b[1;32m~\\AppData\\Roaming\\Python\\Python39\\site-packages\\sklearn\\base.py:600\u001b[0m, in \u001b[0;36mBaseEstimator._validate_data\u001b[1;34m(self, X, y, reset, validate_separately, **check_params)\u001b[0m\n\u001b[0;32m    597\u001b[0m     out \u001b[38;5;241m=\u001b[39m X, y\n\u001b[0;32m    599\u001b[0m \u001b[38;5;28;01mif\u001b[39;00m \u001b[38;5;129;01mnot\u001b[39;00m no_val_X \u001b[38;5;129;01mand\u001b[39;00m check_params\u001b[38;5;241m.\u001b[39mget(\u001b[38;5;124m\"\u001b[39m\u001b[38;5;124mensure_2d\u001b[39m\u001b[38;5;124m\"\u001b[39m, \u001b[38;5;28;01mTrue\u001b[39;00m):\n\u001b[1;32m--> 600\u001b[0m     \u001b[38;5;28;43mself\u001b[39;49m\u001b[38;5;241;43m.\u001b[39;49m\u001b[43m_check_n_features\u001b[49m\u001b[43m(\u001b[49m\u001b[43mX\u001b[49m\u001b[43m,\u001b[49m\u001b[43m \u001b[49m\u001b[43mreset\u001b[49m\u001b[38;5;241;43m=\u001b[39;49m\u001b[43mreset\u001b[49m\u001b[43m)\u001b[49m\n\u001b[0;32m    602\u001b[0m \u001b[38;5;28;01mreturn\u001b[39;00m out\n",
      "File \u001b[1;32m~\\AppData\\Roaming\\Python\\Python39\\site-packages\\sklearn\\base.py:400\u001b[0m, in \u001b[0;36mBaseEstimator._check_n_features\u001b[1;34m(self, X, reset)\u001b[0m\n\u001b[0;32m    397\u001b[0m     \u001b[38;5;28;01mreturn\u001b[39;00m\n\u001b[0;32m    399\u001b[0m \u001b[38;5;28;01mif\u001b[39;00m n_features \u001b[38;5;241m!=\u001b[39m \u001b[38;5;28mself\u001b[39m\u001b[38;5;241m.\u001b[39mn_features_in_:\n\u001b[1;32m--> 400\u001b[0m     \u001b[38;5;28;01mraise\u001b[39;00m \u001b[38;5;167;01mValueError\u001b[39;00m(\n\u001b[0;32m    401\u001b[0m         \u001b[38;5;124mf\u001b[39m\u001b[38;5;124m\"\u001b[39m\u001b[38;5;124mX has \u001b[39m\u001b[38;5;132;01m{\u001b[39;00mn_features\u001b[38;5;132;01m}\u001b[39;00m\u001b[38;5;124m features, but \u001b[39m\u001b[38;5;132;01m{\u001b[39;00m\u001b[38;5;28mself\u001b[39m\u001b[38;5;241m.\u001b[39m\u001b[38;5;18m__class__\u001b[39m\u001b[38;5;241m.\u001b[39m\u001b[38;5;18m__name__\u001b[39m\u001b[38;5;132;01m}\u001b[39;00m\u001b[38;5;124m \u001b[39m\u001b[38;5;124m\"\u001b[39m\n\u001b[0;32m    402\u001b[0m         \u001b[38;5;124mf\u001b[39m\u001b[38;5;124m\"\u001b[39m\u001b[38;5;124mis expecting \u001b[39m\u001b[38;5;132;01m{\u001b[39;00m\u001b[38;5;28mself\u001b[39m\u001b[38;5;241m.\u001b[39mn_features_in_\u001b[38;5;132;01m}\u001b[39;00m\u001b[38;5;124m features as input.\u001b[39m\u001b[38;5;124m\"\u001b[39m\n\u001b[0;32m    403\u001b[0m     )\n",
      "\u001b[1;31mValueError\u001b[0m: X has 6 features, but GaussianNB is expecting 5 features as input."
     ]
    }
   ],
   "source": [
    "from sklearn.naive_bayes import GaussianNB\n",
    "from sklearn.model_selection import cross_val_score\n",
    "nb=GaussianNB()\n",
    "scores=cross_val_score(nb, x_test, y_test, cv=5)\n",
    "print(scores)\n",
    "print(scores.mean())\n",
    "\n",
    "y_pred_nb=GaussianNB().fit(x_test, y_test).predict(test)\n",
    "data={'PassengerId': data_titanic_proyecto['PassengerId'],'passenger_survived':y_pred_nb}\n",
    "result_nb=pd.DataFrame(data)\n",
    "result_nb.to_csv('C:/Users/EFunes/Documents/PERSONAL/U/Galileo/II Ciclo/Statistical Learning I/Proyecto-20220419T014445Z-001/Proyecto/result_dtc.csv', index=False)\n",
    "result_nb=pd.read_csv('C:/Users/EFunes/Documents/PERSONAL/U/Galileo/II Ciclo/Statistical Learning I/Proyecto-20220419T014445Z-001/Proyecto/result_dtc.csv')"
   ]
  },
  {
   "cell_type": "markdown",
   "id": "cd6d3f6d-d4f5-4f08-a49e-c0acc50ea06a",
   "metadata": {},
   "source": [
    "#### Regresión Logística"
   ]
  },
  {
   "cell_type": "code",
   "execution_count": 63,
   "id": "7404157b-fcad-46ad-90db-7478ab4161ee",
   "metadata": {},
   "outputs": [
    {
     "name": "stdout",
     "output_type": "stream",
     "text": [
      "train accuracy: 0.8084358523725835 \n",
      " test accuracy: 0.8084358523725835\n",
      "\n",
      "\n",
      "classification report for logistic regression\n",
      "              precision    recall  f1-score   support\n",
      "\n",
      "           0       0.86      0.84      0.85       375\n",
      "           1       0.71      0.74      0.73       194\n",
      "\n",
      "    accuracy                           0.81       569\n",
      "   macro avg       0.79      0.79      0.79       569\n",
      "weighted avg       0.81      0.81      0.81       569\n",
      "\n",
      "\n",
      "\n",
      "confusion matrix for logistic regression\n"
     ]
    },
    {
     "data": {
      "image/png": "[encoded data removed]",
      "text/plain": [
       "<Figure size 432x288 with 2 Axes>"
      ]
     },
     "metadata": {
      "needs_background": "light"
     },
     "output_type": "display_data"
    }
   ],
   "source": [
    "#logistic regression\n",
    "lr = LogisticRegression(max_iter=2000,penalty='l2')\n",
    "model1=lr.fit(x_test, y_test)\n",
    "print(\"train accuracy:\",model1.score(x_test, y_test),\"\\n\",\"test accuracy:\",model1.score(x_test,y_test))\n",
    "lrpred = lr.predict(x_test)\n",
    "print(\"\\n\")\n",
    "print(\"classification report for logistic regression\")\n",
    "print(classification_report(lrpred,y_test))\n",
    "print(\"\\n\")\n",
    "print(\"confusion matrix for logistic regression\")\n",
    "displr = plot_confusion_matrix(lr, x_test, y_test, cmap=plt.cm.Blues , values_format='d')"
   ]
  },
  {
   "cell_type": "markdown",
   "id": "0de35523-91df-49b4-911d-6ad92e92500a",
   "metadata": {},
   "source": [
    "#### Árbol de Decisión"
   ]
  },
  {
   "cell_type": "code",
   "execution_count": 64,
   "id": "1d74b3a8-8672-4936-a1a5-056181f4def9",
   "metadata": {},
   "outputs": [
    {
     "name": "stdout",
     "output_type": "stream",
     "text": [
      "train accuracy: 0.9806678383128296 \n",
      " test accuracy: 0.9806678383128296\n",
      "\n",
      "\n",
      "classification report for decision tree classifier\n",
      "              precision    recall  f1-score   support\n",
      "\n",
      "           0       1.00      0.97      0.99       375\n",
      "           1       0.95      0.99      0.97       194\n",
      "\n",
      "    accuracy                           0.98       569\n",
      "   macro avg       0.97      0.98      0.98       569\n",
      "weighted avg       0.98      0.98      0.98       569\n",
      "\n",
      "\n",
      "\n",
      "confusion matrix for decision tree classifier\n"
     ]
    },
    {
     "data": {
      "image/png": "[encoded data removed]",
      "text/plain": [
       "<Figure size 432x288 with 2 Axes>"
      ]
     },
     "metadata": {
      "needs_background": "light"
     },
     "output_type": "display_data"
    }
   ],
   "source": [
    "#decision tree classifier\n",
    "dt=DecisionTreeClassifier()\n",
    "model3=dt.fit(x_test, y_test)\n",
    "print(\"train accuracy:\",model3.score(x_test, y_test),\"\\n\",\"test accuracy:\",model3.score(x_test,y_test))\n",
    "\n",
    "dtpred = dt.predict(x_test)\n",
    "print(\"\\n\")\n",
    "print(\"classification report for decision tree classifier\")\n",
    "print(classification_report(dtpred,y_test))\n",
    "print(\"\\n\")\n",
    "print(\"confusion matrix for decision tree classifier\")\n",
    "displr = plot_confusion_matrix(dt, x_test, y_test ,cmap=plt.cm.Blues , values_format='d')"
   ]
  },
  {
   "cell_type": "code",
   "execution_count": 65,
   "id": "605e9280-0b66-4050-9bab-4221f990438f",
   "metadata": {},
   "outputs": [],
   "source": [
    "import tensorflow as tf\n",
    "import datetime\n",
    "import sklearn\n",
    "from tensorflow import keras"
   ]
  },
  {
   "cell_type": "code",
   "execution_count": 66,
   "id": "13c2b850-15cb-4718-98d6-89d94c90d205",
   "metadata": {},
   "outputs": [
    {
     "name": "stdout",
     "output_type": "stream",
     "text": [
      "WARNING:tensorflow:From C:\\Users\\EFunes\\AppData\\Roaming\\Python\\Python39\\site-packages\\tensorflow\\python\\compat\\v2_compat.py:107: disable_resource_variables (from tensorflow.python.ops.variable_scope) is deprecated and will be removed in a future version.\n",
      "Instructions for updating:\n",
      "non-resource variables are not supported in the long term\n"
     ]
    }
   ],
   "source": [
    "import tensorflow.compat.v1 as tf\n",
    "tf.disable_v2_behavior()"
   ]
  },
  {
   "cell_type": "code",
   "execution_count": 67,
   "id": "6ad18fe1-94db-44b3-94d2-325f9d935f18",
   "metadata": {},
   "outputs": [],
   "source": [
    "def gradient_descent(x, y, epochs, lr, print_rate=100):\n",
    "    #tf.reset_default_graph()\n",
    "    tf.compat.v1.reset_default_graph()\n",
    "    \n",
    "    with tf.name_scope(\"input\"):\n",
    "        x = tf.concat([x, tf.ones_like(x)], axis = 1)\n",
    "    with tf.name_scope(\"params\"):\n",
    "        params = tf.Variable(name=\"params\", initial_value = tf.zeros((2, 1), tf.float64))\n",
    "    with tf.name_scope(\"Modelo\"):\n",
    "        y_hat = tf.matmul(x, params)\n",
    "    with tf.name_scope(\"error\"):\n",
    "        error = 1/2 * tf.reduce_mean(tf.math.square(y - y_hat))\n",
    "    with tf.name_scope(\"gradient\"):\n",
    "        gradients = tf.gradients(error, params)\n",
    "    with tf.name_scope(\"update_model\"):\n",
    "        fit = tf.scalar_mul(-lr, gradients[0])\n",
    "        update_model = tf.compat.v1.assign(params, tf.add(params, fit))\n",
    "\n",
    "\n",
    "    with tf.Session() as session:\n",
    "        summary = tf.summary.scalar(name = \"error_epochs\", tensor = error)\n",
    "        writer = tf.summary.FileWriter(\"./logs/\" + datetime.datetime.now().strftime(\"%Y%m%d-%H%M%S\") + \"_lr=\" + str(lr) + \"_epochs=\" + str(epochs), session.graph)\n",
    "        session.run(tf.global_variables_initializer())\n",
    "        for epoch in range(0, epochs):\n",
    "            if ((epoch + 1) % print_rate) == 0:\n",
    "                print(\"error: \" + str(session.run(error)))\n",
    "      \n",
    "            writer.add_summary(session.run(summary), epoch)\n",
    "            session.run(update_model)\n",
    "\n",
    "        params = session.run(params)\n",
    "\n",
    "        writer.close()\n",
    "    session.close()\n",
    "\n",
    "    return params"
   ]
  },
  {
   "cell_type": "code",
   "execution_count": 68,
   "id": "c64032e2-6ebb-4f47-996c-8aa74d8fee94",
   "metadata": {},
   "outputs": [],
   "source": [
    "# Se tienen las features \"a\" y \"b\" y seleccionamos polinomio de grado 2, hacemos feature engineering para obtener :\n",
    "n = len(train)\n",
    "a = np.array(train[\"passenger_sex\"]).reshape(n,1)\n",
    "b = np.array(train[\"passenger_class\"]).reshape(n,1)\n",
    "\n",
    "ab = np.multiply(a,b)\n",
    "a2 = np.multiply(a,a)\n",
    "b2 = np.multiply(b,b)\n",
    "\n",
    "# el \"bias\" (parámetro multiplicado por 1) ,con lo cual el dataset puede quedar con las columna\n",
    "ones = np.ones(shape=[n,1])\n",
    "#x = np.ndarray([[ones],[a],[b],[a2],[b2],[ab]])\n",
    "x = np.concatenate ([ones,a,b,a2,b2,ab], axis=1)\n",
    "#y = np.array(data[\"passenger_survived\"]).reshape(n,1)\n",
    "y_test= train['passenger_survived']\n",
    "\n",
    "\n",
    "#x = tf.concat ([ones,a,b,a2,b2,ab], axis=1)"
   ]
  },
  {
   "cell_type": "code",
   "execution_count": 69,
   "id": "dcc2211c-942c-4bb2-9cd7-eadbeb1f1458",
   "metadata": {},
   "outputs": [
    {
     "data": {
      "text/html": [
       "<div>\n",
       "<style scoped>\n",
       "    .dataframe tbody tr th:only-of-type {\n",
       "        vertical-align: middle;\n",
       "    }\n",
       "\n",
       "    .dataframe tbody tr th {\n",
       "        vertical-align: top;\n",
       "    }\n",
       "\n",
       "    .dataframe thead th {\n",
       "        text-align: right;\n",
       "    }\n",
       "</style>\n",
       "<table border=\"1\" class=\"dataframe\">\n",
       "  <thead>\n",
       "    <tr style=\"text-align: right;\">\n",
       "      <th></th>\n",
       "      <th>0</th>\n",
       "      <th>1</th>\n",
       "    </tr>\n",
       "  </thead>\n",
       "  <tbody>\n",
       "    <tr>\n",
       "      <th>0</th>\n",
       "      <td>Age</td>\n",
       "      <td>0      22.0\n",
       "1      38.0\n",
       "2      26.0\n",
       "3      35....</td>\n",
       "    </tr>\n",
       "    <tr>\n",
       "      <th>1</th>\n",
       "      <td>Fare</td>\n",
       "      <td>0       7.2500\n",
       "1      71.2833\n",
       "2       7.9250\n",
       "3...</td>\n",
       "    </tr>\n",
       "    <tr>\n",
       "      <th>2</th>\n",
       "      <td>Embarked</td>\n",
       "      <td>0      1\n",
       "1      3\n",
       "2      1\n",
       "3      1\n",
       "4      1\n",
       " ...</td>\n",
       "    </tr>\n",
       "    <tr>\n",
       "      <th>3</th>\n",
       "      <td>passenger_class</td>\n",
       "      <td>0      1\n",
       "1      3\n",
       "2      1\n",
       "3      3\n",
       "4      1\n",
       " ...</td>\n",
       "    </tr>\n",
       "    <tr>\n",
       "      <th>4</th>\n",
       "      <td>passenger_sex</td>\n",
       "      <td>0      0\n",
       "1      1\n",
       "2      1\n",
       "3      1\n",
       "4      0\n",
       " ...</td>\n",
       "    </tr>\n",
       "    <tr>\n",
       "      <th>5</th>\n",
       "      <td>passenger_survived</td>\n",
       "      <td>0      0\n",
       "1      1\n",
       "2      1\n",
       "3      1\n",
       "4      0\n",
       " ...</td>\n",
       "    </tr>\n",
       "  </tbody>\n",
       "</table>\n",
       "</div>"
      ],
      "text/plain": [
       "                    0                                                  1\n",
       "0                 Age  0      22.0\n",
       "1      38.0\n",
       "2      26.0\n",
       "3      35....\n",
       "1                Fare  0       7.2500\n",
       "1      71.2833\n",
       "2       7.9250\n",
       "3...\n",
       "2            Embarked  0      1\n",
       "1      3\n",
       "2      1\n",
       "3      1\n",
       "4      1\n",
       " ...\n",
       "3     passenger_class  0      1\n",
       "1      3\n",
       "2      1\n",
       "3      3\n",
       "4      1\n",
       " ...\n",
       "4       passenger_sex  0      0\n",
       "1      1\n",
       "2      1\n",
       "3      1\n",
       "4      0\n",
       " ...\n",
       "5  passenger_survived  0      0\n",
       "1      1\n",
       "2      1\n",
       "3      1\n",
       "4      0\n",
       " ..."
      ]
     },
     "execution_count": 69,
     "metadata": {},
     "output_type": "execute_result"
    }
   ],
   "source": [
    "data"
   ]
  },
  {
   "cell_type": "code",
   "execution_count": 70,
   "id": "12e2201d-21da-4ea5-85d4-c9fd7c16ec59",
   "metadata": {},
   "outputs": [],
   "source": [
    "#tf.reset_default_graph()\n",
    "\n",
    "\n",
    "tf.compat.v1.reset_default_graph()\n",
    "g = tf.Graph()\n",
    "with g.as_default():\n",
    "    X = tf.placeholder(\"float\", [None,6], name=\"X\")\n",
    "    Y = tf.placeholder(\"float\", [None,1], name=\"Y\")\n",
    "    learning_rate = tf.placeholder(\"float\")\n",
    "    W = tf.Variable(tf.zeros((6,1)), name = \"W\", dtype=\"float\")\n",
    "    b = tf.Variable(tf.zeros(1), name = \"b\", dtype=\"float\")\n",
    "    with tf.name_scope(\"Modelo\"):\n",
    "        y_pred = tf.add(tf.matmul(X,W), b)\n",
    "    with tf.name_scope(\"Costo\"):\n",
    "        cost = tf.reduce_sum(tf.pow(y_pred-Y, 2)) / (2*n)\n",
    "        cost_summary = tf.summary.scalar(\"Costo\", cost)\n",
    "    optimizer = tf.compat.v1.train.GradientDescentOptimizer(learning_rate).minimize(cost)\n",
    "    init = tf.global_variables_initializer()"
   ]
  },
  {
   "cell_type": "code",
   "execution_count": 71,
   "id": "a4c5e502-f781-4777-9818-346f6b2d1f09",
   "metadata": {},
   "outputs": [],
   "source": [
    "def training(lr):\n",
    "    tf.reset_default_graph()\n",
    "    \n",
    "    with tf.Session(graph=g) as sess:\n",
    "        \n",
    "        writer = tf.summary.FileWriter(\"./logs/\" + datetime.datetime.now().strftime(\"%Y%m%d-%H%M%S\") + \"_lr=\" + str(lr) + \"_epochs=\" + str(epochs), session.graph)\n",
    "        sess.run(init)\n",
    "        for epoch in range(51):\n",
    "                                       \n",
    "            sess.run(optimizer, feed_dict = {X : x, Y : y, learning_rate:lr})\n",
    "                                       \n",
    "            if (epoch+1) % 10 == 0:\n",
    "                c,co,we,inte=sess.run([cost_summary,cost,W,b], feed_dict = {X : x, Y : y, learning_rate:lr})\n",
    "            \n",
    "                writer.add_summary(c, epoch+1)\n",
    "                print(\"Epoch\", (epoch + 1), \": cost= \", co, \"W = \", we, \"b = \", inte)\n",
    "                                       \n",
    "        writer.close()"
   ]
  },
  {
   "cell_type": "markdown",
   "id": "4933877a-5a96-4bb3-a280-fc99f6b759b8",
   "metadata": {},
   "source": [
    "#### Cargar otras librerias"
   ]
  },
  {
   "cell_type": "code",
   "execution_count": 72,
   "id": "74d2b26f-1247-4f94-b936-cf2d3a90464a",
   "metadata": {},
   "outputs": [],
   "source": [
    "import tensorflow as tf\n",
    "from tensorflow import keras\n",
    "from tensorflow.keras.wrappers.scikit_learn import KerasClassifier\n",
    "from tensorflow.keras.models import Sequential\n",
    "from tensorflow.keras.utils import plot_model\n",
    "from tensorflow.keras.layers import Input, Dense, Dropout, AlphaDropout, BatchNormalization,Concatenate, concatenate\n",
    "from tensorflow.keras.optimizers import SGD, RMSprop, Adamax, Adagrad, Adam, Nadam, SGD\n",
    "from tensorflow.keras.regularizers import l2\n",
    "from tensorflow.keras.callbacks import ReduceLROnPlateau, EarlyStopping\n",
    "from tensorflow.keras.metrics import *\n",
    "from sklearn.model_selection import StratifiedKFold"
   ]
  },
  {
   "cell_type": "code",
   "execution_count": 73,
   "id": "71792944-ead6-4d92-9ceb-e85fe2a53dfb",
   "metadata": {},
   "outputs": [],
   "source": [
    "metrics = ['accuracy', \n",
    "           Precision(),\n",
    "           Recall()]"
   ]
  },
  {
   "cell_type": "code",
   "execution_count": 75,
   "id": "582f900e-c724-4d83-9b52-e930e6c163de",
   "metadata": {},
   "outputs": [],
   "source": [
    "def create_model():\n",
    "    model = Sequential()\n",
    "    model.add(Input(shape=X_train.shape[1], name='Input_'))\n",
    "    model.add(Dense(8, activation='relu', kernel_initializer='glorot_normal', kernel_regularizer=l2(0.001)))\n",
    "    model.add(Dense(16, activation='relu', kernel_initializer='glorot_normal', kernel_regularizer=l2(0.1)))\n",
    "    model.add(Dropout(0.5))\n",
    "    model.add(Dense(16, activation='relu', kernel_initializer='glorot_normal', kernel_regularizer=l2(0.1)))\n",
    "    model.add(Dropout(0.5))\n",
    "    model.add(Dense(1, activation='sigmoid', kernel_initializer='glorot_normal'))\n",
    "\n",
    "    model.summary()\n",
    "    optimize = Adam(lr = 0.0001)\n",
    "    model.compile(optimizer = optimize, \n",
    "                       loss = 'binary_crossentropy', \n",
    "                       metrics = metrics)\n",
    "    return model"
   ]
  },
  {
   "cell_type": "code",
   "execution_count": 76,
   "id": "21619fe4-4c5d-4883-9bb3-ab74c1936d7f",
   "metadata": {},
   "outputs": [
    {
     "name": "stdout",
     "output_type": "stream",
     "text": [
      "Model: \"sequential\"\n",
      "_________________________________________________________________\n",
      " Layer (type)                Output Shape              Param #   \n",
      "=================================================================\n",
      " dense (Dense)               (None, 8)                 48        \n",
      "                                                                 \n",
      " dense_1 (Dense)             (None, 16)                144       \n",
      "                                                                 \n",
      " dropout (Dropout)           (None, 16)                0         \n",
      "                                                                 \n",
      " dense_2 (Dense)             (None, 16)                272       \n",
      "                                                                 \n",
      " dropout_1 (Dropout)         (None, 16)                0         \n",
      "                                                                 \n",
      " dense_3 (Dense)             (None, 1)                 17        \n",
      "                                                                 \n",
      "=================================================================\n",
      "Total params: 481\n",
      "Trainable params: 481\n",
      "Non-trainable params: 0\n",
      "_________________________________________________________________\n",
      "Train on 379 samples\n",
      "Epoch 1/100\n",
      "379/379 [==============================] - 0s 308us/sample - loss: 8.3040 - acc: 0.4301 - precision: 0.3412 - recall: 0.6444\n",
      "Epoch 2/100\n",
      "379/379 [==============================] - 0s 67us/sample - loss: 8.5918 - acc: 0.4485 - precision: 0.3520 - recall: 0.6519\n",
      "Epoch 3/100\n",
      "379/379 [==============================] - 0s 32us/sample - loss: 7.8676 - acc: 0.4195 - precision: 0.3372 - recall: 0.6519\n",
      "Epoch 4/100\n",
      "379/379 [==============================] - 0s 30us/sample - loss: 7.3355 - acc: 0.4908 - precision: 0.3902 - recall: 0.7630\n",
      "Epoch 5/100\n",
      "379/379 [==============================] - 0s 22us/sample - loss: 8.5678 - acc: 0.4406 - precision: 0.3454 - recall: 0.6370\n",
      "Epoch 6/100\n",
      "379/379 [==============================] - 0s 24us/sample - loss: 7.9369 - acc: 0.4591 - precision: 0.3577 - recall: 0.6519\n",
      "Epoch 7/100\n",
      "379/379 [==============================] - 0s 24us/sample - loss: 7.2114 - acc: 0.5013 - precision: 0.3856 - recall: 0.6741\n",
      "Epoch 8/100\n",
      "379/379 [==============================] - 0s 24us/sample - loss: 8.0775 - acc: 0.4063 - precision: 0.3214 - recall: 0.6000\n",
      "Epoch 9/100\n",
      "379/379 [==============================] - 0s 27us/sample - loss: 7.8824 - acc: 0.4327 - precision: 0.3347 - recall: 0.6000\n",
      "Epoch 10/100\n",
      "379/379 [==============================] - 0s 28us/sample - loss: 7.4003 - acc: 0.4406 - precision: 0.3402 - recall: 0.6074\n",
      "Epoch 11/100\n",
      "379/379 [==============================] - 0s 22us/sample - loss: 6.1114 - acc: 0.4512 - precision: 0.3546 - recall: 0.6593\n",
      "Epoch 12/100\n",
      "379/379 [==============================] - 0s 25us/sample - loss: 6.2808 - acc: 0.4591 - precision: 0.3504 - recall: 0.6074\n",
      "Epoch 13/100\n",
      "379/379 [==============================] - 0s 25us/sample - loss: 7.1074 - acc: 0.4512 - precision: 0.3510 - recall: 0.6370\n",
      "Epoch 14/100\n",
      "379/379 [==============================] - 0s 22us/sample - loss: 6.6092 - acc: 0.4433 - precision: 0.3390 - recall: 0.5926\n",
      "Epoch 15/100\n",
      "379/379 [==============================] - 0s 25us/sample - loss: 6.4907 - acc: 0.4749 - precision: 0.3596 - recall: 0.6074\n",
      "Epoch 16/100\n",
      "379/379 [==============================] - 0s 26us/sample - loss: 6.4764 - acc: 0.4195 - precision: 0.3307 - recall: 0.6148\n",
      "Epoch 17/100\n",
      "379/379 [==============================] - 0s 23us/sample - loss: 6.8265 - acc: 0.4697 - precision: 0.3648 - recall: 0.6593\n",
      "Epoch 18/100\n",
      "379/379 [==============================] - 0s 28us/sample - loss: 6.2869 - acc: 0.4697 - precision: 0.3565 - recall: 0.6074\n",
      "Epoch 19/100\n",
      "379/379 [==============================] - 0s 26us/sample - loss: 5.9749 - acc: 0.4644 - precision: 0.3509 - recall: 0.5926\n",
      "Epoch 20/100\n",
      "379/379 [==============================] - 0s 23us/sample - loss: 6.3140 - acc: 0.5356 - precision: 0.4047 - recall: 0.6444\n",
      "Epoch 21/100\n",
      "379/379 [==============================] - 0s 26us/sample - loss: 6.2693 - acc: 0.4776 - precision: 0.3682 - recall: 0.6519\n",
      "Epoch 22/100\n",
      "379/379 [==============================] - 0s 28us/sample - loss: 6.2389 - acc: 0.4960 - precision: 0.3750 - recall: 0.6222\n",
      "Epoch 23/100\n",
      "379/379 [==============================] - 0s 20us/sample - loss: 5.5353 - acc: 0.5462 - precision: 0.4147 - recall: 0.6667\n",
      "Epoch 24/100\n",
      "379/379 [==============================] - 0s 27us/sample - loss: 5.8116 - acc: 0.4538 - precision: 0.3462 - recall: 0.6000\n",
      "Epoch 25/100\n",
      "379/379 [==============================] - 0s 24us/sample - loss: 6.1770 - acc: 0.4908 - precision: 0.3670 - recall: 0.5926\n",
      "Epoch 26/100\n",
      "379/379 [==============================] - 0s 22us/sample - loss: 6.0195 - acc: 0.4670 - precision: 0.3498 - recall: 0.5778\n",
      "Epoch 27/100\n",
      "379/379 [==============================] - 0s 24us/sample - loss: 5.5725 - acc: 0.5356 - precision: 0.4010 - recall: 0.6148\n",
      "Epoch 28/100\n",
      "379/379 [==============================] - 0s 23us/sample - loss: 5.8133 - acc: 0.5119 - precision: 0.3798 - recall: 0.5852\n",
      "Epoch 29/100\n",
      "379/379 [==============================] - 0s 21us/sample - loss: 5.5271 - acc: 0.5383 - precision: 0.3969 - recall: 0.5704\n",
      "Epoch 30/100\n",
      "379/379 [==============================] - 0s 26us/sample - loss: 5.5156 - acc: 0.5119 - precision: 0.3832 - recall: 0.6074\n",
      "Epoch 31/100\n",
      "379/379 [==============================] - 0s 26us/sample - loss: 5.5265 - acc: 0.5145 - precision: 0.3816 - recall: 0.5852\n",
      "Epoch 32/100\n",
      "379/379 [==============================] - 0s 23us/sample - loss: 5.4542 - acc: 0.4960 - precision: 0.3704 - recall: 0.5926\n",
      "Epoch 33/100\n",
      "379/379 [==============================] - 0s 25us/sample - loss: 5.2709 - acc: 0.4802 - precision: 0.3664 - recall: 0.6296\n",
      "Epoch 34/100\n",
      "379/379 [==============================] - 0s 26us/sample - loss: 5.7997 - acc: 0.4987 - precision: 0.3709 - recall: 0.5852\n",
      "Epoch 35/100\n",
      "379/379 [==============================] - 0s 22us/sample - loss: 5.7439 - acc: 0.5620 - precision: 0.4265 - recall: 0.6667\n",
      "Epoch 36/100\n",
      "379/379 [==============================] - 0s 32us/sample - loss: 5.9964 - acc: 0.4934 - precision: 0.3649 - recall: 0.5704\n",
      "Epoch 37/100\n",
      "379/379 [==============================] - 0s 27us/sample - loss: 5.8244 - acc: 0.5119 - precision: 0.3832 - recall: 0.6074\n",
      "Epoch 38/100\n",
      "379/379 [==============================] - 0s 26us/sample - loss: 5.3858 - acc: 0.5040 - precision: 0.3707 - recall: 0.5630\n",
      "Epoch 39/100\n",
      "379/379 [==============================] - 0s 23us/sample - loss: 5.1440 - acc: 0.5224 - precision: 0.3802 - recall: 0.5407\n",
      "Epoch 40/100\n",
      "379/379 [==============================] - 0s 26us/sample - loss: 4.5485 - acc: 0.5594 - precision: 0.4149 - recall: 0.5778\n",
      "Epoch 41/100\n",
      "379/379 [==============================] - 0s 21us/sample - loss: 5.0956 - acc: 0.5277 - precision: 0.3866 - recall: 0.5556\n",
      "Epoch 42/100\n",
      "379/379 [==============================] - 0s 21us/sample - loss: 4.9080 - acc: 0.5224 - precision: 0.3905 - recall: 0.6074\n",
      "Epoch 43/100\n",
      "379/379 [==============================] - 0s 25us/sample - loss: 4.9827 - acc: 0.4934 - precision: 0.3674 - recall: 0.5852\n",
      "Epoch 44/100\n",
      "379/379 [==============================] - 0s 25us/sample - loss: 4.6645 - acc: 0.5356 - precision: 0.3927 - recall: 0.5556\n",
      "Epoch 45/100\n",
      "379/379 [==============================] - 0s 22us/sample - loss: 4.7855 - acc: 0.5303 - precision: 0.3930 - recall: 0.5852\n",
      "Epoch 46/100\n",
      "379/379 [==============================] - 0s 28us/sample - loss: 5.1629 - acc: 0.4697 - precision: 0.3413 - recall: 0.5259\n",
      "Epoch 47/100\n",
      "379/379 [==============================] - 0s 24us/sample - loss: 4.9558 - acc: 0.5224 - precision: 0.3802 - recall: 0.5407\n",
      "Epoch 48/100\n",
      "379/379 [==============================] - 0s 20us/sample - loss: 4.9435 - acc: 0.4802 - precision: 0.3480 - recall: 0.5259\n",
      "Epoch 49/100\n",
      "379/379 [==============================] - 0s 26us/sample - loss: 4.4031 - acc: 0.5092 - precision: 0.3591 - recall: 0.4815\n",
      "Epoch 50/100\n",
      "379/379 [==============================] - 0s 24us/sample - loss: 4.6886 - acc: 0.5462 - precision: 0.4021 - recall: 0.5630\n",
      "Epoch 51/100\n",
      "379/379 [==============================] - 0s 23us/sample - loss: 5.2037 - acc: 0.5013 - precision: 0.3726 - recall: 0.5852\n",
      "Epoch 52/100\n",
      "379/379 [==============================] - 0s 27us/sample - loss: 4.5781 - acc: 0.5119 - precision: 0.3724 - recall: 0.5407\n",
      "Epoch 53/100\n",
      "379/379 [==============================] - 0s 23us/sample - loss: 4.5823 - acc: 0.4617 - precision: 0.3300 - recall: 0.4963\n",
      "Epoch 54/100\n",
      "379/379 [==============================] - 0s 24us/sample - loss: 4.4365 - acc: 0.5066 - precision: 0.3539 - recall: 0.4667\n",
      "Epoch 55/100\n",
      "379/379 [==============================] - 0s 27us/sample - loss: 5.0863 - acc: 0.5198 - precision: 0.3819 - recall: 0.5630\n",
      "Epoch 56/100\n",
      "379/379 [==============================] - 0s 23us/sample - loss: 4.2044 - acc: 0.5356 - precision: 0.3915 - recall: 0.5481\n",
      "Epoch 57/100\n",
      "379/379 [==============================] - 0s 27us/sample - loss: 4.1551 - acc: 0.5673 - precision: 0.4233 - recall: 0.5926\n",
      "Epoch 58/100\n",
      "379/379 [==============================] - 0s 25us/sample - loss: 4.3043 - acc: 0.5330 - precision: 0.3807 - recall: 0.4963\n",
      "Epoch 59/100\n",
      "379/379 [==============================] - 0s 26us/sample - loss: 4.8306 - acc: 0.5330 - precision: 0.3906 - recall: 0.5556\n",
      "Epoch 60/100\n",
      "379/379 [==============================] - 0s 25us/sample - loss: 4.4570 - acc: 0.4776 - precision: 0.3200 - recall: 0.4148\n",
      "Epoch 61/100\n",
      "379/379 [==============================] - 0s 24us/sample - loss: 4.1122 - acc: 0.5224 - precision: 0.3802 - recall: 0.5407\n",
      "Epoch 62/100\n",
      "379/379 [==============================] - 0s 24us/sample - loss: 4.2023 - acc: 0.5145 - precision: 0.3769 - recall: 0.5556\n",
      "Epoch 63/100\n",
      "379/379 [==============================] - 0s 21us/sample - loss: 4.9568 - acc: 0.4934 - precision: 0.3553 - recall: 0.5185\n",
      "Epoch 64/100\n",
      "379/379 [==============================] - 0s 25us/sample - loss: 4.2690 - acc: 0.5356 - precision: 0.3867 - recall: 0.5185\n",
      "Epoch 65/100\n",
      "379/379 [==============================] - 0s 22us/sample - loss: 4.3828 - acc: 0.5409 - precision: 0.3873 - recall: 0.4963\n",
      "Epoch 66/100\n",
      "379/379 [==============================] - 0s 25us/sample - loss: 3.8358 - acc: 0.5462 - precision: 0.3865 - recall: 0.4667\n",
      "Epoch 67/100\n",
      "379/379 [==============================] - 0s 25us/sample - loss: 3.9434 - acc: 0.5383 - precision: 0.3947 - recall: 0.5556\n",
      "Epoch 68/100\n",
      "379/379 [==============================] - 0s 23us/sample - loss: 3.7884 - acc: 0.5303 - precision: 0.3785 - recall: 0.4963\n",
      "Epoch 69/100\n",
      "379/379 [==============================] - 0s 23us/sample - loss: 4.0671 - acc: 0.5673 - precision: 0.4216 - recall: 0.5778\n",
      "Epoch 70/100\n",
      "379/379 [==============================] - 0s 22us/sample - loss: 3.7391 - acc: 0.5963 - precision: 0.4483 - recall: 0.5778\n",
      "Epoch 71/100\n",
      "379/379 [==============================] - 0s 25us/sample - loss: 3.9265 - acc: 0.5172 - precision: 0.3681 - recall: 0.4963\n",
      "Epoch 72/100\n",
      "379/379 [==============================] - 0s 25us/sample - loss: 4.0869 - acc: 0.5198 - precision: 0.3657 - recall: 0.4741\n",
      "Epoch 73/100\n",
      "379/379 [==============================] - 0s 25us/sample - loss: 3.9179 - acc: 0.5251 - precision: 0.3684 - recall: 0.4667\n",
      "Epoch 74/100\n",
      "379/379 [==============================] - 0s 26us/sample - loss: 3.4235 - acc: 0.6148 - precision: 0.4663 - recall: 0.5630\n",
      "Epoch 75/100\n",
      "379/379 [==============================] - 0s 19us/sample - loss: 4.0863 - acc: 0.5541 - precision: 0.4012 - recall: 0.5111\n",
      "Epoch 76/100\n",
      "379/379 [==============================] - 0s 26us/sample - loss: 3.4719 - acc: 0.5778 - precision: 0.4294 - recall: 0.5630\n",
      "Epoch 77/100\n",
      "379/379 [==============================] - 0s 22us/sample - loss: 3.6510 - acc: 0.5620 - precision: 0.4180 - recall: 0.5852\n",
      "Epoch 78/100\n",
      "379/379 [==============================] - 0s 19us/sample - loss: 3.4359 - acc: 0.5673 - precision: 0.4065 - recall: 0.4667\n",
      "Epoch 79/100\n",
      "379/379 [==============================] - 0s 24us/sample - loss: 3.5767 - acc: 0.5409 - precision: 0.3709 - recall: 0.4148\n",
      "Epoch 80/100\n",
      "379/379 [==============================] - 0s 21us/sample - loss: 3.4008 - acc: 0.5646 - precision: 0.4157 - recall: 0.5481\n",
      "Epoch 81/100\n",
      "379/379 [==============================] - 0s 23us/sample - loss: 3.4783 - acc: 0.5277 - precision: 0.3659 - recall: 0.4444\n",
      "Epoch 82/100\n",
      "379/379 [==============================] - 0s 24us/sample - loss: 3.5737 - acc: 0.5488 - precision: 0.3902 - recall: 0.4741\n",
      "Epoch 83/100\n",
      "379/379 [==============================] - 0s 26us/sample - loss: 3.4153 - acc: 0.5884 - precision: 0.4314 - recall: 0.4889\n",
      "Epoch 84/100\n",
      "379/379 [==============================] - 0s 21us/sample - loss: 3.6211 - acc: 0.5699 - precision: 0.4146 - recall: 0.5037\n",
      "Epoch 85/100\n",
      "379/379 [==============================] - 0s 28us/sample - loss: 3.3307 - acc: 0.6121 - precision: 0.4600 - recall: 0.5111\n",
      "Epoch 86/100\n",
      "379/379 [==============================] - 0s 24us/sample - loss: 3.1560 - acc: 0.5831 - precision: 0.4248 - recall: 0.4815\n",
      "Epoch 87/100\n",
      "379/379 [==============================] - 0s 27us/sample - loss: 3.4153 - acc: 0.5567 - precision: 0.4000 - recall: 0.4889\n",
      "Epoch 88/100\n",
      "379/379 [==============================] - 0s 29us/sample - loss: 3.4889 - acc: 0.5594 - precision: 0.4080 - recall: 0.5259\n",
      "Epoch 89/100\n",
      "379/379 [==============================] - 0s 24us/sample - loss: 3.2625 - acc: 0.5884 - precision: 0.4340 - recall: 0.5111\n",
      "Epoch 90/100\n",
      "379/379 [==============================] - 0s 32us/sample - loss: 3.2930 - acc: 0.5330 - precision: 0.3688 - recall: 0.4370\n",
      "Epoch 91/100\n",
      "379/379 [==============================] - 0s 25us/sample - loss: 3.4208 - acc: 0.5488 - precision: 0.3861 - recall: 0.4519\n",
      "Epoch 92/100\n",
      "379/379 [==============================] - 0s 25us/sample - loss: 3.3512 - acc: 0.5303 - precision: 0.3613 - recall: 0.4148\n",
      "Epoch 93/100\n",
      "379/379 [==============================] - 0s 28us/sample - loss: 3.5676 - acc: 0.5224 - precision: 0.3708 - recall: 0.4889\n",
      "Epoch 94/100\n",
      "379/379 [==============================] - 0s 25us/sample - loss: 3.4065 - acc: 0.5620 - precision: 0.3960 - recall: 0.4370\n",
      "Epoch 95/100\n",
      "379/379 [==============================] - 0s 25us/sample - loss: 3.0477 - acc: 0.5673 - precision: 0.4142 - recall: 0.5185\n",
      "Epoch 96/100\n",
      "379/379 [==============================] - 0s 24us/sample - loss: 3.4083 - acc: 0.5066 - precision: 0.3471 - recall: 0.4370\n",
      "Epoch 97/100\n",
      "379/379 [==============================] - 0s 26us/sample - loss: 2.9990 - acc: 0.5699 - precision: 0.4136 - recall: 0.4963\n",
      "Epoch 98/100\n",
      "379/379 [==============================] - 0s 23us/sample - loss: 2.8668 - acc: 0.5726 - precision: 0.4106 - recall: 0.4593\n",
      "Epoch 99/100\n",
      "379/379 [==============================] - 0s 23us/sample - loss: 3.1015 - acc: 0.5963 - precision: 0.4375 - recall: 0.4667\n",
      "Epoch 100/100\n",
      "379/379 [==============================] - 0s 24us/sample - loss: 3.1124 - acc: 0.5699 - precision: 0.4114 - recall: 0.4815\n",
      "Model: \"sequential_1\"\n",
      "_________________________________________________________________\n",
      " Layer (type)                Output Shape              Param #   \n",
      "=================================================================\n",
      " dense_4 (Dense)             (None, 8)                 48        \n",
      "                                                                 \n",
      " dense_5 (Dense)             (None, 16)                144       \n",
      "                                                                 \n",
      " dropout_2 (Dropout)         (None, 16)                0         \n",
      "                                                                 \n",
      " dense_6 (Dense)             (None, 16)                272       \n",
      "                                                                 \n",
      " dropout_3 (Dropout)         (None, 16)                0         \n",
      "                                                                 \n",
      " dense_7 (Dense)             (None, 1)                 17        \n",
      "                                                                 \n",
      "=================================================================\n",
      "Total params: 481\n",
      "Trainable params: 481\n",
      "Non-trainable params: 0\n",
      "_________________________________________________________________\n",
      "Train on 379 samples\n",
      "Epoch 1/100\n",
      "379/379 [==============================] - 0s 226us/sample - loss: 7.6365 - acc: 0.6042 - precision: 0.3077 - recall: 0.0889\n",
      "Epoch 2/100\n",
      "379/379 [==============================] - 0s 31us/sample - loss: 7.0859 - acc: 0.6332 - precision: 0.4565 - recall: 0.1556 \n",
      "Epoch 3/100\n",
      "379/379 [==============================] - 0s 29us/sample - loss: 7.1717 - acc: 0.5937 - precision: 0.2683 - recall: 0.0815\n",
      "Epoch 4/100\n",
      "379/379 [==============================] - 0s 30us/sample - loss: 7.0237 - acc: 0.6095 - precision: 0.3725 - recall: 0.1407\n",
      "Epoch 5/100\n",
      "379/379 [==============================] - 0s 33us/sample - loss: 7.1867 - acc: 0.6227 - precision: 0.4130 - recall: 0.1407\n",
      "Epoch 6/100\n",
      "379/379 [==============================] - 0s 29us/sample - loss: 6.2553 - acc: 0.6148 - precision: 0.4000 - recall: 0.1630\n",
      "Epoch 7/100\n",
      "379/379 [==============================] - 0s 31us/sample - loss: 7.2205 - acc: 0.6042 - precision: 0.3636 - recall: 0.1481\n",
      "Epoch 8/100\n",
      "379/379 [==============================] - 0s 23us/sample - loss: 6.6166 - acc: 0.6016 - precision: 0.3519 - recall: 0.1407\n",
      "Epoch 9/100\n",
      "379/379 [==============================] - 0s 30us/sample - loss: 6.5149 - acc: 0.6227 - precision: 0.4310 - recall: 0.1852\n",
      "Epoch 10/100\n",
      "379/379 [==============================] - 0s 29us/sample - loss: 6.5533 - acc: 0.5858 - precision: 0.3333 - recall: 0.1630\n",
      "Epoch 11/100\n",
      "379/379 [==============================] - 0s 27us/sample - loss: 6.0171 - acc: 0.6069 - precision: 0.3906 - recall: 0.1852\n",
      "Epoch 12/100\n",
      "379/379 [==============================] - 0s 23us/sample - loss: 6.3295 - acc: 0.6069 - precision: 0.3704 - recall: 0.1481\n",
      "Epoch 13/100\n",
      "379/379 [==============================] - 0s 25us/sample - loss: 5.8244 - acc: 0.6359 - precision: 0.4694 - recall: 0.1704 \n",
      "Epoch 14/100\n",
      "379/379 [==============================] - 0s 23us/sample - loss: 6.2801 - acc: 0.6174 - precision: 0.4242 - recall: 0.2074\n",
      "Epoch 15/100\n",
      "379/379 [==============================] - 0s 24us/sample - loss: 5.8037 - acc: 0.5752 - precision: 0.2903 - recall: 0.1333 \n",
      "Epoch 16/100\n",
      "379/379 [==============================] - 0s 24us/sample - loss: 5.6318 - acc: 0.6359 - precision: 0.4746 - recall: 0.2074 \n",
      "Epoch 17/100\n",
      "379/379 [==============================] - 0s 27us/sample - loss: 6.0601 - acc: 0.5778 - precision: 0.3239 - recall: 0.1704\n",
      "Epoch 18/100\n",
      "379/379 [==============================] - 0s 24us/sample - loss: 5.4375 - acc: 0.5963 - precision: 0.3636 - recall: 0.1778 \n",
      "Epoch 19/100\n",
      "379/379 [==============================] - 0s 25us/sample - loss: 5.1967 - acc: 0.6148 - precision: 0.4068 - recall: 0.1778\n",
      "Epoch 20/100\n",
      "379/379 [==============================] - 0s 25us/sample - loss: 6.1287 - acc: 0.5884 - precision: 0.3765 - recall: 0.2370\n",
      "Epoch 21/100\n",
      "379/379 [==============================] - 0s 29us/sample - loss: 6.5182 - acc: 0.5567 - precision: 0.2911 - recall: 0.1704\n",
      "Epoch 22/100\n",
      "379/379 [==============================] - 0s 23us/sample - loss: 5.6308 - acc: 0.6201 - precision: 0.4308 - recall: 0.2074\n",
      "Epoch 23/100\n",
      "379/379 [==============================] - 0s 28us/sample - loss: 6.3657 - acc: 0.5963 - precision: 0.3902 - recall: 0.2370\n",
      "Epoch 24/100\n",
      "379/379 [==============================] - 0s 23us/sample - loss: 4.9267 - acc: 0.6148 - precision: 0.4368 - recall: 0.2815\n",
      "Epoch 25/100\n",
      "379/379 [==============================] - 0s 33us/sample - loss: 4.9867 - acc: 0.6280 - precision: 0.4625 - recall: 0.2741\n",
      "Epoch 26/100\n",
      "379/379 [==============================] - 0s 27us/sample - loss: 5.2511 - acc: 0.5963 - precision: 0.3636 - recall: 0.1778\n",
      "Epoch 27/100\n",
      "379/379 [==============================] - 0s 36us/sample - loss: 5.2401 - acc: 0.5884 - precision: 0.3820 - recall: 0.2519\n",
      "Epoch 28/100\n",
      "379/379 [==============================] - 0s 30us/sample - loss: 4.9162 - acc: 0.6306 - precision: 0.4638 - recall: 0.2370\n",
      "Epoch 29/100\n",
      "379/379 [==============================] - 0s 32us/sample - loss: 4.5906 - acc: 0.5989 - precision: 0.3803 - recall: 0.2000\n",
      "Epoch 30/100\n",
      "379/379 [==============================] - 0s 29us/sample - loss: 4.7734 - acc: 0.6069 - precision: 0.4103 - recall: 0.2370\n",
      "Epoch 31/100\n",
      "379/379 [==============================] - 0s 29us/sample - loss: 4.6534 - acc: 0.6148 - precision: 0.4396 - recall: 0.2963\n",
      "Epoch 32/100\n",
      "379/379 [==============================] - 0s 25us/sample - loss: 4.6896 - acc: 0.6042 - precision: 0.4096 - recall: 0.2519\n",
      "Epoch 33/100\n",
      "379/379 [==============================] - 0s 29us/sample - loss: 5.0019 - acc: 0.6069 - precision: 0.4186 - recall: 0.2667\n",
      "Epoch 34/100\n",
      "379/379 [==============================] - 0s 24us/sample - loss: 4.6031 - acc: 0.6042 - precision: 0.4157 - recall: 0.2741\n",
      "Epoch 35/100\n",
      "379/379 [==============================] - 0s 24us/sample - loss: 4.9491 - acc: 0.6280 - precision: 0.4605 - recall: 0.2593\n",
      "Epoch 36/100\n",
      "379/379 [==============================] - 0s 28us/sample - loss: 4.4140 - acc: 0.6042 - precision: 0.4157 - recall: 0.2741\n",
      "Epoch 37/100\n",
      "379/379 [==============================] - 0s 25us/sample - loss: 4.8085 - acc: 0.5910 - precision: 0.3864 - recall: 0.2519\n",
      "Epoch 38/100\n",
      "379/379 [==============================] - 0s 23us/sample - loss: 4.2689 - acc: 0.6042 - precision: 0.4000 - recall: 0.2222\n",
      "Epoch 39/100\n",
      "379/379 [==============================] - 0s 27us/sample - loss: 4.5635 - acc: 0.6121 - precision: 0.4318 - recall: 0.2815\n",
      "Epoch 40/100\n",
      "379/379 [==============================] - 0s 25us/sample - loss: 4.5677 - acc: 0.6148 - precision: 0.4286 - recall: 0.2444\n",
      "Epoch 41/100\n",
      "379/379 [==============================] - 0s 23us/sample - loss: 4.8124 - acc: 0.5805 - precision: 0.3696 - recall: 0.2519\n",
      "Epoch 42/100\n",
      "379/379 [==============================] - 0s 25us/sample - loss: 3.9065 - acc: 0.6253 - precision: 0.4598 - recall: 0.2963\n",
      "Epoch 43/100\n",
      "379/379 [==============================] - 0s 23us/sample - loss: 4.4581 - acc: 0.6016 - precision: 0.4111 - recall: 0.2741\n",
      "Epoch 44/100\n",
      "379/379 [==============================] - 0s 22us/sample - loss: 4.2484 - acc: 0.6464 - precision: 0.5067 - recall: 0.2815 \n",
      "Epoch 45/100\n",
      "379/379 [==============================] - 0s 26us/sample - loss: 4.4138 - acc: 0.6464 - precision: 0.5057 - recall: 0.3259\n",
      "Epoch 46/100\n",
      "379/379 [==============================] - 0s 29us/sample - loss: 3.9348 - acc: 0.6332 - precision: 0.4750 - recall: 0.2815\n",
      "Epoch 47/100\n",
      "379/379 [==============================] - 0s 26us/sample - loss: 3.9634 - acc: 0.6042 - precision: 0.4118 - recall: 0.2593\n",
      "Epoch 48/100\n",
      "379/379 [==============================] - 0s 23us/sample - loss: 4.5645 - acc: 0.5989 - precision: 0.4175 - recall: 0.3185\n",
      "Epoch 49/100\n",
      "379/379 [==============================] - 0s 28us/sample - loss: 3.8190 - acc: 0.5910 - precision: 0.3780 - recall: 0.2296\n",
      "Epoch 50/100\n",
      "379/379 [==============================] - 0s 26us/sample - loss: 4.1937 - acc: 0.5858 - precision: 0.3804 - recall: 0.2593\n",
      "Epoch 51/100\n",
      "379/379 [==============================] - 0s 25us/sample - loss: 3.9532 - acc: 0.6148 - precision: 0.4368 - recall: 0.2815\n",
      "Epoch 52/100\n",
      "379/379 [==============================] - 0s 30us/sample - loss: 4.8980 - acc: 0.5858 - precision: 0.3553 - recall: 0.2000\n",
      "Epoch 53/100\n",
      "379/379 [==============================] - 0s 32us/sample - loss: 4.2627 - acc: 0.6095 - precision: 0.4235 - recall: 0.2667\n",
      "Epoch 54/100\n",
      "379/379 [==============================] - 0s 29us/sample - loss: 4.6922 - acc: 0.5488 - precision: 0.3085 - recall: 0.2148\n",
      "Epoch 55/100\n",
      "379/379 [==============================] - 0s 30us/sample - loss: 3.8971 - acc: 0.6306 - precision: 0.4719 - recall: 0.3111\n",
      "Epoch 56/100\n",
      "379/379 [==============================] - 0s 23us/sample - loss: 3.8931 - acc: 0.5963 - precision: 0.4043 - recall: 0.2815\n",
      "Epoch 57/100\n",
      "379/379 [==============================] - 0s 34us/sample - loss: 3.6504 - acc: 0.6253 - precision: 0.4615 - recall: 0.3111\n",
      "Epoch 58/100\n",
      "379/379 [==============================] - 0s 32us/sample - loss: 4.0587 - acc: 0.5858 - precision: 0.3922 - recall: 0.2963\n",
      "Epoch 59/100\n",
      "379/379 [==============================] - 0s 28us/sample - loss: 3.7750 - acc: 0.6253 - precision: 0.4607 - recall: 0.3037\n",
      "Epoch 60/100\n",
      "379/379 [==============================] - 0s 33us/sample - loss: 3.8761 - acc: 0.5831 - precision: 0.3708 - recall: 0.2444 \n",
      "Epoch 61/100\n",
      "379/379 [==============================] - 0s 32us/sample - loss: 3.9141 - acc: 0.6227 - precision: 0.4556 - recall: 0.3037\n",
      "Epoch 62/100\n",
      "379/379 [==============================] - 0s 32us/sample - loss: 4.0094 - acc: 0.6121 - precision: 0.4302 - recall: 0.2741\n",
      "Epoch 63/100\n",
      "379/379 [==============================] - 0s 27us/sample - loss: 4.1764 - acc: 0.5805 - precision: 0.3889 - recall: 0.3111\n",
      "Epoch 64/100\n",
      "379/379 [==============================] - 0s 29us/sample - loss: 3.8223 - acc: 0.6016 - precision: 0.4245 - recall: 0.3333\n",
      "Epoch 65/100\n",
      "379/379 [==============================] - 0s 30us/sample - loss: 3.8100 - acc: 0.5910 - precision: 0.3864 - recall: 0.2519\n",
      "Epoch 66/100\n",
      "379/379 [==============================] - 0s 31us/sample - loss: 3.5497 - acc: 0.5963 - precision: 0.4118 - recall: 0.3111\n",
      "Epoch 67/100\n",
      "379/379 [==============================] - 0s 26us/sample - loss: 3.2821 - acc: 0.6306 - precision: 0.4737 - recall: 0.3333\n",
      "Epoch 68/100\n",
      "379/379 [==============================] - 0s 28us/sample - loss: 3.5265 - acc: 0.5858 - precision: 0.3878 - recall: 0.2815\n",
      "Epoch 69/100\n",
      "379/379 [==============================] - 0s 24us/sample - loss: 3.5122 - acc: 0.6385 - precision: 0.4906 - recall: 0.3852\n",
      "Epoch 70/100\n",
      "379/379 [==============================] - 0s 23us/sample - loss: 3.6482 - acc: 0.6201 - precision: 0.4536 - recall: 0.3259\n",
      "Epoch 71/100\n",
      "379/379 [==============================] - 0s 22us/sample - loss: 3.2500 - acc: 0.6253 - precision: 0.4660 - recall: 0.3556\n",
      "Epoch 72/100\n",
      "379/379 [==============================] - 0s 27us/sample - loss: 3.8138 - acc: 0.6095 - precision: 0.4316 - recall: 0.3037\n",
      "Epoch 73/100\n",
      "379/379 [==============================] - 0s 21us/sample - loss: 3.8356 - acc: 0.6069 - precision: 0.4397 - recall: 0.3778\n",
      "Epoch 74/100\n",
      "379/379 [==============================] - 0s 21us/sample - loss: 3.8367 - acc: 0.5699 - precision: 0.3571 - recall: 0.2593\n",
      "Epoch 75/100\n",
      "379/379 [==============================] - 0s 27us/sample - loss: 3.8600 - acc: 0.6069 - precision: 0.4327 - recall: 0.3333\n",
      "Epoch 76/100\n",
      "379/379 [==============================] - 0s 22us/sample - loss: 3.3202 - acc: 0.5963 - precision: 0.4062 - recall: 0.2889\n",
      "Epoch 77/100\n",
      "379/379 [==============================] - 0s 27us/sample - loss: 3.5646 - acc: 0.6280 - precision: 0.4625 - recall: 0.2741\n",
      "Epoch 78/100\n",
      "379/379 [==============================] - 0s 26us/sample - loss: 3.2964 - acc: 0.6069 - precision: 0.4375 - recall: 0.3630\n",
      "Epoch 79/100\n",
      "379/379 [==============================] - 0s 20us/sample - loss: 3.3043 - acc: 0.6095 - precision: 0.4356 - recall: 0.3259\n",
      "Epoch 80/100\n",
      "379/379 [==============================] - 0s 24us/sample - loss: 3.1644 - acc: 0.6069 - precision: 0.4186 - recall: 0.2667\n",
      "Epoch 81/100\n",
      "379/379 [==============================] - 0s 20us/sample - loss: 3.1720 - acc: 0.6412 - precision: 0.4953 - recall: 0.3926\n",
      "Epoch 82/100\n",
      "379/379 [==============================] - 0s 24us/sample - loss: 3.4145 - acc: 0.5989 - precision: 0.4105 - recall: 0.2889\n",
      "Epoch 83/100\n",
      "379/379 [==============================] - 0s 26us/sample - loss: 3.5079 - acc: 0.5989 - precision: 0.4190 - recall: 0.3259\n",
      "Epoch 84/100\n",
      "379/379 [==============================] - 0s 24us/sample - loss: 3.2675 - acc: 0.6174 - precision: 0.4537 - recall: 0.3630\n",
      "Epoch 85/100\n",
      "379/379 [==============================] - 0s 24us/sample - loss: 3.2366 - acc: 0.5963 - precision: 0.3902 - recall: 0.2370\n",
      "Epoch 86/100\n",
      "379/379 [==============================] - 0s 21us/sample - loss: 2.8973 - acc: 0.6728 - precision: 0.5604 - recall: 0.3778\n",
      "Epoch 87/100\n",
      "379/379 [==============================] - 0s 26us/sample - loss: 3.4091 - acc: 0.6016 - precision: 0.4231 - recall: 0.3259\n",
      "Epoch 88/100\n",
      "379/379 [==============================] - 0s 27us/sample - loss: 3.2064 - acc: 0.6227 - precision: 0.4583 - recall: 0.3259\n",
      "Epoch 89/100\n",
      "379/379 [==============================] - 0s 25us/sample - loss: 3.1705 - acc: 0.5989 - precision: 0.4234 - recall: 0.3481\n",
      "Epoch 90/100\n",
      "379/379 [==============================] - 0s 29us/sample - loss: 3.2982 - acc: 0.6121 - precision: 0.4464 - recall: 0.3704\n",
      "Epoch 91/100\n",
      "379/379 [==============================] - 0s 50us/sample - loss: 3.0924 - acc: 0.6253 - precision: 0.4639 - recall: 0.3333\n",
      "Epoch 92/100\n",
      "379/379 [==============================] - 0s 29us/sample - loss: 3.2080 - acc: 0.6042 - precision: 0.4157 - recall: 0.2741\n",
      "Epoch 93/100\n",
      "379/379 [==============================] - 0s 29us/sample - loss: 3.5046 - acc: 0.5831 - precision: 0.3925 - recall: 0.3111\n",
      "Epoch 94/100\n",
      "379/379 [==============================] - 0s 30us/sample - loss: 3.2029 - acc: 0.6623 - precision: 0.5321 - recall: 0.4296\n",
      "Epoch 95/100\n",
      "379/379 [==============================] - 0s 25us/sample - loss: 2.9857 - acc: 0.5884 - precision: 0.3981 - recall: 0.3037\n",
      "Epoch 96/100\n",
      "379/379 [==============================] - 0s 23us/sample - loss: 3.1756 - acc: 0.6121 - precision: 0.4362 - recall: 0.3037\n",
      "Epoch 97/100\n",
      "379/379 [==============================] - 0s 27us/sample - loss: 3.0196 - acc: 0.6412 - precision: 0.4948 - recall: 0.3556\n",
      "Epoch 98/100\n",
      "379/379 [==============================] - 0s 22us/sample - loss: 2.9222 - acc: 0.6412 - precision: 0.4949 - recall: 0.3630\n",
      "Epoch 99/100\n",
      "379/379 [==============================] - 0s 23us/sample - loss: 2.6928 - acc: 0.6438 - precision: 0.5000 - recall: 0.3778\n",
      "Epoch 100/100\n",
      "379/379 [==============================] - 0s 22us/sample - loss: 2.8433 - acc: 0.6121 - precision: 0.4423 - recall: 0.3407\n",
      "Model: \"sequential_2\"\n",
      "_________________________________________________________________\n",
      " Layer (type)                Output Shape              Param #   \n",
      "=================================================================\n",
      " dense_8 (Dense)             (None, 8)                 48        \n",
      "                                                                 \n",
      " dense_9 (Dense)             (None, 16)                144       \n",
      "                                                                 \n",
      " dropout_4 (Dropout)         (None, 16)                0         \n",
      "                                                                 \n",
      " dense_10 (Dense)            (None, 16)                272       \n",
      "                                                                 \n",
      " dropout_5 (Dropout)         (None, 16)                0         \n",
      "                                                                 \n",
      " dense_11 (Dense)            (None, 1)                 17        \n",
      "                                                                 \n",
      "=================================================================\n",
      "Total params: 481\n",
      "Trainable params: 481\n",
      "Non-trainable params: 0\n",
      "_________________________________________________________________\n",
      "Train on 380 samples\n",
      "Epoch 1/100\n",
      "380/380 [==============================] - 0s 234us/sample - loss: 4.3943 - acc: 0.5105 - precision: 0.3750 - recall: 0.5515\n",
      "Epoch 2/100\n",
      "380/380 [==============================] - 0s 28us/sample - loss: 4.5495 - acc: 0.5026 - precision: 0.3598 - recall: 0.5000\n",
      "Epoch 3/100\n",
      "380/380 [==============================] - 0s 32us/sample - loss: 4.7242 - acc: 0.4342 - precision: 0.3073 - recall: 0.4632\n",
      "Epoch 4/100\n",
      "380/380 [==============================] - 0s 33us/sample - loss: 4.5408 - acc: 0.4579 - precision: 0.3284 - recall: 0.4926\n",
      "Epoch 5/100\n",
      "380/380 [==============================] - 0s 34us/sample - loss: 4.5953 - acc: 0.4816 - precision: 0.3257 - recall: 0.4191\n",
      "Epoch 6/100\n",
      "380/380 [==============================] - 0s 28us/sample - loss: 4.4708 - acc: 0.4868 - precision: 0.3388 - recall: 0.4559\n",
      "Epoch 7/100\n",
      "380/380 [==============================] - 0s 31us/sample - loss: 4.0692 - acc: 0.5211 - precision: 0.3814 - recall: 0.5441\n",
      "Epoch 8/100\n",
      "380/380 [==============================] - 0s 31us/sample - loss: 3.9735 - acc: 0.5132 - precision: 0.3793 - recall: 0.5662\n",
      "Epoch 9/100\n",
      "380/380 [==============================] - 0s 32us/sample - loss: 4.5713 - acc: 0.4868 - precision: 0.3532 - recall: 0.5221\n",
      "Epoch 10/100\n",
      "380/380 [==============================] - 0s 34us/sample - loss: 4.0611 - acc: 0.4921 - precision: 0.3476 - recall: 0.4779\n",
      "Epoch 11/100\n",
      "380/380 [==============================] - 0s 33us/sample - loss: 3.9638 - acc: 0.5132 - precision: 0.3793 - recall: 0.5662\n",
      "Epoch 12/100\n",
      "380/380 [==============================] - 0s 32us/sample - loss: 3.9183 - acc: 0.5026 - precision: 0.3568 - recall: 0.4853\n",
      "Epoch 13/100\n",
      "380/380 [==============================] - 0s 32us/sample - loss: 4.0490 - acc: 0.4947 - precision: 0.3526 - recall: 0.4926\n",
      "Epoch 14/100\n",
      "380/380 [==============================] - 0s 37us/sample - loss: 3.8362 - acc: 0.4816 - precision: 0.3403 - recall: 0.4779\n",
      "Epoch 15/100\n",
      "380/380 [==============================] - 0s 34us/sample - loss: 3.8950 - acc: 0.5053 - precision: 0.3587 - recall: 0.4853\n",
      "Epoch 16/100\n",
      "380/380 [==============================] - 0s 37us/sample - loss: 4.0921 - acc: 0.5158 - precision: 0.3763 - recall: 0.5368\n",
      "Epoch 17/100\n",
      "380/380 [==============================] - 0s 36us/sample - loss: 3.8674 - acc: 0.4816 - precision: 0.3277 - recall: 0.4265\n",
      "Epoch 18/100\n",
      "380/380 [==============================] - 0s 35us/sample - loss: 3.8021 - acc: 0.4868 - precision: 0.3547 - recall: 0.5294\n",
      "Epoch 19/100\n",
      "380/380 [==============================] - 0s 28us/sample - loss: 3.5094 - acc: 0.5263 - precision: 0.3791 - recall: 0.5074\n",
      "Epoch 20/100\n",
      "380/380 [==============================] - 0s 29us/sample - loss: 3.8317 - acc: 0.4974 - precision: 0.3632 - recall: 0.5368\n",
      "Epoch 21/100\n",
      "380/380 [==============================] - 0s 35us/sample - loss: 3.6745 - acc: 0.5158 - precision: 0.3710 - recall: 0.5074\n",
      "Epoch 22/100\n",
      "380/380 [==============================] - 0s 28us/sample - loss: 3.8276 - acc: 0.5026 - precision: 0.3598 - recall: 0.5000\n",
      "Epoch 23/100\n",
      "380/380 [==============================] - 0s 30us/sample - loss: 3.5668 - acc: 0.5105 - precision: 0.3641 - recall: 0.4926\n",
      "Epoch 24/100\n",
      "380/380 [==============================] - 0s 34us/sample - loss: 3.7805 - acc: 0.5053 - precision: 0.3617 - recall: 0.5000\n",
      "Epoch 25/100\n",
      "380/380 [==============================] - 0s 25us/sample - loss: 3.3673 - acc: 0.5158 - precision: 0.3696 - recall: 0.5000\n",
      "Epoch 26/100\n",
      "380/380 [==============================] - 0s 27us/sample - loss: 3.6304 - acc: 0.5026 - precision: 0.3552 - recall: 0.4779\n",
      "Epoch 27/100\n",
      "380/380 [==============================] - 0s 26us/sample - loss: 3.7457 - acc: 0.4842 - precision: 0.3500 - recall: 0.5147\n",
      "Epoch 28/100\n",
      "380/380 [==============================] - 0s 31us/sample - loss: 3.5011 - acc: 0.5158 - precision: 0.3750 - recall: 0.5294\n",
      "Epoch 29/100\n",
      "380/380 [==============================] - 0s 32us/sample - loss: 3.3869 - acc: 0.5184 - precision: 0.3593 - recall: 0.4412\n",
      "Epoch 30/100\n",
      "380/380 [==============================] - 0s 30us/sample - loss: 3.2884 - acc: 0.5684 - precision: 0.4125 - recall: 0.4853\n",
      "Epoch 31/100\n",
      "380/380 [==============================] - 0s 39us/sample - loss: 3.3629 - acc: 0.5184 - precision: 0.3743 - recall: 0.5147\n",
      "Epoch 32/100\n",
      "380/380 [==============================] - 0s 31us/sample - loss: 3.4596 - acc: 0.5079 - precision: 0.3491 - recall: 0.4338\n",
      "Epoch 33/100\n",
      "380/380 [==============================] - 0s 36us/sample - loss: 3.1559 - acc: 0.5526 - precision: 0.3951 - recall: 0.4706\n",
      "Epoch 34/100\n",
      "380/380 [==============================] - 0s 33us/sample - loss: 3.0971 - acc: 0.5816 - precision: 0.4327 - recall: 0.5441\n",
      "Epoch 35/100\n",
      "380/380 [==============================] - 0s 30us/sample - loss: 3.2761 - acc: 0.4974 - precision: 0.3497 - recall: 0.4706\n",
      "Epoch 36/100\n",
      "380/380 [==============================] - 0s 34us/sample - loss: 3.2521 - acc: 0.5105 - precision: 0.3529 - recall: 0.4412\n",
      "Epoch 37/100\n",
      "380/380 [==============================] - 0s 31us/sample - loss: 3.1768 - acc: 0.5105 - precision: 0.3438 - recall: 0.4044\n",
      "Epoch 38/100\n",
      "380/380 [==============================] - 0s 36us/sample - loss: 3.1560 - acc: 0.5368 - precision: 0.3913 - recall: 0.5294\n",
      "Epoch 39/100\n",
      "380/380 [==============================] - 0s 29us/sample - loss: 2.9612 - acc: 0.5421 - precision: 0.3882 - recall: 0.4853\n",
      "Epoch 40/100\n",
      "380/380 [==============================] - 0s 31us/sample - loss: 3.1165 - acc: 0.5079 - precision: 0.3651 - recall: 0.5074\n",
      "Epoch 41/100\n",
      "380/380 [==============================] - 0s 31us/sample - loss: 3.0539 - acc: 0.5184 - precision: 0.3657 - recall: 0.4706\n",
      "Epoch 42/100\n",
      "380/380 [==============================] - 0s 35us/sample - loss: 3.1885 - acc: 0.4921 - precision: 0.3273 - recall: 0.3971\n",
      "Epoch 43/100\n",
      "380/380 [==============================] - 0s 32us/sample - loss: 2.9587 - acc: 0.5447 - precision: 0.3791 - recall: 0.4265\n",
      "Epoch 44/100\n",
      "380/380 [==============================] - 0s 30us/sample - loss: 2.9059 - acc: 0.5447 - precision: 0.3892 - recall: 0.4779\n",
      "Epoch 45/100\n",
      "380/380 [==============================] - 0s 35us/sample - loss: 3.0747 - acc: 0.5105 - precision: 0.3355 - recall: 0.3750\n",
      "Epoch 46/100\n",
      "380/380 [==============================] - 0s 35us/sample - loss: 2.9737 - acc: 0.5500 - precision: 0.3885 - recall: 0.4485\n",
      "Epoch 47/100\n",
      "380/380 [==============================] - 0s 34us/sample - loss: 2.8708 - acc: 0.5342 - precision: 0.3772 - recall: 0.4632\n",
      "Epoch 48/100\n",
      "380/380 [==============================] - 0s 32us/sample - loss: 3.0234 - acc: 0.5237 - precision: 0.3669 - recall: 0.4559\n",
      "Epoch 49/100\n",
      "380/380 [==============================] - 0s 31us/sample - loss: 2.8869 - acc: 0.4895 - precision: 0.3371 - recall: 0.4412\n",
      "Epoch 50/100\n",
      "380/380 [==============================] - 0s 30us/sample - loss: 2.8651 - acc: 0.5368 - precision: 0.3684 - recall: 0.4118\n",
      "Epoch 51/100\n",
      "380/380 [==============================] - 0s 32us/sample - loss: 2.9776 - acc: 0.5053 - precision: 0.3452 - recall: 0.4265\n",
      "Epoch 52/100\n",
      "380/380 [==============================] - 0s 30us/sample - loss: 2.9138 - acc: 0.4921 - precision: 0.3314 - recall: 0.4118\n",
      "Epoch 53/100\n",
      "380/380 [==============================] - 0s 29us/sample - loss: 2.9486 - acc: 0.4947 - precision: 0.3409 - recall: 0.4412\n",
      "Epoch 54/100\n",
      "380/380 [==============================] - 0s 30us/sample - loss: 2.8994 - acc: 0.5263 - precision: 0.3706 - recall: 0.4632\n",
      "Epoch 55/100\n",
      "380/380 [==============================] - 0s 32us/sample - loss: 2.8591 - acc: 0.4921 - precision: 0.3230 - recall: 0.3824\n",
      "Epoch 56/100\n",
      "380/380 [==============================] - 0s 27us/sample - loss: 2.7989 - acc: 0.5000 - precision: 0.3313 - recall: 0.3897\n",
      "Epoch 57/100\n",
      "380/380 [==============================] - 0s 31us/sample - loss: 2.7158 - acc: 0.5500 - precision: 0.3622 - recall: 0.3382\n",
      "Epoch 58/100\n",
      "380/380 [==============================] - 0s 59us/sample - loss: 2.7942 - acc: 0.5421 - precision: 0.3797 - recall: 0.4412\n",
      "Epoch 59/100\n",
      "380/380 [==============================] - 0s 30us/sample - loss: 2.6862 - acc: 0.4895 - precision: 0.3014 - recall: 0.3235\n",
      "Epoch 60/100\n",
      "380/380 [==============================] - 0s 30us/sample - loss: 2.6895 - acc: 0.5368 - precision: 0.3667 - recall: 0.4044\n",
      "Epoch 61/100\n",
      "380/380 [==============================] - 0s 26us/sample - loss: 2.5137 - acc: 0.5184 - precision: 0.3558 - recall: 0.4265\n",
      "Epoch 62/100\n",
      "380/380 [==============================] - 0s 22us/sample - loss: 2.6946 - acc: 0.5474 - precision: 0.3800 - recall: 0.4191\n",
      "Epoch 63/100\n",
      "380/380 [==============================] - 0s 28us/sample - loss: 2.6390 - acc: 0.5447 - precision: 0.3822 - recall: 0.4412\n",
      "Epoch 64/100\n",
      "380/380 [==============================] - 0s 24us/sample - loss: 2.6246 - acc: 0.5421 - precision: 0.3855 - recall: 0.4706\n",
      "Epoch 65/100\n",
      "380/380 [==============================] - 0s 24us/sample - loss: 2.4961 - acc: 0.5579 - precision: 0.3919 - recall: 0.4265\n",
      "Epoch 66/100\n",
      "380/380 [==============================] - 0s 25us/sample - loss: 2.5144 - acc: 0.5237 - precision: 0.3653 - recall: 0.4485\n",
      "Epoch 67/100\n",
      "380/380 [==============================] - 0s 22us/sample - loss: 2.5257 - acc: 0.5868 - precision: 0.4379 - recall: 0.5441\n",
      "Epoch 68/100\n",
      "380/380 [==============================] - 0s 25us/sample - loss: 2.4779 - acc: 0.5474 - precision: 0.3750 - recall: 0.3971\n",
      "Epoch 69/100\n",
      "380/380 [==============================] - 0s 21us/sample - loss: 2.5351 - acc: 0.5105 - precision: 0.3457 - recall: 0.4118\n",
      "Epoch 70/100\n",
      "380/380 [==============================] - 0s 23us/sample - loss: 2.4094 - acc: 0.5684 - precision: 0.4000 - recall: 0.4118\n",
      "Epoch 71/100\n",
      "380/380 [==============================] - 0s 25us/sample - loss: 2.3905 - acc: 0.5684 - precision: 0.4079 - recall: 0.4559\n",
      "Epoch 72/100\n",
      "380/380 [==============================] - 0s 22us/sample - loss: 2.4140 - acc: 0.5184 - precision: 0.3464 - recall: 0.3897\n",
      "Epoch 73/100\n",
      "380/380 [==============================] - 0s 25us/sample - loss: 2.4415 - acc: 0.5289 - precision: 0.3595 - recall: 0.4044\n",
      "Epoch 74/100\n",
      "380/380 [==============================] - 0s 24us/sample - loss: 2.5193 - acc: 0.5342 - precision: 0.3727 - recall: 0.4412\n",
      "Epoch 75/100\n",
      "380/380 [==============================] - 0s 25us/sample - loss: 2.4227 - acc: 0.5447 - precision: 0.3836 - recall: 0.4485\n",
      "Epoch 76/100\n",
      "380/380 [==============================] - 0s 23us/sample - loss: 2.4143 - acc: 0.5553 - precision: 0.3759 - recall: 0.3676\n",
      "Epoch 77/100\n",
      "380/380 [==============================] - 0s 27us/sample - loss: 2.3587 - acc: 0.5237 - precision: 0.3548 - recall: 0.4044\n",
      "Epoch 78/100\n",
      "380/380 [==============================] - 0s 22us/sample - loss: 2.3069 - acc: 0.4974 - precision: 0.3292 - recall: 0.3897\n",
      "Epoch 79/100\n",
      "380/380 [==============================] - 0s 23us/sample - loss: 2.4540 - acc: 0.5211 - precision: 0.3487 - recall: 0.3897\n",
      "Epoch 80/100\n",
      "380/380 [==============================] - 0s 23us/sample - loss: 2.2888 - acc: 0.5000 - precision: 0.3269 - recall: 0.3750\n",
      "Epoch 81/100\n",
      "380/380 [==============================] - 0s 21us/sample - loss: 2.2661 - acc: 0.5105 - precision: 0.3438 - recall: 0.4044\n",
      "Epoch 82/100\n",
      "380/380 [==============================] - 0s 22us/sample - loss: 2.2089 - acc: 0.5605 - precision: 0.3931 - recall: 0.4191\n",
      "Epoch 83/100\n",
      "380/380 [==============================] - 0s 22us/sample - loss: 2.1391 - acc: 0.6158 - precision: 0.4653 - recall: 0.4926\n",
      "Epoch 84/100\n",
      "380/380 [==============================] - 0s 25us/sample - loss: 2.2855 - acc: 0.5184 - precision: 0.3150 - recall: 0.2941\n",
      "Epoch 85/100\n",
      "380/380 [==============================] - 0s 24us/sample - loss: 2.2011 - acc: 0.5474 - precision: 0.3657 - recall: 0.3603\n",
      "Epoch 86/100\n",
      "380/380 [==============================] - 0s 24us/sample - loss: 2.2734 - acc: 0.5158 - precision: 0.3400 - recall: 0.3750\n",
      "Epoch 87/100\n",
      "380/380 [==============================] - 0s 23us/sample - loss: 2.1477 - acc: 0.5579 - precision: 0.3824 - recall: 0.3824\n",
      "Epoch 88/100\n",
      "380/380 [==============================] - 0s 22us/sample - loss: 2.1953 - acc: 0.5289 - precision: 0.3223 - recall: 0.2868\n",
      "Epoch 89/100\n",
      "380/380 [==============================] - 0s 26us/sample - loss: 2.1052 - acc: 0.5237 - precision: 0.3490 - recall: 0.3824\n",
      "Epoch 90/100\n",
      "380/380 [==============================] - 0s 21us/sample - loss: 2.1099 - acc: 0.5605 - precision: 0.3960 - recall: 0.4338\n",
      "Epoch 91/100\n",
      "380/380 [==============================] - 0s 27us/sample - loss: 2.1962 - acc: 0.5289 - precision: 0.3537 - recall: 0.3824\n",
      "Epoch 92/100\n",
      "380/380 [==============================] - 0s 27us/sample - loss: 2.1419 - acc: 0.5237 - precision: 0.3448 - recall: 0.3676\n",
      "Epoch 93/100\n",
      "380/380 [==============================] - 0s 24us/sample - loss: 2.1577 - acc: 0.5526 - precision: 0.3786 - recall: 0.3897\n",
      "Epoch 94/100\n",
      "380/380 [==============================] - 0s 28us/sample - loss: 2.1341 - acc: 0.5421 - precision: 0.3681 - recall: 0.3897\n",
      "Epoch 95/100\n",
      "380/380 [==============================] - 0s 27us/sample - loss: 2.0645 - acc: 0.5342 - precision: 0.3386 - recall: 0.3162\n",
      "Epoch 96/100\n",
      "380/380 [==============================] - 0s 26us/sample - loss: 2.0682 - acc: 0.5316 - precision: 0.3279 - recall: 0.2941\n",
      "Epoch 97/100\n",
      "380/380 [==============================] - 0s 23us/sample - loss: 2.1084 - acc: 0.5395 - precision: 0.3725 - recall: 0.4191\n",
      "Epoch 98/100\n",
      "380/380 [==============================] - 0s 23us/sample - loss: 2.0495 - acc: 0.5289 - precision: 0.3517 - recall: 0.3750\n",
      "Epoch 99/100\n",
      "380/380 [==============================] - 0s 21us/sample - loss: 2.1633 - acc: 0.4842 - precision: 0.3000 - recall: 0.3309\n",
      "Epoch 100/100\n",
      "380/380 [==============================] - 0s 25us/sample - loss: 2.0866 - acc: 0.5079 - precision: 0.3416 - recall: 0.4044\n"
     ]
    }
   ],
   "source": [
    "estimator = KerasClassifier(build_fn = create_model, epochs = 100, batch_size = 32, verbose = 1)\n",
    "kfold = StratifiedKFold(n_splits = 3)\n",
    "results = cross_val_score(estimator, X_train, Y_train, cv = kfold)"
   ]
  },
  {
   "cell_type": "code",
   "execution_count": 77,
   "id": "06fa9934-225e-43f0-9bb4-f30f0ade23a7",
   "metadata": {},
   "outputs": [
    {
     "name": "stdout",
     "output_type": "stream",
     "text": [
      "Model: \"sequential_3\"\n",
      "_________________________________________________________________\n",
      " Layer (type)                Output Shape              Param #   \n",
      "=================================================================\n",
      " dense_12 (Dense)            (None, 8)                 48        \n",
      "                                                                 \n",
      " dense_13 (Dense)            (None, 16)                144       \n",
      "                                                                 \n",
      " dropout_6 (Dropout)         (None, 16)                0         \n",
      "                                                                 \n",
      " dense_14 (Dense)            (None, 16)                272       \n",
      "                                                                 \n",
      " dropout_7 (Dropout)         (None, 16)                0         \n",
      "                                                                 \n",
      " dense_15 (Dense)            (None, 1)                 17        \n",
      "                                                                 \n",
      "=================================================================\n",
      "Total params: 481\n",
      "Trainable params: 481\n",
      "Non-trainable params: 0\n",
      "_________________________________________________________________\n",
      "Train on 569 samples\n",
      "Epoch 1/100\n",
      "569/569 [==============================] - 0s 178us/sample - loss: 6.2443 - acc: 0.5343 - precision: 0.3591 - recall: 0.3892\n",
      "Epoch 2/100\n",
      "569/569 [==============================] - 0s 32us/sample - loss: 6.1490 - acc: 0.5677 - precision: 0.3951 - recall: 0.3990\n",
      "Epoch 3/100\n",
      "569/569 [==============================] - 0s 30us/sample - loss: 7.0370 - acc: 0.5237 - precision: 0.3265 - recall: 0.3153\n",
      "Epoch 4/100\n",
      "569/569 [==============================] - 0s 30us/sample - loss: 5.9766 - acc: 0.5589 - precision: 0.3737 - recall: 0.3498\n",
      "Epoch 5/100\n",
      "569/569 [==============================] - 0s 33us/sample - loss: 6.1676 - acc: 0.5536 - precision: 0.3731 - recall: 0.3695\n",
      "Epoch 6/100\n",
      "569/569 [==============================] - 0s 30us/sample - loss: 6.6131 - acc: 0.5554 - precision: 0.3670 - recall: 0.3399\n",
      "Epoch 7/100\n",
      "569/569 [==============================] - 0s 29us/sample - loss: 5.5927 - acc: 0.5554 - precision: 0.3698 - recall: 0.3498\n",
      "Epoch 8/100\n",
      "569/569 [==============================] - 0s 31us/sample - loss: 5.8462 - acc: 0.5554 - precision: 0.3775 - recall: 0.3793\n",
      "Epoch 9/100\n",
      "569/569 [==============================] - 0s 34us/sample - loss: 5.5303 - acc: 0.5641 - precision: 0.3834 - recall: 0.3645\n",
      "Epoch 10/100\n",
      "569/569 [==============================] - 0s 33us/sample - loss: 5.6936 - acc: 0.5536 - precision: 0.3706 - recall: 0.3596\n",
      "Epoch 11/100\n",
      "569/569 [==============================] - 0s 31us/sample - loss: 6.1952 - acc: 0.5589 - precision: 0.3723 - recall: 0.3448\n",
      "Epoch 12/100\n",
      "569/569 [==============================] - 0s 33us/sample - loss: 5.3354 - acc: 0.5272 - precision: 0.3413 - recall: 0.3498\n",
      "Epoch 13/100\n",
      "569/569 [==============================] - 0s 31us/sample - loss: 5.4873 - acc: 0.5659 - precision: 0.3900 - recall: 0.3842\n",
      "Epoch 14/100\n",
      "569/569 [==============================] - 0s 34us/sample - loss: 6.0686 - acc: 0.5290 - precision: 0.3399 - recall: 0.3399\n",
      "Epoch 15/100\n",
      "569/569 [==============================] - 0s 29us/sample - loss: 5.6344 - acc: 0.5290 - precision: 0.3430 - recall: 0.3498\n",
      "Epoch 16/100\n",
      "569/569 [==============================] - 0s 31us/sample - loss: 5.9796 - acc: 0.5255 - precision: 0.3456 - recall: 0.3695\n",
      "Epoch 17/100\n",
      "569/569 [==============================] - 0s 33us/sample - loss: 5.0421 - acc: 0.5483 - precision: 0.3761 - recall: 0.4039\n",
      "Epoch 18/100\n",
      "569/569 [==============================] - 0s 32us/sample - loss: 5.0969 - acc: 0.5466 - precision: 0.3632 - recall: 0.3596\n",
      "Epoch 19/100\n",
      "569/569 [==============================] - 0s 32us/sample - loss: 5.3247 - acc: 0.5202 - precision: 0.3317 - recall: 0.3399\n",
      "Epoch 20/100\n",
      "569/569 [==============================] - 0s 30us/sample - loss: 5.7239 - acc: 0.5185 - precision: 0.3301 - recall: 0.3399\n",
      "Epoch 21/100\n",
      "569/569 [==============================] - 0s 31us/sample - loss: 5.4131 - acc: 0.5606 - precision: 0.3876 - recall: 0.3990\n",
      "Epoch 22/100\n",
      "569/569 [==============================] - 0s 32us/sample - loss: 4.8569 - acc: 0.5466 - precision: 0.3799 - recall: 0.4286\n",
      "Epoch 23/100\n",
      "569/569 [==============================] - 0s 31us/sample - loss: 4.8178 - acc: 0.5589 - precision: 0.3846 - recall: 0.3941\n",
      "Epoch 24/100\n",
      "569/569 [==============================] - 0s 30us/sample - loss: 5.0986 - acc: 0.5571 - precision: 0.3901 - recall: 0.4286\n",
      "Epoch 25/100\n",
      "569/569 [==============================] - 0s 31us/sample - loss: 4.5917 - acc: 0.5431 - precision: 0.3596 - recall: 0.3596\n",
      "Epoch 26/100\n",
      "569/569 [==============================] - 0s 35us/sample - loss: 5.0191 - acc: 0.5044 - precision: 0.3290 - recall: 0.3744\n",
      "Epoch 27/100\n",
      "569/569 [==============================] - 0s 31us/sample - loss: 4.8552 - acc: 0.5220 - precision: 0.3425 - recall: 0.3695\n",
      "Epoch 28/100\n",
      "569/569 [==============================] - 0s 34us/sample - loss: 4.4323 - acc: 0.5501 - precision: 0.3812 - recall: 0.4187\n",
      "Epoch 29/100\n",
      "569/569 [==============================] - 0s 35us/sample - loss: 5.2612 - acc: 0.5536 - precision: 0.3679 - recall: 0.3498\n",
      "Epoch 30/100\n",
      "569/569 [==============================] - 0s 34us/sample - loss: 4.4449 - acc: 0.5466 - precision: 0.3840 - recall: 0.4483\n",
      "Epoch 31/100\n",
      "569/569 [==============================] - 0s 33us/sample - loss: 4.8713 - acc: 0.5079 - precision: 0.3140 - recall: 0.3202\n",
      "Epoch 32/100\n",
      "569/569 [==============================] - 0s 37us/sample - loss: 4.4999 - acc: 0.5308 - precision: 0.3689 - recall: 0.4433\n",
      "Epoch 33/100\n",
      "569/569 [==============================] - 0s 35us/sample - loss: 4.2369 - acc: 0.5800 - precision: 0.4174 - recall: 0.4483\n",
      "Epoch 34/100\n",
      "569/569 [==============================] - 0s 36us/sample - loss: 4.4559 - acc: 0.5395 - precision: 0.3689 - recall: 0.4089\n",
      "Epoch 35/100\n",
      "569/569 [==============================] - 0s 32us/sample - loss: 4.3224 - acc: 0.5395 - precision: 0.3641 - recall: 0.3892\n",
      "Epoch 36/100\n",
      "569/569 [==============================] - 0s 32us/sample - loss: 4.1995 - acc: 0.5501 - precision: 0.3767 - recall: 0.3990\n",
      "Epoch 37/100\n",
      "569/569 [==============================] - 0s 30us/sample - loss: 4.6190 - acc: 0.5062 - precision: 0.3143 - recall: 0.3251\n",
      "Epoch 38/100\n",
      "569/569 [==============================] - 0s 31us/sample - loss: 3.9296 - acc: 0.5641 - precision: 0.3944 - recall: 0.4138\n",
      "Epoch 39/100\n",
      "569/569 [==============================] - 0s 30us/sample - loss: 4.2145 - acc: 0.5641 - precision: 0.3944 - recall: 0.4138\n",
      "Epoch 40/100\n",
      "569/569 [==============================] - 0s 48us/sample - loss: 4.4398 - acc: 0.5395 - precision: 0.3589 - recall: 0.3695\n",
      "Epoch 41/100\n",
      "569/569 [==============================] - 0s 29us/sample - loss: 3.9181 - acc: 0.5360 - precision: 0.3620 - recall: 0.3941\n",
      "Epoch 42/100\n",
      "569/569 [==============================] - 0s 32us/sample - loss: 4.0806 - acc: 0.5466 - precision: 0.3709 - recall: 0.3892\n",
      "Epoch 43/100\n",
      "569/569 [==============================] - 0s 32us/sample - loss: 4.1837 - acc: 0.5413 - precision: 0.3564 - recall: 0.3547\n",
      "Epoch 44/100\n",
      "569/569 [==============================] - 0s 31us/sample - loss: 3.6787 - acc: 0.5747 - precision: 0.4030 - recall: 0.3990\n",
      "Epoch 45/100\n",
      "569/569 [==============================] - 0s 27us/sample - loss: 3.6503 - acc: 0.5378 - precision: 0.3729 - recall: 0.4335\n",
      "Epoch 46/100\n",
      "569/569 [==============================] - 0s 33us/sample - loss: 3.6992 - acc: 0.5694 - precision: 0.4071 - recall: 0.4532\n",
      "Epoch 47/100\n",
      "569/569 [==============================] - 0s 30us/sample - loss: 3.3948 - acc: 0.5747 - precision: 0.4191 - recall: 0.4975\n",
      "Epoch 48/100\n",
      "569/569 [==============================] - 0s 27us/sample - loss: 3.9886 - acc: 0.5202 - precision: 0.3423 - recall: 0.3744\n",
      "Epoch 49/100\n",
      "569/569 [==============================] - 0s 26us/sample - loss: 3.9013 - acc: 0.5237 - precision: 0.3547 - recall: 0.4089\n",
      "Epoch 50/100\n",
      "569/569 [==============================] - 0s 32us/sample - loss: 3.6613 - acc: 0.5466 - precision: 0.3709 - recall: 0.3892\n",
      "Epoch 51/100\n",
      "569/569 [==============================] - 0s 32us/sample - loss: 3.4774 - acc: 0.5466 - precision: 0.3830 - recall: 0.4433\n",
      "Epoch 52/100\n",
      "569/569 [==============================] - 0s 28us/sample - loss: 3.6204 - acc: 0.5589 - precision: 0.3909 - recall: 0.4236\n",
      "Epoch 53/100\n",
      "569/569 [==============================] - 0s 25us/sample - loss: 3.7359 - acc: 0.5501 - precision: 0.3833 - recall: 0.4286\n",
      "Epoch 54/100\n",
      "569/569 [==============================] - 0s 24us/sample - loss: 3.7595 - acc: 0.5149 - precision: 0.3333 - recall: 0.3596\n",
      "Epoch 55/100\n",
      "569/569 [==============================] - 0s 24us/sample - loss: 3.7331 - acc: 0.5413 - precision: 0.3750 - recall: 0.4286\n",
      "Epoch 56/100\n",
      "569/569 [==============================] - 0s 26us/sample - loss: 3.6471 - acc: 0.5624 - precision: 0.3894 - recall: 0.3990\n",
      "Epoch 57/100\n",
      "569/569 [==============================] - 0s 24us/sample - loss: 3.7945 - acc: 0.5132 - precision: 0.3363 - recall: 0.3744\n",
      "Epoch 58/100\n",
      "569/569 [==============================] - 0s 24us/sample - loss: 3.4151 - acc: 0.5185 - precision: 0.3489 - recall: 0.4039\n",
      "Epoch 59/100\n",
      "569/569 [==============================] - 0s 24us/sample - loss: 3.5389 - acc: 0.5589 - precision: 0.3929 - recall: 0.4335\n",
      "Epoch 60/100\n",
      "569/569 [==============================] - 0s 25us/sample - loss: 3.8341 - acc: 0.5255 - precision: 0.3511 - recall: 0.3892\n",
      "Epoch 61/100\n",
      "569/569 [==============================] - 0s 24us/sample - loss: 3.5606 - acc: 0.5202 - precision: 0.3529 - recall: 0.4138\n",
      "Epoch 62/100\n",
      "569/569 [==============================] - 0s 26us/sample - loss: 3.3491 - acc: 0.5167 - precision: 0.3500 - recall: 0.4138\n",
      "Epoch 63/100\n",
      "569/569 [==============================] - 0s 29us/sample - loss: 3.1550 - acc: 0.5518 - precision: 0.3796 - recall: 0.4039\n",
      "Epoch 64/100\n",
      "569/569 [==============================] - 0s 24us/sample - loss: 3.2700 - acc: 0.5466 - precision: 0.3859 - recall: 0.4581\n",
      "Epoch 65/100\n",
      "569/569 [==============================] - 0s 23us/sample - loss: 3.4971 - acc: 0.5097 - precision: 0.3376 - recall: 0.3892\n",
      "Epoch 66/100\n",
      "569/569 [==============================] - 0s 22us/sample - loss: 3.0767 - acc: 0.5659 - precision: 0.3962 - recall: 0.4138\n",
      "Epoch 67/100\n",
      "569/569 [==============================] - 0s 21us/sample - loss: 3.2791 - acc: 0.5448 - precision: 0.3727 - recall: 0.4039\n",
      "Epoch 68/100\n",
      "569/569 [==============================] - 0s 26us/sample - loss: 3.0517 - acc: 0.5800 - precision: 0.4053 - recall: 0.3793\n",
      "Epoch 69/100\n",
      "569/569 [==============================] - 0s 23us/sample - loss: 3.2705 - acc: 0.5466 - precision: 0.3767 - recall: 0.4138\n",
      "Epoch 70/100\n",
      "569/569 [==============================] - 0s 26us/sample - loss: 3.2055 - acc: 0.5272 - precision: 0.3613 - recall: 0.4236\n",
      "Epoch 71/100\n",
      "569/569 [==============================] - 0s 25us/sample - loss: 3.2305 - acc: 0.5554 - precision: 0.3798 - recall: 0.3892\n",
      "Epoch 72/100\n",
      "569/569 [==============================] - 0s 24us/sample - loss: 3.1360 - acc: 0.5888 - precision: 0.4258 - recall: 0.4384\n",
      "Epoch 73/100\n",
      "569/569 [==============================] - 0s 25us/sample - loss: 3.0000 - acc: 0.5466 - precision: 0.3744 - recall: 0.4039\n",
      "Epoch 74/100\n",
      "569/569 [==============================] - 0s 26us/sample - loss: 2.9226 - acc: 0.5641 - precision: 0.4034 - recall: 0.4631\n",
      "Epoch 75/100\n",
      "569/569 [==============================] - 0s 25us/sample - loss: 2.7153 - acc: 0.5888 - precision: 0.4258 - recall: 0.4384\n",
      "Epoch 76/100\n",
      "569/569 [==============================] - 0s 27us/sample - loss: 3.0202 - acc: 0.5413 - precision: 0.3761 - recall: 0.4335\n",
      "Epoch 77/100\n",
      "569/569 [==============================] - 0s 24us/sample - loss: 2.7774 - acc: 0.5395 - precision: 0.3689 - recall: 0.4089\n",
      "Epoch 78/100\n",
      "569/569 [==============================] - 0s 26us/sample - loss: 2.6906 - acc: 0.5431 - precision: 0.3710 - recall: 0.4039\n",
      "Epoch 79/100\n",
      "569/569 [==============================] - 0s 22us/sample - loss: 2.7277 - acc: 0.5378 - precision: 0.3598 - recall: 0.3793\n",
      "Epoch 80/100\n",
      "569/569 [==============================] - 0s 28us/sample - loss: 3.0418 - acc: 0.5308 - precision: 0.3632 - recall: 0.4187\n",
      "Epoch 81/100\n",
      "569/569 [==============================] - 0s 25us/sample - loss: 2.7400 - acc: 0.5325 - precision: 0.3521 - recall: 0.3695\n",
      "Epoch 82/100\n",
      "569/569 [==============================] - 0s 26us/sample - loss: 2.7398 - acc: 0.5993 - precision: 0.4424 - recall: 0.4729\n",
      "Epoch 83/100\n",
      "569/569 [==============================] - 0s 27us/sample - loss: 2.9433 - acc: 0.5167 - precision: 0.3378 - recall: 0.3695\n",
      "Epoch 84/100\n",
      "569/569 [==============================] - 0s 30us/sample - loss: 2.8632 - acc: 0.5624 - precision: 0.3925 - recall: 0.4138\n",
      "Epoch 85/100\n",
      "569/569 [==============================] - 0s 32us/sample - loss: 2.5766 - acc: 0.5694 - precision: 0.4000 - recall: 0.4138\n",
      "Epoch 86/100\n",
      "569/569 [==============================] - 0s 31us/sample - loss: 2.8938 - acc: 0.5518 - precision: 0.3738 - recall: 0.3793\n",
      "Epoch 87/100\n",
      "569/569 [==============================] - 0s 30us/sample - loss: 2.6658 - acc: 0.5764 - precision: 0.4069 - recall: 0.4089\n",
      "Epoch 88/100\n",
      "569/569 [==============================] - 0s 26us/sample - loss: 2.7765 - acc: 0.5483 - precision: 0.3826 - recall: 0.4335\n",
      "Epoch 89/100\n",
      "569/569 [==============================] - 0s 24us/sample - loss: 2.4915 - acc: 0.5554 - precision: 0.3874 - recall: 0.4236\n",
      "Epoch 90/100\n",
      "569/569 [==============================] - 0s 29us/sample - loss: 2.7550 - acc: 0.5817 - precision: 0.4208 - recall: 0.4581\n",
      "Epoch 91/100\n",
      "569/569 [==============================] - 0s 25us/sample - loss: 2.4943 - acc: 0.5571 - precision: 0.3930 - recall: 0.4433\n",
      "Epoch 92/100\n",
      "569/569 [==============================] - 0s 24us/sample - loss: 2.4772 - acc: 0.5694 - precision: 0.3971 - recall: 0.3990\n",
      "Epoch 93/100\n",
      "569/569 [==============================] - 0s 24us/sample - loss: 2.7914 - acc: 0.5606 - precision: 0.3907 - recall: 0.4138\n",
      "Epoch 94/100\n",
      "569/569 [==============================] - 0s 26us/sample - loss: 2.6184 - acc: 0.4956 - precision: 0.3250 - recall: 0.3842\n",
      "Epoch 95/100\n",
      "569/569 [==============================] - 0s 24us/sample - loss: 2.3714 - acc: 0.5940 - precision: 0.4346 - recall: 0.4581\n",
      "Epoch 96/100\n",
      "569/569 [==============================] - 0s 23us/sample - loss: 2.3501 - acc: 0.5308 - precision: 0.3571 - recall: 0.3941\n",
      "Epoch 97/100\n",
      "569/569 [==============================] - 0s 24us/sample - loss: 2.4626 - acc: 0.5747 - precision: 0.4101 - recall: 0.4384\n",
      "Epoch 98/100\n",
      "569/569 [==============================] - 0s 24us/sample - loss: 2.2406 - acc: 0.6028 - precision: 0.4480 - recall: 0.4877\n",
      "Epoch 99/100\n",
      "569/569 [==============================] - 0s 23us/sample - loss: 2.4656 - acc: 0.5185 - precision: 0.3394 - recall: 0.3695\n",
      "Epoch 100/100\n",
      "569/569 [==============================] - 0s 24us/sample - loss: 2.4754 - acc: 0.5518 - precision: 0.3725 - recall: 0.3744\n"
     ]
    }
   ],
   "source": [
    "train_history = estimator.fit(X_train, Y_train, epochs = 100, batch_size = 32)"
   ]
  },
  {
   "cell_type": "code",
   "execution_count": 78,
   "id": "965cda29-b9c4-4c3d-a96f-5078c5ba0fa5",
   "metadata": {},
   "outputs": [],
   "source": [
    "import csv\n",
    "\n",
    "with open('result.csv', 'w', newline='') as f:\n",
    "    thewriter = csv.writer(f)\n",
    "    \n",
    "    thewriter.writerow([data])"
   ]
  },
  {
   "cell_type": "code",
   "execution_count": 79,
   "id": "c461d560-44df-4ab0-ba5f-818bb94bcee8",
   "metadata": {},
   "outputs": [
    {
     "name": "stdout",
     "output_type": "stream",
     "text": [
      "dict_keys(['loss', 'acc', 'precision', 'recall'])\n"
     ]
    }
   ],
   "source": [
    "print(train_history.history.keys())"
   ]
  },
  {
   "cell_type": "code",
   "execution_count": 80,
   "id": "0d73aacf-b847-43e6-a1ee-4b8fe3dcb970",
   "metadata": {},
   "outputs": [
    {
     "ename": "NameError",
     "evalue": "name 'ticker' is not defined",
     "output_type": "error",
     "traceback": [
      "\u001b[1;31m---------------------------------------------------------------------------\u001b[0m",
      "\u001b[1;31mNameError\u001b[0m                                 Traceback (most recent call last)",
      "Input \u001b[1;32mIn [80]\u001b[0m, in \u001b[0;36m<cell line: 9>\u001b[1;34m()\u001b[0m\n\u001b[0;32m      4\u001b[0m hist \u001b[38;5;241m=\u001b[39m sns\u001b[38;5;241m.\u001b[39mlineplot(data\u001b[38;5;241m=\u001b[39mtrain_history\u001b[38;5;241m.\u001b[39mhistory[\u001b[38;5;124m'\u001b[39m\u001b[38;5;124mrecall\u001b[39m\u001b[38;5;124m'\u001b[39m], color\u001b[38;5;241m=\u001b[39m\u001b[38;5;124m\"\u001b[39m\u001b[38;5;124mindianred\u001b[39m\u001b[38;5;124m\"\u001b[39m, label\u001b[38;5;241m=\u001b[39m\u001b[38;5;124m'\u001b[39m\u001b[38;5;124mRecall\u001b[39m\u001b[38;5;124m'\u001b[39m)\n\u001b[0;32m      6\u001b[0m title \u001b[38;5;241m=\u001b[39m fig\u001b[38;5;241m.\u001b[39msuptitle(\u001b[38;5;124m\"\u001b[39m\u001b[38;5;124mACCURACY VS LOSS VS RECALL CUREVES\u001b[39m\u001b[38;5;124m\"\u001b[39m, x\u001b[38;5;241m=\u001b[39m\u001b[38;5;241m0.125\u001b[39m, y\u001b[38;5;241m=\u001b[39m\u001b[38;5;241m1.01\u001b[39m, ha\u001b[38;5;241m=\u001b[39m\u001b[38;5;124m'\u001b[39m\u001b[38;5;124mleft\u001b[39m\u001b[38;5;124m'\u001b[39m,\n\u001b[0;32m      7\u001b[0m              fontweight\u001b[38;5;241m=\u001b[39m\u001b[38;5;241m100\u001b[39m, fontfamily\u001b[38;5;241m=\u001b[39m\u001b[38;5;124m'\u001b[39m\u001b[38;5;124mLato\u001b[39m\u001b[38;5;124m'\u001b[39m, size\u001b[38;5;241m=\u001b[39m\u001b[38;5;241m37\u001b[39m)\n\u001b[1;32m----> 9\u001b[0m hist\u001b[38;5;241m.\u001b[39mxaxis\u001b[38;5;241m.\u001b[39mset_major_locator(\u001b[43mticker\u001b[49m\u001b[38;5;241m.\u001b[39mMultipleLocator(\u001b[38;5;241m20\u001b[39m))\n\u001b[0;32m     10\u001b[0m hist\u001b[38;5;241m.\u001b[39mxaxis\u001b[38;5;241m.\u001b[39mset_major_formatter(ticker\u001b[38;5;241m.\u001b[39mScalarFormatter())\n\u001b[0;32m     12\u001b[0m plt\u001b[38;5;241m.\u001b[39mlegend()\n",
      "\u001b[1;31mNameError\u001b[0m: name 'ticker' is not defined"
     ]
    },
    {
     "name": "stderr",
     "output_type": "stream",
     "text": [
      "findfont: Font family ['Lato'] not found. Falling back to DejaVu Sans.\n"
     ]
    },
    {
     "data": {
      "image/png": "[encoded data removed]",
      "text/plain": [
       "<Figure size 1584x576 with 1 Axes>"
      ]
     },
     "metadata": {
      "needs_background": "light"
     },
     "output_type": "display_data"
    }
   ],
   "source": [
    "\n",
    "fig = plt.figure(figsize=(22,8))\n",
    "hist = sns.lineplot(data=train_history.history['acc'], color=\"darkturquoise\", label='Accuracy')\n",
    "hist = sns.lineplot(data=train_history.history['loss'], color=\"chocolate\", label='Loss')\n",
    "hist = sns.lineplot(data=train_history.history['recall'], color=\"indianred\", label='Recall')\n",
    "\n",
    "title = fig.suptitle(\"ACCURACY VS LOSS VS RECALL CUREVES\", x=0.125, y=1.01, ha='left',\n",
    "             fontweight=100, fontfamily='Lato', size=37)\n",
    "\n",
    "hist.xaxis.set_major_locator(ticker.MultipleLocator(20))\n",
    "hist.xaxis.set_major_formatter(ticker.ScalarFormatter())\n",
    "\n",
    "plt.legend()\n",
    "plt.show()"
   ]
  },
  {
   "cell_type": "markdown",
   "id": "51e110fe-15c7-4883-92f6-93a8b11f5239",
   "metadata": {
    "tags": []
   },
   "source": [
    "### Conclusiones y Aprendizaje"
   ]
  },
  {
   "cell_type": "markdown",
   "id": "087cb10a-8576-4c78-9d9a-466062b41536",
   "metadata": {},
   "source": [
    "1. Existen variables en el DATASET irrelevantes para el análisis, ya que no representan información  como son:\n",
    "    -PassengerId\n",
    "    -Name\n",
    "\n",
    "2. Existen otras variables con valores faltantes:\n",
    "    -Age 0.1987  % missing values. Se decide imputar números aleatorios que se encuentren entre el 1er y 3er percentil.\n",
    "    -Cabin 0.771  % missing values. Se decide eliminar del análisis porque es casi el 80% de los datos, por lo que utilizar esta variable para un análisis predictivo no sería lo más correcto. Además que existen otras variables que pueden sustituir a esta, por ejemplo: Passenger_Class o Fare.\n",
    "    -Embarked 0.0022  % missing values. Son únicamente 2 valores y se imputan con la moda.\n",
    "    \n",
    "3. Existen variables que pueden considerarse como duplicadas para el análisis de predicción, como lo son Fare, Cabin y Passenger_Class, ya que estas 3 hacen referencia a la localidad o ubicación en las que se encontraban las personas, y se pueden clasificar en Clase Baja (Passenger_Class = \"Lower\", Passenger_Class = \"Middle\", Passenger_Class = \"Upper\").\n",
    "\n",
    "4. Después de hacer Features Engineering vemos que las variables que tiene correlación con la variable a predecir son:\n",
    "    -Age\n",
    "    -Fare-\n",
    "    -Embarked\n",
    "    -Passenger_Sex\n",
    "    -Passenger_Class\n",
    "    \n",
    "5. Las Variables que tienen mejor correlación con la variable Passenger_Survived son:\n",
    "    -Passenger_Class (0.34)\n",
    "    -Passenger_Sex (0.54)\n",
    "    \n",
    "6. El Modelo de Regresión Logística (0.80) y Árbol de Decisión (0.82) son los modelos que mejor resultados dan.\n",
    "\n",
    "7. El Modelo de K Folds es una técnica para validar el rendimiento o performance de nuestro modelo, que divide el set de datos y en cada iteración, una parte se convierte en el set de validaciones. \n",
    "\n",
    "8. El proceso de Feature Engineering es el proceso que más tiempo consume y en lo personal el más importante, porque de no hacerse los resultados no serán los esperandos. Como dice el dicho \"Garbage In, Garbage Out\" aplica para todo, incluido Machine Learning.\n",
    "\n",
    "9. Existen muchas variedades de modelos de predicción, y cada uno es muy particular, por lo que es necesario especializarse en cada uno y poder dominarlo para hacer mejores predicciones.\n",
    "\n",
    "10. \n",
    "\n",
    "\n"
   ]
  },
  {
   "cell_type": "markdown",
   "id": "b1d90a59-1f1a-4d7f-84ac-41dbf5523529",
   "metadata": {},
   "source": [
    "## Ensayo SVM"
   ]
  },
  {
   "cell_type": "markdown",
   "id": "7c04bf12-82f6-4f99-ae9a-59b58848609f",
   "metadata": {},
   "source": [
    "### Introducción\n",
    "\n",
    "##### Máquinas de Vector Soporte (Vector Support Machines, SVMs) es un algoritmo de clasificación y regresión. Aunque inicialmente se desarrolló como un método de clasificación binaria, su aplicación se ha extendido a problemas de clasificación múltiple y regresión. SVMs ha resultado ser uno de los mejores clasificadores para un amplio abanico de situaciones, por lo que se considera uno de los referentes dentro del ámbito de aprendizaje estadístico y machine learning.\n",
    "\n",
    "##### Las Máquinas de Vector Soporte se fundamentan en el Maximal Margin Classifier, que a su vez, se basa en el concepto de hiperplano. \n",
    "\n",
    "##### La librería Scikit Learn contiene implementaciones en Python de los principales algoritmos de SVM."
   ]
  },
  {
   "cell_type": "markdown",
   "id": "36408150-2fc2-427f-92df-2ed240d8ebb2",
   "metadata": {},
   "source": [
    "### Hiperplano y Maximal Margin Classifier\n",
    "\n",
    "##### En un espacio p-dimensional, un hiperplano se define como un subespacio plano y afín de dimensiones  p−1 . El término afín significa que el subespacio no tiene por qué pasar por el origen. En un espacio de dos dimensiones, el hiperplano es un subespacio de 1 dimensión, es decir, una recta. En un espacio tridimensional, un hiperplano es un subespacio de dos dimensiones, un plano convencional. Para dimensiones  p>3  no es intuitivo visualizar un hiperplano, pero el concepto de subespacio con  p−1  dimensiones se mantiene.\n",
    "\n",
    "##### La definición matemática de un hiperplano es bastante simple. En el caso de dos dimensiones, el hiperplano se describe acorde a la ecuación de una recta:"
   ]
  },
  {
   "cell_type": "markdown",
   "id": "31c9f862-8e56-4e51-b23d-fd7cf7df3789",
   "metadata": {},
   "source": [
    "$$ \\beta_0 + \\beta_1 * X_1 + \\beta_2 * X_2 = 0 $$ "
   ]
  },
  {
   "cell_type": "markdown",
   "id": "e702e2dc-187e-428f-a8ba-24556f115a55",
   "metadata": {},
   "source": [
    "##### Dados los parámetros  β0 ,  β1  y  β2 , todos los pares de valores  x=(x1,x2)  para los que se cumple la igualdad son puntos del hiperplano. Esta ecuación puede generalizarse para p-dimensiones:"
   ]
  },
  {
   "cell_type": "markdown",
   "id": "9e071e74-2f49-4f15-843b-6f9205ecbbe8",
   "metadata": {},
   "source": [
    "$$ \\beta_0 + \\beta_1 * X_1 + \\beta_2 * X_2 + ... + \\beta_p * X_p = 0 $$"
   ]
  },
  {
   "cell_type": "markdown",
   "id": "bbe8b245-637d-4c9d-a104-8fe4dcbd0132",
   "metadata": {},
   "source": [
    "##### y de igual manera, todos los puntos definidos por el vector  (x=x1,x2,...,xp)  que cumplen la ecuación pertenecen al hiperplano. Cuando  x  no satisface la ecuación:"
   ]
  },
  {
   "cell_type": "markdown",
   "id": "9f4cc9c8-48e3-4a00-931d-1240eb80f777",
   "metadata": {},
   "source": [
    "$$ \\beta_0 + \\beta_1 * X_1 + \\beta_2 * X_2 + ... + \\beta_p * X_p < 0 $$\n",
    "\n",
    "##### o bien\n",
    "\n",
    "$$ \\beta_0 + \\beta_1 * X_1 + \\beta_2 * X_2 + ... + \\beta_p * X_p > 0 $$"
   ]
  },
  {
   "cell_type": "markdown",
   "id": "0c9dd432-05a2-4148-b114-170621b5b468",
   "metadata": {},
   "source": [
    "##### el punto  x  cae a un lado o al otro del hiperplano. Así pues, se puede entender que un hiperplano divide un espacio p-dimensional en dos mitades. Para saber en qué lado del hiperplano se encuentra un determinado punto  x , solo hay que calcular el signo de la ecuación.\n",
    "\n",
    "##### La siguiente imagen muestra el hiperplano de un espacio bidimensional. La ecuación que describe el hiperplano (una recta) es  1+2x1+3x2=0 . La región azul representa el espacio en el que se encuentran todos los puntos para los que  1+2x1+3x2>0  y la región roja el de los puntos para los que  1+2x1+3x2<0 ."
   ]
  },
  {
   "attachments": {
    "9a64ad61-8d71-49f5-bbcb-d6a5ddff2528.PNG": {
     "image/png": "[encoded data removed]"
    }
   },
   "cell_type": "markdown",
   "id": "6723af01-2bf8-4ea0-b702-3d26a5324869",
   "metadata": {},
   "source": [
    "![Hiperplano de 2 separaciones.PNG](attachment:9a64ad61-8d71-49f5-bbcb-d6a5ddff2528.PNG)"
   ]
  },
  {
   "cell_type": "markdown",
   "id": "4caf214b-6c46-46ee-b728-054a5a0b7d28",
   "metadata": {},
   "source": [
    "### Clasificación binaria empleando un hiperplano"
   ]
  },
  {
   "cell_type": "markdown",
   "id": "011c612b-04ae-4eb0-8592-9ed83c1ae6ca",
   "metadata": {},
   "source": [
    "##### Cuando se dispone de  n  observaciones, cada una con  p  predictores y cuya variable respuesta tiene dos niveles (de aquí en adelante identificados como  +1  y  −1 ), se pueden emplear hiperplanos para construir un clasificador que permita predecir a qué grupo pertenece una observación en función de sus predictores.\n",
    "\n",
    "##### Para facilitar la comprensión, las siguientes explicaciones se basan en un espacio de dos dimensiones, donde un hiperplano es una recta. Sin embargo, los mismos conceptos son aplicables a dimensiones superiores.\n",
    "\n",
    "\n",
    "#### CASOS PERFECTAMENTE SEPARABLES LINEALMENTE\n",
    "\n",
    "##### Si la distribución de las observaciones es tal que se pueden separar linealmente de forma perfecta en las dos clases ( +1  y  −1 ), entonces, un hiperplano de separación cumple que:"
   ]
  },
  {
   "cell_type": "markdown",
   "id": "bbaf9d0e-6716-4216-b4c4-1f3c612ccfd3",
   "metadata": {},
   "source": [
    "$$ \\beta_0 + \\beta_1 * X_1 + \\beta_2 * X_2 + ... + \\beta_p * X_p > 0, si Y_i = 1 $$\n",
    "\n",
    "$$ \\beta_0 + \\beta_1 * X_1 + \\beta_2 * X_2 + ... + \\beta_p * X_p < 0, si Y_i = -1 $$"
   ]
  },
  {
   "cell_type": "markdown",
   "id": "31877fc9-b4de-4ef9-a9ca-6e4c10996c22",
   "metadata": {},
   "source": [
    "##### Bajo este escenario, el clasificador más sencillo consiste en asignar cada observación a una clase dependiendo del lado del hiperplano en el que se encuentre. Es decir, la observación  x*  se clasifica acorde al signo de la función  f(x*)=β0+β1x∗1+β2x∗2+...+βpx∗p . Si  x*  es positiva, la observación se asigna a la clase  +1 , si es negativa, a la clase  −1 . Además, la magnitud de  x*  permite saber cómo de lejos está la observación del hiperplano y con ello la confianza de la clasificación (no confundir esto con un valor de probabilidad).\n",
    "\n",
    "##### La definición de hiperplano para casos perfectamente separables linealmente resulta en un número infinito de posibles hiperplanos, lo que hace necesario un método que permita seleccionar uno de ellos como clasificador óptimo."
   ]
  },
  {
   "attachments": {
    "1c1c355a-56fa-4ac8-a25c-a1883a21d53e.PNG": {
     "image/png": "[encoded data removed]"
    }
   },
   "cell_type": "markdown",
   "id": "d077809f-4df0-4712-83d8-95e4eaa3c8af",
   "metadata": {},
   "source": [
    "![3 Posibles Hiperplanos.PNG](attachment:1c1c355a-56fa-4ac8-a25c-a1883a21d53e.PNG)"
   ]
  },
  {
   "cell_type": "markdown",
   "id": "5de06e5e-ed46-4dfc-8600-63d55eba85d7",
   "metadata": {},
   "source": [
    "##### La solución a este problema consiste en seleccionar como clasificador óptimo el hiperplano que se encuentra más alejado de todas las observaciones de entrenamiento. A este se le conoce como como maximal margin hyperplane o hiperplano óptimo de separación. Para identificarlo, se tiene que calcular la distancia perpendicular de cada observación a un determinado hiperplano. La menor de estas distancias (conocida como margen) determina cuán alejado está el hiperplano de las observaciones de entrenamiento. Así pues, el maximal margin hyperplane se define como el hiperplano que consigue un mayor margen, es decir, que la distancia mínima entre el hiperplano y las observaciones es lo más grande posible. Aunque esta idea suena razonable, no es posible aplicarla, ya que habría infinitos hiperplanos contra los que medir las distancias. En su lugar, se recurre a métodos de optimización dual."
   ]
  },
  {
   "attachments": {
    "1db65345-5dbb-4961-a26e-4024ae9ea6b8.PNG": {
     "image/png": "[encoded data removed]"
    }
   },
   "cell_type": "markdown",
   "id": "dbb99690-857d-4ba0-81d1-874a3416c4ba",
   "metadata": {},
   "source": [
    "![Maximal Margin.PNG](attachment:1db65345-5dbb-4961-a26e-4024ae9ea6b8.PNG)"
   ]
  },
  {
   "cell_type": "markdown",
   "id": "e27de28f-dd74-4aaf-bb79-615d9cd9e70e",
   "metadata": {},
   "source": [
    "##### La imagen anterior muestra el maximal margin hyperplane, formado por el hiperplano (línea negra continua y su margen (las dos líneas discontinuas). Las tres observaciones equidistantes respecto al maximal margin hyperplane que se encuentran a lo largo de las líneas discontinuas se les conoce como vectores soporte, ya que son vectores en un espacio p-dimensional y soportan (definen) el maximal margin hyperplane. Cualquier modificación en estas observaciones (vectores soporte) conlleva cambios en el maximal margin hyperplane. Sin embargo, modificaciones en observaciones que no son vector soporte no tienen impacto alguno en el hiperplano."
   ]
  },
  {
   "cell_type": "markdown",
   "id": "e271cc8b-0f19-489c-907c-a5136be3cf3a",
   "metadata": {},
   "source": [
    "### Support Vector Classifier o Soft Margin SVM"
   ]
  },
  {
   "cell_type": "markdown",
   "id": "153f4175-b967-4fda-a270-1964391f63e6",
   "metadata": {},
   "source": [
    "##### El Maximal Margin Classifier descrito en la sección anterior tiene poca aplicación práctica, ya que rara vez se encuentran casos en los que las clases sean perfecta y linealmente separables. De hecho, incluso cumpliéndose estas condiciones ideales, en las que exista un hiperplano capaz de separar perfectamente las observaciones en dos clases, esta aproximación sigue presentando dos inconvenientes:\n",
    "\n",
    "    -Dado que el hiperplano tiene que separar perfectamente las observaciones, es muy sensible a variaciones en los datos. Incluir una nueva observación puede suponer cambios muy grandes en el hiperplano de separación (poca robustez).\n",
    "\n",
    "    -Que el maximal margin hyperplane se ajuste perfectamente a las observaciones de entrenamiento para separarlas todas correctamente suele conllevar problemas de overfitting.\n",
    "\n",
    "##### Por estas razones, es preferible crear un clasificador basado en un hiperplano que, aunque no separe perfectamente las dos clases, sea más robusto y tenga mayor capacidad predictiva al aplicarlo a nuevas observaciones (menos problemas de overfitting). Esto es exactamente lo que consiguen los clasificadores de vector soporte, también conocidos como soft margin classifiers o Support Vector Classifiers. Para lograrlo, en lugar de buscar el margen de clasificación más ancho posible que consigue que las observaciones estén en el lado correcto del margen; se permite que ciertas observaciones estén en el lado incorrecto del margen o incluso del hiperplano.\n",
    "\n",
    "##### La siguiente imagen muestra un clasificador de vector soporte ajustado a un pequeño set de observaciones. La línea continua representa el hiperplano y las líneas discontinuas el margen a cada lado. Las observaciones 2, 3, 4, 5, 6, 7, 9 y 10 se encuentran en el lado correcto del margen (también del hiperplano) por lo que están bien clasificadas. Las observaciones 1 y 8, a pesar de que se encuentran dentro del margen, están en el lado correcto del hiperplano, por lo que también están bien clasificadas. Las observaciones 11 y 12, se encuentran en el lado erróneo del hiperplano, su clasificación es incorrecta. Todas aquellas observaciones que, estando dentro o fuera del margen, se encuentren en el lado incorrecto del hiperplano, se corresponden con observaciones de entrenamiento mal clasificadas."
   ]
  },
  {
   "attachments": {
    "78cc6734-b2bd-4df4-9d0b-692c1cd32618.PNG": {
     "image/png": "[encoded data removed]"
    }
   },
   "cell_type": "markdown",
   "id": "69b087e3-aea8-4d6c-bc8b-eea16cb8ed9e",
   "metadata": {},
   "source": [
    "![ISLR.PNG](attachment:78cc6734-b2bd-4df4-9d0b-692c1cd32618.PNG)"
   ]
  },
  {
   "cell_type": "markdown",
   "id": "c1316e99-8a07-425a-a7ec-0c157b7d080b",
   "metadata": {},
   "source": [
    "##### La identificación del hiperplano que clasifique correctamente la mayoría de las observaciones a excepción de unas pocas, es un problema de optimización convexa. Si bien la demostración matemática queda fuera del objetivo de esta introducción, es importante mencionar que el proceso incluye un hiperparámetro llamado  C .  C  controla el número y severidad de las violaciones del margen (y del hiperplano) que se toleran en el proceso de ajuste. Si  C=∞ , no se permite ninguna violación del margen y por lo tanto, el resultado es equivalente al Maximal Margin Classifier (teniendo en cuenta que esta solución solo es posible si las clases son perfectamente separables). Cuando más se aproxima  C  a cero, menos se penalizan los errores y más observaciones pueden estar en el lado incorrecto del margen o incluso del hiperplano.  C  es a fin de cuentas el hiperparámetro encargado de controlar el balance entre bias y varianza del modelo. En la práctica, su valor óptimo se identifica mediante validación cruzada.\n",
    "\n",
    "##### El proceso de optimización tiene la peculiaridad de que solo las observaciones que se encuentran justo en el margen o que lo violan influyen sobre el hiperplano. A estas observaciones se les conoce como vectores soporte y son las que definen el clasificador obtenido. Esta es la razón por la que el parámetro  C  controla el balance entre bias y varianza. Cuando el valor de  C  es pequeño, el margen es más ancho, y más observaciones violan el margen, convirtiéndose en vectores soporte. El hiperplano está, por lo tanto, sustentado por más observaciones, lo que aumenta el bias pero reduce la varianza. Cuando mayor es el valor de  C , menor el margen, menos observaciones son vectores soporte y el clasificador resultante tiene menor bias pero mayor varianza.\n",
    "\n",
    "##### Otra propiedad importante que deriva de que el hiperplano dependa únicamente de una pequeña proporción de observaciones (vectores soporte), es su robustez frente a observaciones muy alejadas del hiperplano. Esto hace al método de clasificación vector soporte distinto a otros métodos tales como Linear Discrimiant Analysis (LDA), donde la regla de clasificación depende de la media de todas las observaciones."
   ]
  },
  {
   "cell_type": "markdown",
   "id": "b16e09f0-9cb3-4438-9433-fc8ebf19d57d",
   "metadata": {},
   "source": [
    "#### Support Vector Machine"
   ]
  },
  {
   "cell_type": "markdown",
   "id": "ea89b06a-835d-4ade-aaa2-5bc474ffc4a5",
   "metadata": {},
   "source": [
    "##### El Support Vector Classifier descrito en los apartados anteriores consigue buenos resultados cuando el límite de separación entre clases es aproximadamente lineal. Si no lo es, su capacidad decae drásticamente. Una estrategia para enfrentarse a escenarios en los que la separación de los grupos es de tipo no lineal consiste en expandir las dimensiones del espacio original.\n",
    "\n",
    "##### El hecho de que los grupos no sean linealmente separables en el espacio original no significa que no lo sean en un espacio de mayores dimensiones. Las imágenes siguientes muestran dos grupos cuya separación en dos dimensiones no es lineal, pero sí lo es al añadir una tercera dimensión."
   ]
  },
  {
   "cell_type": "markdown",
   "id": "14a1719b-22c2-4f24-93a5-d898e88649be",
   "metadata": {},
   "source": [
    "##### El método de Máquinas Vector Soporte (SVM) se puede considerar como una extensión del Support Vector Classifier obtenida al aumentar la dimensión de los datos. Los límites de separación lineales generados en el espacio aumentado se convierten en límites de separación no lineales al proyectarlos en el espacio original."
   ]
  },
  {
   "attachments": {
    "c1b0a831-730e-4d17-bcaf-e6cc146eedc1.PNG": {
     "image/png": "[encoded data removed]"
    }
   },
   "cell_type": "markdown",
   "id": "954b90a6-e832-48d8-98a4-c2613be36f5a",
   "metadata": {},
   "source": [
    "![SupportVectorClassifier.PNG](attachment:c1b0a831-730e-4d17-bcaf-e6cc146eedc1.PNG)"
   ]
  },
  {
   "cell_type": "markdown",
   "id": "9e2ee573-26cc-4d3e-88c1-56b1682c3bb9",
   "metadata": {},
   "source": [
    "#### Aumento de la dimensión: kernels"
   ]
  },
  {
   "cell_type": "markdown",
   "id": "96b6729f-1ce8-4013-8ade-6009cd97a1c9",
   "metadata": {},
   "source": [
    "##### Una vez definido que las Máquinas de Vector Soporte siguen la misma estratégica que el Support Vector Classifier, pero aumentando la dimensión de los datos antes de aplicar el algoritmo, la pregunta inmediata es ¿Cómo se aumenta la dimensión y qué dimensión es la correcta?\n",
    "\n",
    "##### La dimensión de un conjunto de datos puede transformarse combinando o modificando cualquiera de sus dimensiones. Por ejemplo, se puede transformar un espacio de dos dimensiones en uno de tres aplicando la siguiente función:"
   ]
  },
  {
   "cell_type": "markdown",
   "id": "2b5412c2-946b-4ec9-ac61-e9c4f03d18bd",
   "metadata": {},
   "source": [
    "$$ f(X_1,X_2) = (X^2_1, \\sqrt{2X_1*X_2,} X2_2) $$"
   ]
  },
  {
   "cell_type": "markdown",
   "id": "ba0da95f-161b-463a-9718-c814523a14db",
   "metadata": {},
   "source": [
    "##### Esta es solo una de las infinitas transformaciones posibles, ¿Cómo saber cuál es la adecuada? Es aquí donde el concepto de kernel entra en juego. Un kernel (K) es una función que devuelve el resultado del producto escalar entre dos vectores realizado en un nuevo espacio dimensional distinto al espacio original en el que se encuentran los vectores. Aunque no se ha entrado en detalle en las fórmulas matemáticas empleadas para resolver el problema de optimización, esta contiene un producto escalar. Si se sustituye este producto escalar por un kernel, se obtienen directamente los vectores soporte (y el hiperplano) en la dimensión correspondiente al kernel. Ha esto se le suele conocer como kernel trickporque, con solo una ligera modificación del problema original, se puede obtener el resultado para cualquier dimensión. Existen multitud de kernels distintos, algunos de los más utilizados son:"
   ]
  },
  {
   "cell_type": "markdown",
   "id": "ba56f314-3c88-450e-af2e-ec6c7fb10753",
   "metadata": {},
   "source": [
    "##### **Kernel Lineal**\n",
    "\n",
    "$$ K (X, X^,) = X * X ^, $$"
   ]
  },
  {
   "cell_type": "markdown",
   "id": "a9e1ce35-982b-4949-8693-4307f2d470cb",
   "metadata": {},
   "source": [
    "##### Si se emplea un Kernel lineal, el clasificador Support Vector Machine obtenido es equivalente al Support Vector Classifier."
   ]
  },
  {
   "cell_type": "markdown",
   "id": "8cdec962-fe5e-4104-bdec-cd9c8c909de2",
   "metadata": {},
   "source": [
    "##### **Kernel Polinómico**\n",
    "\n",
    "$$ K (X, X^,) = (X * X ^, + c)^d $$"
   ]
  },
  {
   "cell_type": "markdown",
   "id": "e2006797-03a6-425b-afd3-1cc137ace460",
   "metadata": {},
   "source": [
    "##### **Gaussian Kernel (RBK)**\n",
    "\n",
    "$$ K (X, X^,) = exp (-\\gamma \\mid \\mid X - X ^, \\mid \\mid^2) $$"
   ]
  },
  {
   "cell_type": "markdown",
   "id": "d7c7525b-1d48-41f3-8afe-965322b1c165",
   "metadata": {},
   "source": [
    "##### El valor de  γ  controla el comportamiento del kernel, cuando es muy pequeño, el modelo final es equivalente al obtenido con un kernel lineal, a medida que aumenta su valor, también lo hace la flexibilidad del modelo.\n",
    "\n",
    "\n",
    "##### Los kernels descritos son solo unos pocos de los muchos que existen. Cada uno tiene una serie de hiperparámetros cuyo valor óptimo puede encontrarse mediante validación cruzada. No puede decirse que haya un kernel que supere al resto, depende en gran medida de la naturaleza del problema que se esté tratando. Ahora bien, tal como indican los autores de A Practical Guide to Support Vector Classification, es muy recomendable probar el kernel RBF. Este kernel tiene dos ventajas: que solo tiene dos hiperparámetros que optimizar ( γ  y la penalización  C  común a todos los SVM) y que su flexibilidad puede ir desde un clasificador lineal a uno muy complejo.\n"
   ]
  },
  {
   "cell_type": "markdown",
   "id": "5ac574c2-ef5b-4485-ac9c-7f5d5729808b",
   "metadata": {},
   "source": [
    "- https://www.youtube.com/watch?v=vMmG_7JcfIc\n",
    "- https://www.youtube.com/watch?v=pdR9_eylib8&t=6134s\n",
    "- https://www.youtube.com/watch?v=VWwb3IAB6Rc\n",
    "- https://www.youtube.com/watch?v=envRLLZmio8\n",
    "- https://github.com/yanshengjia/ml-road/blob/master/resources/Hands%20On%20Machine%20Learning%20with%20Scikit%20Learn%20and%20TensorFlow.pdf"
   ]
  },
  {
   "cell_type": "code",
   "execution_count": null,
   "id": "01b74d17-ecc3-4bee-924d-f84fc65971bb",
   "metadata": {},
   "outputs": [],
   "source": []
  }
 ],
 "metadata": {
  "kernelspec": {
   "display_name": "Python 3 (ipykernel)",
   "language": "python",
   "name": "python3"
  },
  "language_info": {
   "codemirror_mode": {
    "name": "ipython",
    "version": 3
   },
   "file_extension": ".py",
   "mimetype": "text/x-python",
   "name": "python",
   "nbconvert_exporter": "python",
   "pygments_lexer": "ipython3",
   "version": "3.9.12"
  }
 },
 "nbformat": 4,
 "nbformat_minor": 5
}
